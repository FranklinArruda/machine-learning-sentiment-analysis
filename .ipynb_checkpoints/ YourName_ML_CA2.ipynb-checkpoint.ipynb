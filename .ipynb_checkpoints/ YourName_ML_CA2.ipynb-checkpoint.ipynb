{
 "cells": [
  {
   "cell_type": "markdown",
   "id": "f3d232c9-489a-41f4-8078-e1208e8cc017",
   "metadata": {},
   "source": [
    "# Machine Learning Module, Data Analysis \n",
    "----------------------------------------\n",
    "\n",
    "- **Student Name:** `Franklin Arruda Cirino`\n",
    "- **Student Number:** `2021368`\n",
    "\n",
    "\n",
    "#### **Quick Notes:**  \n",
    " - Same as the first assignment, I am still catching up due to personal circumstances, having me to leave class a bit earlier than usual, relfecting on the learning and explation in class, however I have been reading the notes afterward, and this time I want to address the feedback directly and take to account the points made previously.\n",
    "   \n",
    " - The feedback mentioned that I should explain the **WHY** behind my choices more clearly, so I am making an effort to do that here.  \n"
   ]
  },
  {
   "cell_type": "markdown",
   "id": "cedaca0e-25c8-4d3e-a338-c00bf3e912fe",
   "metadata": {},
   "source": [
    "### I had to install the tensorflow library for my model later on as it was complaining when hit run"
   ]
  },
  {
   "cell_type": "code",
   "execution_count": 1,
   "id": "475c4dab-265b-4a71-8d91-1db96f97f0a8",
   "metadata": {},
   "outputs": [
    {
     "name": "stdout",
     "output_type": "stream",
     "text": [
      "Defaulting to user installation because normal site-packages is not writeable\n",
      "Requirement already satisfied: tensorflow in c:\\users\\student\\appdata\\roaming\\python\\python312\\site-packages (2.19.0)\n",
      "Requirement already satisfied: absl-py>=1.0.0 in c:\\users\\student\\appdata\\roaming\\python\\python312\\site-packages (from tensorflow) (2.2.2)\n",
      "Requirement already satisfied: astunparse>=1.6.0 in c:\\users\\student\\appdata\\roaming\\python\\python312\\site-packages (from tensorflow) (1.6.3)\n",
      "Requirement already satisfied: flatbuffers>=24.3.25 in c:\\users\\student\\appdata\\roaming\\python\\python312\\site-packages (from tensorflow) (25.2.10)\n",
      "Requirement already satisfied: gast!=0.5.0,!=0.5.1,!=0.5.2,>=0.2.1 in c:\\users\\student\\appdata\\roaming\\python\\python312\\site-packages (from tensorflow) (0.6.0)\n",
      "Requirement already satisfied: google-pasta>=0.1.1 in c:\\users\\student\\appdata\\roaming\\python\\python312\\site-packages (from tensorflow) (0.2.0)\n",
      "Requirement already satisfied: libclang>=13.0.0 in c:\\users\\student\\appdata\\roaming\\python\\python312\\site-packages (from tensorflow) (18.1.1)\n",
      "Requirement already satisfied: opt-einsum>=2.3.2 in c:\\users\\student\\appdata\\roaming\\python\\python312\\site-packages (from tensorflow) (3.4.0)\n",
      "Requirement already satisfied: packaging in c:\\programdata\\anaconda3\\lib\\site-packages (from tensorflow) (24.1)\n",
      "Requirement already satisfied: protobuf!=4.21.0,!=4.21.1,!=4.21.2,!=4.21.3,!=4.21.4,!=4.21.5,<6.0.0dev,>=3.20.3 in c:\\programdata\\anaconda3\\lib\\site-packages (from tensorflow) (4.25.3)\n",
      "Requirement already satisfied: requests<3,>=2.21.0 in c:\\programdata\\anaconda3\\lib\\site-packages (from tensorflow) (2.32.3)\n",
      "Requirement already satisfied: setuptools in c:\\programdata\\anaconda3\\lib\\site-packages (from tensorflow) (75.1.0)\n",
      "Requirement already satisfied: six>=1.12.0 in c:\\programdata\\anaconda3\\lib\\site-packages (from tensorflow) (1.16.0)\n",
      "Requirement already satisfied: termcolor>=1.1.0 in c:\\users\\student\\appdata\\roaming\\python\\python312\\site-packages (from tensorflow) (3.1.0)\n",
      "Requirement already satisfied: typing-extensions>=3.6.6 in c:\\programdata\\anaconda3\\lib\\site-packages (from tensorflow) (4.11.0)\n",
      "Requirement already satisfied: wrapt>=1.11.0 in c:\\programdata\\anaconda3\\lib\\site-packages (from tensorflow) (1.14.1)\n",
      "Requirement already satisfied: grpcio<2.0,>=1.24.3 in c:\\users\\student\\appdata\\roaming\\python\\python312\\site-packages (from tensorflow) (1.71.0)\n",
      "Requirement already satisfied: tensorboard~=2.19.0 in c:\\users\\student\\appdata\\roaming\\python\\python312\\site-packages (from tensorflow) (2.19.0)\n",
      "Requirement already satisfied: keras>=3.5.0 in c:\\users\\student\\appdata\\roaming\\python\\python312\\site-packages (from tensorflow) (3.9.2)\n",
      "Requirement already satisfied: numpy<2.2.0,>=1.26.0 in c:\\programdata\\anaconda3\\lib\\site-packages (from tensorflow) (1.26.4)\n",
      "Requirement already satisfied: h5py>=3.11.0 in c:\\programdata\\anaconda3\\lib\\site-packages (from tensorflow) (3.11.0)\n",
      "Requirement already satisfied: ml-dtypes<1.0.0,>=0.5.1 in c:\\users\\student\\appdata\\roaming\\python\\python312\\site-packages (from tensorflow) (0.5.1)\n",
      "Requirement already satisfied: wheel<1.0,>=0.23.0 in c:\\programdata\\anaconda3\\lib\\site-packages (from astunparse>=1.6.0->tensorflow) (0.44.0)\n",
      "Requirement already satisfied: rich in c:\\programdata\\anaconda3\\lib\\site-packages (from keras>=3.5.0->tensorflow) (13.7.1)\n",
      "Requirement already satisfied: namex in c:\\users\\student\\appdata\\roaming\\python\\python312\\site-packages (from keras>=3.5.0->tensorflow) (0.0.9)\n",
      "Requirement already satisfied: optree in c:\\users\\student\\appdata\\roaming\\python\\python312\\site-packages (from keras>=3.5.0->tensorflow) (0.15.0)\n",
      "Requirement already satisfied: charset-normalizer<4,>=2 in c:\\programdata\\anaconda3\\lib\\site-packages (from requests<3,>=2.21.0->tensorflow) (3.3.2)\n",
      "Requirement already satisfied: idna<4,>=2.5 in c:\\programdata\\anaconda3\\lib\\site-packages (from requests<3,>=2.21.0->tensorflow) (3.7)\n",
      "Requirement already satisfied: urllib3<3,>=1.21.1 in c:\\programdata\\anaconda3\\lib\\site-packages (from requests<3,>=2.21.0->tensorflow) (2.2.3)\n",
      "Requirement already satisfied: certifi>=2017.4.17 in c:\\programdata\\anaconda3\\lib\\site-packages (from requests<3,>=2.21.0->tensorflow) (2024.8.30)\n",
      "Requirement already satisfied: markdown>=2.6.8 in c:\\programdata\\anaconda3\\lib\\site-packages (from tensorboard~=2.19.0->tensorflow) (3.4.1)\n",
      "Requirement already satisfied: tensorboard-data-server<0.8.0,>=0.7.0 in c:\\users\\student\\appdata\\roaming\\python\\python312\\site-packages (from tensorboard~=2.19.0->tensorflow) (0.7.2)\n",
      "Requirement already satisfied: werkzeug>=1.0.1 in c:\\programdata\\anaconda3\\lib\\site-packages (from tensorboard~=2.19.0->tensorflow) (3.0.3)\n",
      "Requirement already satisfied: MarkupSafe>=2.1.1 in c:\\programdata\\anaconda3\\lib\\site-packages (from werkzeug>=1.0.1->tensorboard~=2.19.0->tensorflow) (2.1.3)\n",
      "Requirement already satisfied: markdown-it-py>=2.2.0 in c:\\programdata\\anaconda3\\lib\\site-packages (from rich->keras>=3.5.0->tensorflow) (2.2.0)\n",
      "Requirement already satisfied: pygments<3.0.0,>=2.13.0 in c:\\programdata\\anaconda3\\lib\\site-packages (from rich->keras>=3.5.0->tensorflow) (2.15.1)\n",
      "Requirement already satisfied: mdurl~=0.1 in c:\\programdata\\anaconda3\\lib\\site-packages (from markdown-it-py>=2.2.0->rich->keras>=3.5.0->tensorflow) (0.1.0)\n"
     ]
    }
   ],
   "source": [
    "!pip install tensorflow"
   ]
  },
  {
   "cell_type": "markdown",
   "id": "04ca8c7b-2eca-4361-a796-49cf292a9622",
   "metadata": {},
   "source": [
    "## **Part 1 - Neural Network for Income Prediction**\n",
    "### **1. Environment Setup**\n",
    "\n",
    "First, I need to set up the environment by importing the necessary libraries for data manipulation and machine learning. This includes **pandas** and **numpy** for data handling, as well as **tensorflow** for building my neural network.\n"
   ]
  },
  {
   "cell_type": "code",
   "execution_count": 2,
   "id": "77d1eeb1-9eb4-4486-a7e3-2349ab9821ed",
   "metadata": {},
   "outputs": [],
   "source": [
    "# Importing libraries\n",
    "import pandas as pd\n",
    "import numpy as np"
   ]
  },
  {
   "cell_type": "markdown",
   "id": "ee8798fa-c6ef-4d54-9b8d-fc57e75ea4cf",
   "metadata": {},
   "source": [
    "### **2. Loading and Inspecting the Dataset**\n",
    "This step is inspired by the Titanic notebook used in class, but I adapted again for this project."
   ]
  },
  {
   "cell_type": "code",
   "execution_count": 3,
   "id": "ae44cf40-c240-47e8-be26-47a233d8bd75",
   "metadata": {},
   "outputs": [],
   "source": [
    "# Loading the dataset (BankRecords.csv)\n",
    "df = pd.read_csv(r\"C:\\Users\\STUDENT\\Desktop\\ML-CA2-50\\BankRecords.csv\")"
   ]
  },
  {
   "cell_type": "markdown",
   "id": "9b0ccc24-da1f-471c-bab5-f0c535fd1cc5",
   "metadata": {},
   "source": [
    "#### Shape of the Dataset"
   ]
  },
  {
   "cell_type": "code",
   "execution_count": 4,
   "id": "97485bfb-d36b-446e-9c28-8ab4a711f727",
   "metadata": {},
   "outputs": [
    {
     "name": "stdout",
     "output_type": "stream",
     "text": [
      "\n",
      "Dataset Shape:\n",
      "(5000, 14)\n"
     ]
    }
   ],
   "source": [
    "# Checking shape of the dataset to understand the size\n",
    "print(\"\\nDataset Shape:\")\n",
    "print(df.shape) "
   ]
  },
  {
   "cell_type": "markdown",
   "id": "ea6d97c3-2ec4-4fae-b848-ef1e04bfdcbf",
   "metadata": {},
   "source": [
    "#### Sample rows OF dataset and cheking import was successful "
   ]
  },
  {
   "cell_type": "code",
   "execution_count": 5,
   "id": "5c7a24ca-b6e8-49aa-bd7c-3baab0bc21de",
   "metadata": {},
   "outputs": [
    {
     "name": "stdout",
     "output_type": "stream",
     "text": [
      "\n",
      "Sample of the Data:\n",
      "   ID  Age  Experience(Years)  Income(Thousands's)  Sort Code  Family  \\\n",
      "0   1   25                  1                   49      91107       4   \n",
      "1   2   45                 19                   34      90089       3   \n",
      "2   3   39                 15                   11      94720       1   \n",
      "3   4   35                  9                  100      94112       1   \n",
      "4   5   35                  8                   45      91330       4   \n",
      "\n",
      "   Credit Score Education  Mortgage(Thousands's) Personal Loan  \\\n",
      "0           1.6   Diploma                      0            No   \n",
      "1           1.5   Diploma                      0            No   \n",
      "2           1.0   Diploma                      0            No   \n",
      "3           2.7    Degree                      0            No   \n",
      "4           1.0    Degree                      0            No   \n",
      "\n",
      "  Securities Account CD Account Online Banking CreditCard  \n",
      "0                Yes         No             No         No  \n",
      "1                Yes         No             No         No  \n",
      "2                 No         No             No         No  \n",
      "3                 No         No             No         No  \n",
      "4                 No         No             No        Yes  \n"
     ]
    }
   ],
   "source": [
    "# Displaying a sample of the dataset\n",
    "print(\"\\nSample of the Data:\")\n",
    "print(df.head())  "
   ]
  },
  {
   "cell_type": "markdown",
   "id": "83d48519-e470-4ce3-8e02-f753b4a40785",
   "metadata": {},
   "source": [
    "---\n",
    "\n",
    "#### Checking Missing Values and Data Types, and memory usage:\n",
    "This is an improvement from my first assignment, where I overlooked the impact of **NaNs** until later on the project.\n",
    "\n",
    "Like, In my first assignment, I delayed checking for missing values and data types, which led to issues when training my models. This time, I am prioritizing this step to avoid similar mistakes because The feedback emphasized the importance of understanding the structure of the data early during the porject. Which would help me avoid the **\"late detection\"** problem I faced in my first assignment.\n",
    "\n",
    "During the research on how to make the initial steps better I also bumped into a very interesting thing about memory usage whhich can help larger datasets not be interrupted during the model training, therefore, avoiding being out of memory errors. \n",
    "\n",
    "Checking data types and memory usage taken from pandas documentation: (https://pandas.pydata.org/pandas-docs/stable/reference/api/pandas.DataFrame.info.html)\n",
    "\n"
   ]
  },
  {
   "cell_type": "markdown",
   "id": "048d316a-b3bf-4705-abb1-14a6c40011bb",
   "metadata": {},
   "source": [
    "##### Data Types and Memory Usage"
   ]
  },
  {
   "cell_type": "code",
   "execution_count": 6,
   "id": "123ef706-a54a-4424-9bff-f77627b53f27",
   "metadata": {},
   "outputs": [
    {
     "name": "stdout",
     "output_type": "stream",
     "text": [
      "\n",
      "Data Types and Memory Usage:\n",
      "<class 'pandas.core.frame.DataFrame'>\n",
      "RangeIndex: 5000 entries, 0 to 4999\n",
      "Data columns (total 14 columns):\n",
      " #   Column                 Non-Null Count  Dtype  \n",
      "---  ------                 --------------  -----  \n",
      " 0   ID                     5000 non-null   int64  \n",
      " 1   Age                    5000 non-null   int64  \n",
      " 2   Experience(Years)      5000 non-null   int64  \n",
      " 3   Income(Thousands's)    5000 non-null   int64  \n",
      " 4   Sort Code              5000 non-null   int64  \n",
      " 5   Family                 5000 non-null   int64  \n",
      " 6   Credit Score           5000 non-null   float64\n",
      " 7   Education              5000 non-null   object \n",
      " 8   Mortgage(Thousands's)  5000 non-null   int64  \n",
      " 9   Personal Loan          5000 non-null   object \n",
      " 10  Securities Account     5000 non-null   object \n",
      " 11  CD Account             5000 non-null   object \n",
      " 12  Online Banking         5000 non-null   object \n",
      " 13  CreditCard             5000 non-null   object \n",
      "dtypes: float64(1), int64(7), object(6)\n",
      "memory usage: 547.0+ KB\n",
      "None\n"
     ]
    }
   ],
   "source": [
    "# Checking data types and overall structure\n",
    "print(\"\\nData Types and Memory Usage:\")\n",
    "df_info = df.info()  # Checking data types and memory usage here...\n",
    "print(df_info)"
   ]
  },
  {
   "cell_type": "markdown",
   "id": "01827e65-bc05-46d6-b738-1adde8810116",
   "metadata": {},
   "source": [
    "##### Missing Values "
   ]
  },
  {
   "cell_type": "code",
   "execution_count": 7,
   "id": "2b20b411-46b8-4d4e-a24a-f7ef7ac042dc",
   "metadata": {},
   "outputs": [
    {
     "name": "stdout",
     "output_type": "stream",
     "text": [
      "\n",
      "Missing Values:\n",
      "ID                       0\n",
      "Age                      0\n",
      "Experience(Years)        0\n",
      "Income(Thousands's)      0\n",
      "Sort Code                0\n",
      "Family                   0\n",
      "Credit Score             0\n",
      "Education                0\n",
      "Mortgage(Thousands's)    0\n",
      "Personal Loan            0\n",
      "Securities Account       0\n",
      "CD Account               0\n",
      "Online Banking           0\n",
      "CreditCard               0\n",
      "dtype: int64\n"
     ]
    }
   ],
   "source": [
    "# Checking for missing values in each column this time\n",
    "print(\"\\nMissing Values:\")\n",
    "missing_values = df.isnull().sum()\n",
    "print(missing_values)"
   ]
  },
  {
   "cell_type": "markdown",
   "id": "ed6351ad-cb2c-45f6-8d89-43bd6f32792f",
   "metadata": {},
   "source": [
    "### **3. Data Cleaning and Preprocessing**\n",
    "\n",
    "To prepare the data for training, I dropped the **ID** column, converted the **Yes/No** columns to 1/0, and applied one-hot encoding to the **Education** column.\n",
    "\n",
    "#### Dropping the 'ID' column since it's just an identifier\n",
    "- I removed the 'ID' column because it’s just a number to identify each person. It doesn’t help the model learn anything, so I don’t need it.\n"
   ]
  },
  {
   "cell_type": "markdown",
   "id": "62995a14-33ee-49ca-a9e0-27a4b1814a86",
   "metadata": {},
   "source": []
  },
  {
   "cell_type": "code",
   "execution_count": 8,
   "id": "37190a64-233d-4d9c-941e-5d4fc80bac71",
   "metadata": {},
   "outputs": [
    {
     "name": "stdout",
     "output_type": "stream",
     "text": [
      "\n",
      "Dropping the 'ID' column...\n"
     ]
    }
   ],
   "source": [
    "print(\"\\nDropping the 'ID' column...\")\n",
    "df.drop(columns=['ID'], inplace=True)"
   ]
  },
  {
   "cell_type": "markdown",
   "id": "548c1d60-71c2-4f39-9876-f045ac3bd47c",
   "metadata": {},
   "source": [
    "#### Verifying the data after dropping 'ID'"
   ]
  },
  {
   "cell_type": "code",
   "execution_count": 9,
   "id": "21532854-851c-4eca-91df-6f4ae1663e3a",
   "metadata": {},
   "outputs": [
    {
     "name": "stdout",
     "output_type": "stream",
     "text": [
      "\n",
      "Data after dropping 'ID':\n",
      "   Age  Experience(Years)  Income(Thousands's)  Sort Code  Family  \\\n",
      "0   25                  1                   49      91107       4   \n",
      "1   45                 19                   34      90089       3   \n",
      "2   39                 15                   11      94720       1   \n",
      "3   35                  9                  100      94112       1   \n",
      "4   35                  8                   45      91330       4   \n",
      "\n",
      "   Credit Score Education  Mortgage(Thousands's) Personal Loan  \\\n",
      "0           1.6   Diploma                      0            No   \n",
      "1           1.5   Diploma                      0            No   \n",
      "2           1.0   Diploma                      0            No   \n",
      "3           2.7    Degree                      0            No   \n",
      "4           1.0    Degree                      0            No   \n",
      "\n",
      "  Securities Account CD Account Online Banking CreditCard  \n",
      "0                Yes         No             No         No  \n",
      "1                Yes         No             No         No  \n",
      "2                 No         No             No         No  \n",
      "3                 No         No             No         No  \n",
      "4                 No         No             No        Yes  \n"
     ]
    }
   ],
   "source": [
    "print(\"\\nData after dropping 'ID':\")\n",
    "print(df.head())"
   ]
  },
  {
   "cell_type": "markdown",
   "id": "c5023eb9-816e-4411-a0c9-985421088859",
   "metadata": {},
   "source": [
    "#### Binary encoding for 'Yes'/'No' columns\n",
    "\n",
    "These columns have \"Yes\" and \"No\" answers. I changed them to 1 for Yes and 0 for No. This is because computers work better with numbers..haha"
   ]
  },
  {
   "cell_type": "code",
   "execution_count": 10,
   "id": "a3f04c31-6111-4f4d-bc59-cd8b13ee2df7",
   "metadata": {},
   "outputs": [
    {
     "name": "stderr",
     "output_type": "stream",
     "text": [
      "C:\\Users\\STUDENT\\AppData\\Local\\Temp\\ipykernel_14904\\115265984.py:2: FutureWarning: Downcasting behavior in `replace` is deprecated and will be removed in a future version. To retain the old behavior, explicitly call `result.infer_objects(copy=False)`. To opt-in to the future behavior, set `pd.set_option('future.no_silent_downcasting', True)`\n",
      "  df[binary_cols] = df[binary_cols].replace({'No': 0, 'Yes': 1}).astype(int)\n"
     ]
    }
   ],
   "source": [
    "binary_cols = ['Personal Loan', 'Securities Account', 'CD Account', 'Online Banking', 'CreditCard']\n",
    "df[binary_cols] = df[binary_cols].replace({'No': 0, 'Yes': 1}).astype(int)"
   ]
  },
  {
   "cell_type": "markdown",
   "id": "8d37a1e3-9b7d-4f79-8ff0-81cd9e40caf5",
   "metadata": {},
   "source": [
    "#### Verifying the binary encoding\n",
    "\n",
    "I printed the first few rows to check if the Yes/No values changed correctly into 1 and 0."
   ]
  },
  {
   "cell_type": "code",
   "execution_count": 11,
   "id": "a06e3c68-9469-428c-ad9e-3bd6e5bf0c64",
   "metadata": {},
   "outputs": [
    {
     "name": "stdout",
     "output_type": "stream",
     "text": [
      "\n",
      "Sample of Binary Encoding:\n",
      "   Personal Loan  Securities Account  CD Account  Online Banking  CreditCard\n",
      "0              0                   1           0               0           0\n",
      "1              0                   1           0               0           0\n",
      "2              0                   0           0               0           0\n",
      "3              0                   0           0               0           0\n",
      "4              0                   0           0               0           1\n"
     ]
    }
   ],
   "source": [
    "print(\"\\nSample of Binary Encoding:\")\n",
    "print(df[binary_cols].head())"
   ]
  },
  {
   "cell_type": "markdown",
   "id": "ffc89db5-376f-43fa-ba1e-5dbc7745b805",
   "metadata": {},
   "source": [
    "#### One-Hot Encoding for the 'Education' column\n",
    "This is a nominal categorical feature, so one hot encoding might be appropriate here.\n",
    "\n",
    "I checked what different types of education are in the data, and how many people are in each group."
   ]
  },
  {
   "cell_type": "code",
   "execution_count": 12,
   "id": "0febd005-6ee7-4461-90fc-4382eb8084ce",
   "metadata": {},
   "outputs": [
    {
     "name": "stdout",
     "output_type": "stream",
     "text": [
      "\n",
      "Unique Values in 'Education':\n",
      "Education\n",
      "Diploma    2096\n",
      "Masters    1501\n",
      "Degree     1403\n",
      "Name: count, dtype: int64\n"
     ]
    }
   ],
   "source": [
    "print(\"\\nUnique Values in 'Education':\")\n",
    "print(df['Education'].value_counts())\n",
    "\n",
    "# I changed the 'Education' column into new columns with numbers. \n",
    "# Each new column is for one type of education. \n",
    "# I used drop_first=True so I don’t repeat the same info.\n",
    "df = pd.get_dummies(df, columns=['Education'], drop_first=False)"
   ]
  },
  {
   "cell_type": "markdown",
   "id": "020cadd7-b025-4b97-9bbd-f451169f469f",
   "metadata": {},
   "source": [
    "#### Converting the one-hot encoded columns to integers\n",
    "This avoids any future issues with boolean data types."
   ]
  },
  {
   "cell_type": "code",
   "execution_count": 13,
   "id": "8fca65ee-cf41-4b56-ba4e-9dfaeee8b839",
   "metadata": {},
   "outputs": [],
   "source": [
    "education_cols = [col for col in df.columns if 'Education_' in col]\n",
    "df[education_cols] = df[education_cols].astype(int)"
   ]
  },
  {
   "cell_type": "markdown",
   "id": "5b4b2f97-086c-4346-9df6-5a1ce8d2b4a2",
   "metadata": {},
   "source": [
    "#### Verifying the one-hot encoding , final check for the shape and Printing the columns before and after encoding for verification"
   ]
  },
  {
   "cell_type": "code",
   "execution_count": 14,
   "id": "fc01f5af-521f-4c14-b9b0-47bd00f7563b",
   "metadata": {},
   "outputs": [
    {
     "name": "stdout",
     "output_type": "stream",
     "text": [
      "\n",
      "Data after One-Hot Encoding 'Education':\n",
      "   Age  Experience(Years)  Income(Thousands's)  Sort Code  Family  \\\n",
      "0   25                  1                   49      91107       4   \n",
      "1   45                 19                   34      90089       3   \n",
      "2   39                 15                   11      94720       1   \n",
      "3   35                  9                  100      94112       1   \n",
      "4   35                  8                   45      91330       4   \n",
      "\n",
      "   Credit Score  Mortgage(Thousands's)  Personal Loan  Securities Account  \\\n",
      "0           1.6                      0              0                   1   \n",
      "1           1.5                      0              0                   1   \n",
      "2           1.0                      0              0                   0   \n",
      "3           2.7                      0              0                   0   \n",
      "4           1.0                      0              0                   0   \n",
      "\n",
      "   CD Account  Online Banking  CreditCard  Education_Degree  \\\n",
      "0           0               0           0                 0   \n",
      "1           0               0           0                 0   \n",
      "2           0               0           0                 0   \n",
      "3           0               0           0                 1   \n",
      "4           0               0           1                 1   \n",
      "\n",
      "   Education_Diploma  Education_Masters  \n",
      "0                  1                  0  \n",
      "1                  1                  0  \n",
      "2                  1                  0  \n",
      "3                  0                  0  \n",
      "4                  0                  0  \n"
     ]
    }
   ],
   "source": [
    "# Verifying the one-hot encoding\n",
    "print(\"\\nData after One-Hot Encoding 'Education':\")\n",
    "print(df.head())"
   ]
  },
  {
   "cell_type": "code",
   "execution_count": 15,
   "id": "a71a4a4a-eb8c-4710-912f-d59412a48c75",
   "metadata": {},
   "outputs": [
    {
     "name": "stdout",
     "output_type": "stream",
     "text": [
      "\n",
      "Dataset Shape After Encoding and Cleaning:\n",
      "(5000, 15)\n"
     ]
    }
   ],
   "source": [
    "# Printing all shape \n",
    "print(\"\\nDataset Shape After Encoding and Cleaning:\")\n",
    "print(df.shape)"
   ]
  },
  {
   "cell_type": "code",
   "execution_count": 16,
   "id": "7737c30c-b9de-4156-b1f7-a4f1cdff971e",
   "metadata": {},
   "outputs": [
    {
     "name": "stdout",
     "output_type": "stream",
     "text": [
      "\n",
      "Columns After One-Hot Encoding:\n",
      "Index(['Age', 'Experience(Years)', 'Income(Thousands's)', 'Sort Code',\n",
      "       'Family', 'Credit Score', 'Mortgage(Thousands's)', 'Personal Loan',\n",
      "       'Securities Account', 'CD Account', 'Online Banking', 'CreditCard',\n",
      "       'Education_Degree', 'Education_Diploma', 'Education_Masters'],\n",
      "      dtype='object')\n"
     ]
    }
   ],
   "source": [
    "# Printing the columns \n",
    "print(\"\\nColumns After One-Hot Encoding:\")\n",
    "print(df.columns)"
   ]
  },
  {
   "cell_type": "markdown",
   "id": "8cf1de8e-7dc4-4f04-9d6f-697775007985",
   "metadata": {},
   "source": [
    "#### Here I check for missing values after cleaning it up, but aparrently nothing has changed much other than the ID"
   ]
  },
  {
   "cell_type": "code",
   "execution_count": 17,
   "id": "2d1b9768-aeee-45c7-b8ae-e7827e74d8c1",
   "metadata": {},
   "outputs": [
    {
     "name": "stdout",
     "output_type": "stream",
     "text": [
      "\n",
      "Checking for Missing Values After Cleanup:\n",
      "Age                      0\n",
      "Experience(Years)        0\n",
      "Income(Thousands's)      0\n",
      "Sort Code                0\n",
      "Family                   0\n",
      "Credit Score             0\n",
      "Mortgage(Thousands's)    0\n",
      "Personal Loan            0\n",
      "Securities Account       0\n",
      "CD Account               0\n",
      "Online Banking           0\n",
      "CreditCard               0\n",
      "Education_Degree         0\n",
      "Education_Diploma        0\n",
      "Education_Masters        0\n",
      "dtype: int64\n"
     ]
    }
   ],
   "source": [
    "print(\"\\nChecking for Missing Values After Cleanup:\")\n",
    "print(df.isnull().sum())"
   ]
  },
  {
   "cell_type": "markdown",
   "id": "56108897-4c1e-401e-a555-9a43bde90fe5",
   "metadata": {},
   "source": [
    "### Summury of Dta Cleanup and Encoding \n",
    "\n",
    "- First, they removed the 'ID' column because it's just a label and not useful for the analysis. Then, I changed some yes/no columns into 0 and 1 to make them easier for the computer to understand. After that, it showed a quick sample to check if that worked.\n",
    "\n",
    "- After that, I looked at the 'Education' column and used one-hot encoding to turn it into multiple columns with numbers. I skipped the first category to avoid duplicate info.\n",
    "\n",
    "- At the end, I printed out the shape of the data and the column names to see how everything changed after the cleaning and encoding."
   ]
  },
  {
   "cell_type": "markdown",
   "id": "59cd5364-0f46-481c-babe-57d37601cb5c",
   "metadata": {},
   "source": [
    "### **4. Splitting the Data**\n",
    "\n",
    "Now, I split the data into training and testing sets to avoid data leakage and ensure a fair model evaluation.\n",
    "\n",
    "#### Creating and implementing 1 Regression algorithm and 1 Neural Network\n",
    "\n",
    "- So, this step is about defining my target variable and splitting the data into training and testing set. That is an important part of the machine learning workflow because it sets the stage for the training and for my models. \n",
    "\n",
    "- Basically, I want my model to learn patterns from the training sets and then test it how well can generalize using the test set.\n",
    "\n",
    "- If I don't split the data properly, my model might just memorize everything causing to 'overfitting' and fail when it sees new data. This step directly connects to the assignment requirement of using the \"Income(Thousand)\" column as the target for the Neural Network and Regressor comparison later."
   ]
  },
  {
   "cell_type": "markdown",
   "id": "c2401f3a-12aa-4aa6-876d-173228a0729d",
   "metadata": {},
   "source": []
  },
  {
   "cell_type": "code",
   "execution_count": 18,
   "id": "6d0f9584-3238-49e0-b4dd-c1ed407a00b2",
   "metadata": {},
   "outputs": [],
   "source": [
    "# imports\n",
    "from sklearn.model_selection import train_test_split\n",
    "\n",
    "# Splitting the data into features (X) and target (y)\n",
    "# X is everything except the target column, y is just the target column\n",
    "X = df.drop(columns=[\"Income(Thousands's)\"])  \n",
    "y = df[\"Income(Thousands's)\"]  "
   ]
  },
  {
   "cell_type": "markdown",
   "id": "bb8cb977-11e8-41dc-b72e-29a5d594ff8f",
   "metadata": {},
   "source": [
    "#### Doing the train-test split\n",
    "\n",
    "- Using 80% of the data for training and 20% for testing as good practice, which is pretty standard\n",
    "- why the 42? Well I asked this question in meet ups during the development of the final projetc, and I couldn't answer it.\n",
    "- Now I understand that this is to ensures that every time you run the code, you get the same training and testing sets, which becomes ajoke among data scientists on the inteene"
   ]
  },
  {
   "cell_type": "code",
   "execution_count": 19,
   "id": "414998bc-9fa1-4cee-85e4-00887010b692",
   "metadata": {},
   "outputs": [],
   "source": [
    "# Using 80% of the data for training and 20% for testing as good practice, which is pretty standard\n",
    "X_train, X_test, y_train, y_test = train_test_split(X, y, test_size=0.2, random_state=42)"
   ]
  },
  {
   "cell_type": "markdown",
   "id": "dca2e364-1b9b-45c4-9f2d-715446ca2122",
   "metadata": {},
   "source": [
    "#### Displaying the Split size for each part\n",
    "\n",
    "- Just Printing out the shapes to make sure everything looks good\n"
   ]
  },
  {
   "cell_type": "code",
   "execution_count": 20,
   "id": "a22e0ed3-7764-4ad2-8456-947f45a012f8",
   "metadata": {},
   "outputs": [
    {
     "name": "stdout",
     "output_type": "stream",
     "text": [
      "\n",
      "Training Features Shape: (4000, 14)\n",
      "Testing Features Shape: (1000, 14)\n",
      "Training Target Shape: (4000,)\n",
      "Testing Target Shape: (1000,)\n"
     ]
    }
   ],
   "source": [
    "# Printing them\n",
    "print(\"\\nTraining Features Shape:\", X_train.shape)\n",
    "print(\"Testing Features Shape:\", X_test.shape)\n",
    "print(\"Training Target Shape:\", y_train.shape)\n",
    "print(\"Testing Target Shape:\", y_test.shape)"
   ]
  },
  {
   "cell_type": "code",
   "execution_count": null,
   "id": "2872ef7f-9b53-4591-85c9-e86f12cced57",
   "metadata": {},
   "outputs": [],
   "source": []
  },
  {
   "cell_type": "markdown",
   "id": "7bab2328-7c4e-4460-b0a4-8dc362c48e56",
   "metadata": {},
   "source": [
    "#### Train-Test Split mini report\n",
    "That means we have 4000 samples for training and 1000 samples for testing, which is 80% for training and 20% for testing, a pretty standard ratio for machine learning projects as per good practice.\n",
    "\n",
    "The 14 features are what the model will use to learn all along, while the target (income) is the value we want it to predict usign the same data. Splitting the data this way helps us evaluate our model’s performance on data that isn't visible, preventing overfitting and possibly giving me a more realistic measure of how it will do in the real world just in case.\n",
    "\n",
    "I also included the distribution plot for the income target to check if our training and test sets have similar distributions, which is important for a balanced learning process as follows:\n",
    "\n",
    "----"
   ]
  },
  {
   "cell_type": "markdown",
   "id": "c3bc0ed0-ea18-4179-bd35-73140d62d819",
   "metadata": {},
   "source": [
    "#### Just doing a quick Check on Income Distribution\n",
    "Before jumping into model training, I plotted the training target (y_train) to get a sense of the income distribution.\n",
    "That is is a quick way to spot if the data is skewed or has outliers, which can mess with the model's learning.\n",
    "\n",
    "The plot uses 20 bins for a decent level of detail, with a bit of transparency (alpha=0.7) to keep it clean. This step is just to visualize the range of incomes we're trying to predict."
   ]
  },
  {
   "cell_type": "code",
   "execution_count": 21,
   "id": "e30d788f-f449-4cf6-be43-2af8a8b1dfa4",
   "metadata": {},
   "outputs": [
    {
     "data": {
      "image/png": "[encoded data removed]",
      "text/plain": [
       "<Figure size 640x480 with 1 Axes>"
      ]
     },
     "metadata": {},
     "output_type": "display_data"
    }
   ],
   "source": [
    "# The distribution of the target variable\n",
    "import matplotlib.pyplot as plt\n",
    "plt.hist(y_train, bins=20, alpha=0.7, color='skyblue', edgecolor='black')\n",
    "plt.title(\"Distribution of Training Target (Income)\")\n",
    "plt.xlabel(\"Income (Thousands)\")\n",
    "plt.ylabel(\"Frequency\")\n",
    "plt.show()"
   ]
  },
  {
   "cell_type": "markdown",
   "id": "18ff3da4-a68d-4252-9ba6-39bf3e192008",
   "metadata": {},
   "source": [
    "### **5. Building and Training the Neural Network**\n",
    "\n",
    "#### Setting Up the Neural Network Model\n",
    "\n",
    "- Here, I’m using Keras from TensorFlow to define a simple feedforward neural network.\n",
    "- The network structure is loosely inspired by the notes wepracticed in class. And Although I could not attend the last class due to illness, Imade sure to do a research on this topic.\n",
    "\n",
    "Which brings me to the basic idea of dense layers that can learn patterns in the data to predict customer income effectively. I took some inspiration from these references here and official Keras documentation, making sure I’m not over-complicating things right out of the gate...\n",
    "\n",
    "- Keras Sequential Model Guide (Accessed 17/05/2025)\n",
    "\n",
    "- Keras Sequential API (Accessed 17/05/2025)\n",
    "\n",
    "Also, referenced in the reference part int he end."
   ]
  },
  {
   "cell_type": "markdown",
   "id": "9d98675c-8094-4456-ba21-478f3040aec7",
   "metadata": {},
   "source": [
    "#### Imports and library & Defining the Model for prediction\n",
    "\n",
    "I built a Sequential neural network model with three hidden layers and dropout to reduce overfitting. I also set up early stopping to prevent the model from training too long.\n"
   ]
  },
  {
   "cell_type": "code",
   "execution_count": 22,
   "id": "42d72493-8050-46d5-af6f-a4ff9f4ad895",
   "metadata": {},
   "outputs": [],
   "source": [
    "import tensorflow as tf\n",
    "from tensorflow.keras.models import Sequential\n",
    "from tensorflow.keras.layers import Dense, Dropout\n",
    "\n",
    "# Defining the model\n",
    "model = Sequential()"
   ]
  },
  {
   "cell_type": "markdown",
   "id": "a284ba22-69a0-4feb-833b-d00c715d8fe8",
   "metadata": {},
   "source": [
    "#### Input Layer: \n",
    "- The number of inputs matches the 14 features we prepared earlier as showed above."
   ]
  },
  {
   "cell_type": "code",
   "execution_count": 23,
   "id": "0963ab79-2a1f-4cf7-ab7d-9620f439582b",
   "metadata": {},
   "outputs": [
    {
     "name": "stderr",
     "output_type": "stream",
     "text": [
      "C:\\Users\\STUDENT\\AppData\\Roaming\\Python\\Python312\\site-packages\\keras\\src\\layers\\core\\dense.py:87: UserWarning: Do not pass an `input_shape`/`input_dim` argument to a layer. When using Sequential models, prefer using an `Input(shape)` object as the first layer in the model instead.\n",
      "  super().__init__(activity_regularizer=activity_regularizer, **kwargs)\n"
     ]
    }
   ],
   "source": [
    "# Input layer and first hidden layer of the model\n",
    "model.add(Dense(units=64, input_dim=X_train.shape[1], activation='relu'))\n",
    "model.add(Dropout(0.3))"
   ]
  },
  {
   "cell_type": "markdown",
   "id": "e5075c9b-bba1-42ea-801b-331e63980c32",
   "metadata": {},
   "source": [
    "#### Hidden Layers: \n",
    "-  I’m using multiple layers to capture complex relationships. \n",
    "- I kept the layer sizes in descending order (64 → 32 → 16) to gradually reduce the data, which can help the model learn more abstract features."
   ]
  },
  {
   "cell_type": "code",
   "execution_count": 24,
   "id": "0ae2fdf2-8909-491a-91ba-feed7eee21f9",
   "metadata": {},
   "outputs": [],
   "source": [
    "# Second hidden layer\n",
    "model.add(Dense(units=32, activation='relu'))\n",
    "model.add(Dropout(0.3))\n",
    "\n",
    "# Third hidden layer\n",
    "model.add(Dense(units=16, activation='relu'))\n",
    "model.add(Dropout(0.3))"
   ]
  },
  {
   "cell_type": "markdown",
   "id": "4b5137db-7978-4cd9-b03b-636452377719",
   "metadata": {},
   "source": [
    "#### Output Layer: \n",
    "- Just one node because we’re predicting a single continuous value (income)."
   ]
  },
  {
   "cell_type": "code",
   "execution_count": 25,
   "id": "06e2320c-066e-4df7-9561-3d5969b555d4",
   "metadata": {},
   "outputs": [],
   "source": [
    "# Output layer (single node for regression)\n",
    "model.add(Dense(units=1, activation='linear'))"
   ]
  },
  {
   "cell_type": "markdown",
   "id": "7b190925-9d3d-4ebf-9718-172b105fd79a",
   "metadata": {},
   "source": [
    "#### Compiling model: \n",
    "\n",
    "- I compiled the model using the Adam optimizer because it adjusts the learning rate and works well for deep learning. For the loss, I picked Mean Squared Error since we’re predicting income. I also added Mean Absolute Error to easily see how far off the predictions are on average."
   ]
  },
  {
   "cell_type": "code",
   "execution_count": 26,
   "id": "ec1dbb03-e744-463e-ad4e-425211d9c2e9",
   "metadata": {},
   "outputs": [],
   "source": [
    "# Compiling the model\n",
    "model.compile(optimizer='adam', loss='mse', metrics=['mae'])"
   ]
  },
  {
   "cell_type": "markdown",
   "id": "7d6748c2-5f8b-4816-8dfc-6d9846ed9517",
   "metadata": {},
   "source": [
    "#### Model Summary\n",
    "- Finally, I used model.summary() to quickly check the network’s structure. It’s a good habit from the Keras guide to make sure everything looks right before starting training."
   ]
  },
  {
   "cell_type": "code",
   "execution_count": 27,
   "id": "a49c1c81-fb41-4f46-a1ed-052a68e8f589",
   "metadata": {},
   "outputs": [
    {
     "data": {
      "text/html": [
       "<pre style=\"white-space:pre;overflow-x:auto;line-height:normal;font-family:Menlo,'DejaVu Sans Mono',consolas,'Courier New',monospace\"><span style=\"font-weight: bold\">Model: \"sequential\"</span>\n",
       "</pre>\n"
      ],
      "text/plain": [
       "\u001b[1mModel: \"sequential\"\u001b[0m\n"
      ]
     },
     "metadata": {},
     "output_type": "display_data"
    },
    {
     "data": {
      "text/html": [
       "<pre style=\"white-space:pre;overflow-x:auto;line-height:normal;font-family:Menlo,'DejaVu Sans Mono',consolas,'Courier New',monospace\">┏━━━━━━━━━━━━━━━━━━━━━━━━━━━━━━━━━━━━━━┳━━━━━━━━━━━━━━━━━━━━━━━━━━━━━┳━━━━━━━━━━━━━━━━━┓\n",
       "┃<span style=\"font-weight: bold\"> Layer (type)                         </span>┃<span style=\"font-weight: bold\"> Output Shape                </span>┃<span style=\"font-weight: bold\">         Param # </span>┃\n",
       "┡━━━━━━━━━━━━━━━━━━━━━━━━━━━━━━━━━━━━━━╇━━━━━━━━━━━━━━━━━━━━━━━━━━━━━╇━━━━━━━━━━━━━━━━━┩\n",
       "│ dense (<span style=\"color: #0087ff; text-decoration-color: #0087ff\">Dense</span>)                        │ (<span style=\"color: #00d7ff; text-decoration-color: #00d7ff\">None</span>, <span style=\"color: #00af00; text-decoration-color: #00af00\">64</span>)                  │             <span style=\"color: #00af00; text-decoration-color: #00af00\">960</span> │\n",
       "├──────────────────────────────────────┼─────────────────────────────┼─────────────────┤\n",
       "│ dropout (<span style=\"color: #0087ff; text-decoration-color: #0087ff\">Dropout</span>)                    │ (<span style=\"color: #00d7ff; text-decoration-color: #00d7ff\">None</span>, <span style=\"color: #00af00; text-decoration-color: #00af00\">64</span>)                  │               <span style=\"color: #00af00; text-decoration-color: #00af00\">0</span> │\n",
       "├──────────────────────────────────────┼─────────────────────────────┼─────────────────┤\n",
       "│ dense_1 (<span style=\"color: #0087ff; text-decoration-color: #0087ff\">Dense</span>)                      │ (<span style=\"color: #00d7ff; text-decoration-color: #00d7ff\">None</span>, <span style=\"color: #00af00; text-decoration-color: #00af00\">32</span>)                  │           <span style=\"color: #00af00; text-decoration-color: #00af00\">2,080</span> │\n",
       "├──────────────────────────────────────┼─────────────────────────────┼─────────────────┤\n",
       "│ dropout_1 (<span style=\"color: #0087ff; text-decoration-color: #0087ff\">Dropout</span>)                  │ (<span style=\"color: #00d7ff; text-decoration-color: #00d7ff\">None</span>, <span style=\"color: #00af00; text-decoration-color: #00af00\">32</span>)                  │               <span style=\"color: #00af00; text-decoration-color: #00af00\">0</span> │\n",
       "├──────────────────────────────────────┼─────────────────────────────┼─────────────────┤\n",
       "│ dense_2 (<span style=\"color: #0087ff; text-decoration-color: #0087ff\">Dense</span>)                      │ (<span style=\"color: #00d7ff; text-decoration-color: #00d7ff\">None</span>, <span style=\"color: #00af00; text-decoration-color: #00af00\">16</span>)                  │             <span style=\"color: #00af00; text-decoration-color: #00af00\">528</span> │\n",
       "├──────────────────────────────────────┼─────────────────────────────┼─────────────────┤\n",
       "│ dropout_2 (<span style=\"color: #0087ff; text-decoration-color: #0087ff\">Dropout</span>)                  │ (<span style=\"color: #00d7ff; text-decoration-color: #00d7ff\">None</span>, <span style=\"color: #00af00; text-decoration-color: #00af00\">16</span>)                  │               <span style=\"color: #00af00; text-decoration-color: #00af00\">0</span> │\n",
       "├──────────────────────────────────────┼─────────────────────────────┼─────────────────┤\n",
       "│ dense_3 (<span style=\"color: #0087ff; text-decoration-color: #0087ff\">Dense</span>)                      │ (<span style=\"color: #00d7ff; text-decoration-color: #00d7ff\">None</span>, <span style=\"color: #00af00; text-decoration-color: #00af00\">1</span>)                   │              <span style=\"color: #00af00; text-decoration-color: #00af00\">17</span> │\n",
       "└──────────────────────────────────────┴─────────────────────────────┴─────────────────┘\n",
       "</pre>\n"
      ],
      "text/plain": [
       "┏━━━━━━━━━━━━━━━━━━━━━━━━━━━━━━━━━━━━━━┳━━━━━━━━━━━━━━━━━━━━━━━━━━━━━┳━━━━━━━━━━━━━━━━━┓\n",
       "┃\u001b[1m \u001b[0m\u001b[1mLayer (type)                        \u001b[0m\u001b[1m \u001b[0m┃\u001b[1m \u001b[0m\u001b[1mOutput Shape               \u001b[0m\u001b[1m \u001b[0m┃\u001b[1m \u001b[0m\u001b[1m        Param #\u001b[0m\u001b[1m \u001b[0m┃\n",
       "┡━━━━━━━━━━━━━━━━━━━━━━━━━━━━━━━━━━━━━━╇━━━━━━━━━━━━━━━━━━━━━━━━━━━━━╇━━━━━━━━━━━━━━━━━┩\n",
       "│ dense (\u001b[38;5;33mDense\u001b[0m)                        │ (\u001b[38;5;45mNone\u001b[0m, \u001b[38;5;34m64\u001b[0m)                  │             \u001b[38;5;34m960\u001b[0m │\n",
       "├──────────────────────────────────────┼─────────────────────────────┼─────────────────┤\n",
       "│ dropout (\u001b[38;5;33mDropout\u001b[0m)                    │ (\u001b[38;5;45mNone\u001b[0m, \u001b[38;5;34m64\u001b[0m)                  │               \u001b[38;5;34m0\u001b[0m │\n",
       "├──────────────────────────────────────┼─────────────────────────────┼─────────────────┤\n",
       "│ dense_1 (\u001b[38;5;33mDense\u001b[0m)                      │ (\u001b[38;5;45mNone\u001b[0m, \u001b[38;5;34m32\u001b[0m)                  │           \u001b[38;5;34m2,080\u001b[0m │\n",
       "├──────────────────────────────────────┼─────────────────────────────┼─────────────────┤\n",
       "│ dropout_1 (\u001b[38;5;33mDropout\u001b[0m)                  │ (\u001b[38;5;45mNone\u001b[0m, \u001b[38;5;34m32\u001b[0m)                  │               \u001b[38;5;34m0\u001b[0m │\n",
       "├──────────────────────────────────────┼─────────────────────────────┼─────────────────┤\n",
       "│ dense_2 (\u001b[38;5;33mDense\u001b[0m)                      │ (\u001b[38;5;45mNone\u001b[0m, \u001b[38;5;34m16\u001b[0m)                  │             \u001b[38;5;34m528\u001b[0m │\n",
       "├──────────────────────────────────────┼─────────────────────────────┼─────────────────┤\n",
       "│ dropout_2 (\u001b[38;5;33mDropout\u001b[0m)                  │ (\u001b[38;5;45mNone\u001b[0m, \u001b[38;5;34m16\u001b[0m)                  │               \u001b[38;5;34m0\u001b[0m │\n",
       "├──────────────────────────────────────┼─────────────────────────────┼─────────────────┤\n",
       "│ dense_3 (\u001b[38;5;33mDense\u001b[0m)                      │ (\u001b[38;5;45mNone\u001b[0m, \u001b[38;5;34m1\u001b[0m)                   │              \u001b[38;5;34m17\u001b[0m │\n",
       "└──────────────────────────────────────┴─────────────────────────────┴─────────────────┘\n"
      ]
     },
     "metadata": {},
     "output_type": "display_data"
    },
    {
     "data": {
      "text/html": [
       "<pre style=\"white-space:pre;overflow-x:auto;line-height:normal;font-family:Menlo,'DejaVu Sans Mono',consolas,'Courier New',monospace\"><span style=\"font-weight: bold\"> Total params: </span><span style=\"color: #00af00; text-decoration-color: #00af00\">3,585</span> (14.00 KB)\n",
       "</pre>\n"
      ],
      "text/plain": [
       "\u001b[1m Total params: \u001b[0m\u001b[38;5;34m3,585\u001b[0m (14.00 KB)\n"
      ]
     },
     "metadata": {},
     "output_type": "display_data"
    },
    {
     "data": {
      "text/html": [
       "<pre style=\"white-space:pre;overflow-x:auto;line-height:normal;font-family:Menlo,'DejaVu Sans Mono',consolas,'Courier New',monospace\"><span style=\"font-weight: bold\"> Trainable params: </span><span style=\"color: #00af00; text-decoration-color: #00af00\">3,585</span> (14.00 KB)\n",
       "</pre>\n"
      ],
      "text/plain": [
       "\u001b[1m Trainable params: \u001b[0m\u001b[38;5;34m3,585\u001b[0m (14.00 KB)\n"
      ]
     },
     "metadata": {},
     "output_type": "display_data"
    },
    {
     "data": {
      "text/html": [
       "<pre style=\"white-space:pre;overflow-x:auto;line-height:normal;font-family:Menlo,'DejaVu Sans Mono',consolas,'Courier New',monospace\"><span style=\"font-weight: bold\"> Non-trainable params: </span><span style=\"color: #00af00; text-decoration-color: #00af00\">0</span> (0.00 B)\n",
       "</pre>\n"
      ],
      "text/plain": [
       "\u001b[1m Non-trainable params: \u001b[0m\u001b[38;5;34m0\u001b[0m (0.00 B)\n"
      ]
     },
     "metadata": {},
     "output_type": "display_data"
    }
   ],
   "source": [
    "# Model summary for a quick check\n",
    "model.summary()"
   ]
  },
  {
   "cell_type": "markdown",
   "id": "3db182d4-d6a7-4280-9ede-b1b3c9915cbf",
   "metadata": {},
   "source": [
    "A quick overview about the modell I just defined. It’s a stack of Dense layers (64, 32, 16, and finally 1 unit), with Dropout layers in between to help prevent overfitting during the prediction. Each layer reduces the dimension a bit, and the final layer has one unit, which might works well for predicting a single continuous value since it is a regression task.\n",
    "\n",
    "The model has provided with 3,585 total parametersthis includes all the weights and biases that’ll be learned during training later."
   ]
  },
  {
   "cell_type": "markdown",
   "id": "5808d65d-ea36-4cd6-bfd3-ff8d1115e1d6",
   "metadata": {},
   "source": [
    "### Model Training and Validation\n",
    "Now that the model is defined, it’s time to actually train it. This is where the real learning happens. The model will go through the training data multiple times (epochs), adjusting its weights with each pass to minimize the error. This is called backpropagation.\n",
    "\n",
    "#### Why This is Important:\n",
    "- Learning from Data: This is the phase where the model truly learns the relationships in the data.\n",
    "\n",
    "- Avoiding Overfitting: Using early stopping helps prevent the model from just memorizing the training data.\n",
    "\n",
    "- Evaluating Performance: By validating the model on unseen data, we can check how well it generalizes.\n",
    "\n",
    "### Explanation of EarlyStopping in Keras\n",
    "The EarlyStopping callback in Keras is used to halt training when a monitored metric (such as validation loss) stops improving. This technique helps prevent overfitting and reduces unnecessary computation.\n",
    "\n",
    "In this part, EarlyStopping was configured to monitor validation loss and restore the best weights when performance stopped improving. For more details, you can refer to the following resources:\n",
    "\n",
    "- A Simple Guide to Prevent Overfitting (Medium) (Accessed 17/05/2025)\n",
    "\n",
    "- EarlyStopping Callback (Accessed 17/05/2025)\n",
    "\n",
    "Also, referenced in the reference part int he end."
   ]
  },
  {
   "cell_type": "code",
   "execution_count": 28,
   "id": "8502f24d-0354-417e-8541-1def2f95ccd0",
   "metadata": {},
   "outputs": [],
   "source": [
    "from tensorflow.keras.callbacks import EarlyStopping\n",
    "import matplotlib.pyplot as plt\n",
    "\n",
    "# This callback here will stop the training if the validation loss stops improving for 5 consecutive epochs, \n",
    "# which is a good way to prevent overfitting for the model.\n",
    "early_stopping = EarlyStopping(\n",
    "    monitor = 'val_loss', \n",
    "    patience = 5,          \n",
    "    restore_best_weights=True  \n",
    ")"
   ]
  },
  {
   "cell_type": "markdown",
   "id": "2657c63f-7c3e-4235-b5f2-3e08f5dff99c",
   "metadata": {},
   "source": [
    "- This setup instructs the model to monitor the validation loss (val_loss) and stop training if it dont improve for 5 consecutive epochs (patience=5). -\n",
    "\n",
    "- By setting restore_best_weights=True, the model is going to revert to the weights from the epoch with the best validation loss.\n"
   ]
  },
  {
   "cell_type": "markdown",
   "id": "32d90d4f-feb4-48c5-b28b-428538d5ded6",
   "metadata": {},
   "source": [
    "### Training the model Model Early Stopping using (Keras) too\n",
    "\n",
    "- The model fitting section in your code is where the actual training happens.\n",
    "  \n",
    "- You used the fit() function from the Sequential model, which is a core part of the Keras API.\n",
    "\n",
    "#### This approach is consistent with the Keras documentation:\n",
    "\n",
    "I got this approach from the Keras documentation, which says that the fit() method is for training models over a fixed number of loops (epochs) through the data. It also mentions that this method is where you set important things like batch size and callbacks, like EarlyStopping to avoid overfitting for the model."
   ]
  },
  {
   "cell_type": "code",
   "execution_count": 29,
   "id": "5ad8ecf1-f4c7-49fb-96b0-df6def206d04",
   "metadata": {},
   "outputs": [
    {
     "name": "stdout",
     "output_type": "stream",
     "text": [
      "Epoch 1/100\n",
      "\u001b[1m125/125\u001b[0m \u001b[32m━━━━━━━━━━━━━━━━━━━━\u001b[0m\u001b[37m\u001b[0m \u001b[1m2s\u001b[0m 4ms/step - loss: 96469088.0000 - mae: 6850.3223 - val_loss: 7498.1870 - val_mae: 78.1085\n",
      "Epoch 2/100\n",
      "\u001b[1m125/125\u001b[0m \u001b[32m━━━━━━━━━━━━━━━━━━━━\u001b[0m\u001b[37m\u001b[0m \u001b[1m0s\u001b[0m 2ms/step - loss: 5364023.5000 - mae: 1720.6346 - val_loss: 46938.4688 - val_mae: 211.5947\n",
      "Epoch 3/100\n",
      "\u001b[1m125/125\u001b[0m \u001b[32m━━━━━━━━━━━━━━━━━━━━\u001b[0m\u001b[37m\u001b[0m \u001b[1m0s\u001b[0m 2ms/step - loss: 1934184.3750 - mae: 962.1206 - val_loss: 7487.5332 - val_mae: 73.2599\n",
      "Epoch 4/100\n",
      "\u001b[1m125/125\u001b[0m \u001b[32m━━━━━━━━━━━━━━━━━━━━\u001b[0m\u001b[37m\u001b[0m \u001b[1m0s\u001b[0m 2ms/step - loss: 885416.0000 - mae: 598.4630 - val_loss: 7487.4912 - val_mae: 73.2596\n",
      "Epoch 5/100\n",
      "\u001b[1m125/125\u001b[0m \u001b[32m━━━━━━━━━━━━━━━━━━━━\u001b[0m\u001b[37m\u001b[0m \u001b[1m0s\u001b[0m 2ms/step - loss: 554648.6250 - mae: 424.4919 - val_loss: 7487.0376 - val_mae: 73.2565\n",
      "Epoch 6/100\n",
      "\u001b[1m125/125\u001b[0m \u001b[32m━━━━━━━━━━━━━━━━━━━━\u001b[0m\u001b[37m\u001b[0m \u001b[1m0s\u001b[0m 2ms/step - loss: 343430.0312 - mae: 307.9434 - val_loss: 7486.6196 - val_mae: 73.2537\n",
      "Epoch 7/100\n",
      "\u001b[1m125/125\u001b[0m \u001b[32m━━━━━━━━━━━━━━━━━━━━\u001b[0m\u001b[37m\u001b[0m \u001b[1m0s\u001b[0m 3ms/step - loss: 246803.6094 - mae: 239.1498 - val_loss: 7485.9795 - val_mae: 73.2493\n",
      "Epoch 8/100\n",
      "\u001b[1m125/125\u001b[0m \u001b[32m━━━━━━━━━━━━━━━━━━━━\u001b[0m\u001b[37m\u001b[0m \u001b[1m0s\u001b[0m 2ms/step - loss: 170327.5469 - mae: 202.7744 - val_loss: 7485.1670 - val_mae: 73.2437\n",
      "Epoch 9/100\n",
      "\u001b[1m125/125\u001b[0m \u001b[32m━━━━━━━━━━━━━━━━━━━━\u001b[0m\u001b[37m\u001b[0m \u001b[1m0s\u001b[0m 2ms/step - loss: 109747.9844 - mae: 168.5075 - val_loss: 7484.1797 - val_mae: 73.2370\n",
      "Epoch 10/100\n",
      "\u001b[1m125/125\u001b[0m \u001b[32m━━━━━━━━━━━━━━━━━━━━\u001b[0m\u001b[37m\u001b[0m \u001b[1m0s\u001b[0m 3ms/step - loss: 110273.7266 - mae: 157.3777 - val_loss: 7483.2271 - val_mae: 73.2305\n",
      "Epoch 11/100\n",
      "\u001b[1m125/125\u001b[0m \u001b[32m━━━━━━━━━━━━━━━━━━━━\u001b[0m\u001b[37m\u001b[0m \u001b[1m0s\u001b[0m 3ms/step - loss: 76852.5547 - mae: 138.7434 - val_loss: 7482.0508 - val_mae: 73.2225\n",
      "Epoch 12/100\n",
      "\u001b[1m125/125\u001b[0m \u001b[32m━━━━━━━━━━━━━━━━━━━━\u001b[0m\u001b[37m\u001b[0m \u001b[1m0s\u001b[0m 3ms/step - loss: 85169.1016 - mae: 130.8102 - val_loss: 7480.8760 - val_mae: 73.2144\n",
      "Epoch 13/100\n",
      "\u001b[1m125/125\u001b[0m \u001b[32m━━━━━━━━━━━━━━━━━━━━\u001b[0m\u001b[37m\u001b[0m \u001b[1m0s\u001b[0m 3ms/step - loss: 76077.7422 - mae: 125.9967 - val_loss: 7479.6206 - val_mae: 73.2059\n",
      "Epoch 14/100\n",
      "\u001b[1m125/125\u001b[0m \u001b[32m━━━━━━━━━━━━━━━━━━━━\u001b[0m\u001b[37m\u001b[0m \u001b[1m0s\u001b[0m 3ms/step - loss: 49936.7422 - mae: 116.5486 - val_loss: 7478.1816 - val_mae: 73.1960\n",
      "Epoch 15/100\n",
      "\u001b[1m125/125\u001b[0m \u001b[32m━━━━━━━━━━━━━━━━━━━━\u001b[0m\u001b[37m\u001b[0m \u001b[1m0s\u001b[0m 3ms/step - loss: 49174.9102 - mae: 107.8453 - val_loss: 7476.4282 - val_mae: 73.1840\n",
      "Epoch 16/100\n",
      "\u001b[1m125/125\u001b[0m \u001b[32m━━━━━━━━━━━━━━━━━━━━\u001b[0m\u001b[37m\u001b[0m \u001b[1m0s\u001b[0m 2ms/step - loss: 37535.7109 - mae: 103.1471 - val_loss: 7474.6660 - val_mae: 73.1720\n",
      "Epoch 17/100\n",
      "\u001b[1m125/125\u001b[0m \u001b[32m━━━━━━━━━━━━━━━━━━━━\u001b[0m\u001b[37m\u001b[0m \u001b[1m0s\u001b[0m 3ms/step - loss: 42909.8203 - mae: 103.8919 - val_loss: 7472.6685 - val_mae: 73.1584\n",
      "Epoch 18/100\n",
      "\u001b[1m125/125\u001b[0m \u001b[32m━━━━━━━━━━━━━━━━━━━━\u001b[0m\u001b[37m\u001b[0m \u001b[1m0s\u001b[0m 2ms/step - loss: 27291.4102 - mae: 93.6154 - val_loss: 7470.3691 - val_mae: 73.1426\n",
      "Epoch 19/100\n",
      "\u001b[1m125/125\u001b[0m \u001b[32m━━━━━━━━━━━━━━━━━━━━\u001b[0m\u001b[37m\u001b[0m \u001b[1m0s\u001b[0m 2ms/step - loss: 30750.1641 - mae: 96.8964 - val_loss: 7467.7622 - val_mae: 73.1248\n",
      "Epoch 20/100\n",
      "\u001b[1m125/125\u001b[0m \u001b[32m━━━━━━━━━━━━━━━━━━━━\u001b[0m\u001b[37m\u001b[0m \u001b[1m0s\u001b[0m 2ms/step - loss: 17784.1953 - mae: 85.5359 - val_loss: 7464.9448 - val_mae: 73.1056\n",
      "Epoch 21/100\n",
      "\u001b[1m125/125\u001b[0m \u001b[32m━━━━━━━━━━━━━━━━━━━━\u001b[0m\u001b[37m\u001b[0m \u001b[1m0s\u001b[0m 3ms/step - loss: 20766.9707 - mae: 89.7661 - val_loss: 7461.7788 - val_mae: 73.0839\n",
      "Epoch 22/100\n",
      "\u001b[1m125/125\u001b[0m \u001b[32m━━━━━━━━━━━━━━━━━━━━\u001b[0m\u001b[37m\u001b[0m \u001b[1m0s\u001b[0m 3ms/step - loss: 20443.2793 - mae: 86.8516 - val_loss: 7458.6880 - val_mae: 73.0628\n",
      "Epoch 23/100\n",
      "\u001b[1m125/125\u001b[0m \u001b[32m━━━━━━━━━━━━━━━━━━━━\u001b[0m\u001b[37m\u001b[0m \u001b[1m0s\u001b[0m 3ms/step - loss: 17173.9590 - mae: 81.2546 - val_loss: 7455.4033 - val_mae: 73.0403\n",
      "Epoch 24/100\n",
      "\u001b[1m125/125\u001b[0m \u001b[32m━━━━━━━━━━━━━━━━━━━━\u001b[0m\u001b[37m\u001b[0m \u001b[1m0s\u001b[0m 3ms/step - loss: 23012.0391 - mae: 84.6952 - val_loss: 7451.5410 - val_mae: 73.0138\n",
      "Epoch 25/100\n",
      "\u001b[1m125/125\u001b[0m \u001b[32m━━━━━━━━━━━━━━━━━━━━\u001b[0m\u001b[37m\u001b[0m \u001b[1m0s\u001b[0m 3ms/step - loss: 18758.9355 - mae: 83.2858 - val_loss: 7447.5654 - val_mae: 72.9866\n",
      "Epoch 26/100\n",
      "\u001b[1m125/125\u001b[0m \u001b[32m━━━━━━━━━━━━━━━━━━━━\u001b[0m\u001b[37m\u001b[0m \u001b[1m0s\u001b[0m 3ms/step - loss: 14548.9297 - mae: 79.6781 - val_loss: 7443.4473 - val_mae: 72.9584\n",
      "Epoch 27/100\n",
      "\u001b[1m125/125\u001b[0m \u001b[32m━━━━━━━━━━━━━━━━━━━━\u001b[0m\u001b[37m\u001b[0m \u001b[1m0s\u001b[0m 3ms/step - loss: 19685.3633 - mae: 79.5703 - val_loss: 7439.1426 - val_mae: 72.9289\n",
      "Epoch 28/100\n",
      "\u001b[1m125/125\u001b[0m \u001b[32m━━━━━━━━━━━━━━━━━━━━\u001b[0m\u001b[37m\u001b[0m \u001b[1m0s\u001b[0m 3ms/step - loss: 14313.5020 - mae: 78.9876 - val_loss: 7434.4653 - val_mae: 72.8968\n",
      "Epoch 29/100\n",
      "\u001b[1m125/125\u001b[0m \u001b[32m━━━━━━━━━━━━━━━━━━━━\u001b[0m\u001b[37m\u001b[0m \u001b[1m0s\u001b[0m 3ms/step - loss: 9282.3809 - mae: 74.5900 - val_loss: 7429.4033 - val_mae: 72.8621\n",
      "Epoch 30/100\n",
      "\u001b[1m125/125\u001b[0m \u001b[32m━━━━━━━━━━━━━━━━━━━━\u001b[0m\u001b[37m\u001b[0m \u001b[1m0s\u001b[0m 3ms/step - loss: 11751.9717 - mae: 75.4451 - val_loss: 7424.1855 - val_mae: 72.8262\n",
      "Epoch 31/100\n",
      "\u001b[1m125/125\u001b[0m \u001b[32m━━━━━━━━━━━━━━━━━━━━\u001b[0m\u001b[37m\u001b[0m \u001b[1m0s\u001b[0m 3ms/step - loss: 11747.3047 - mae: 76.6150 - val_loss: 7418.7568 - val_mae: 72.7890\n",
      "Epoch 32/100\n",
      "\u001b[1m125/125\u001b[0m \u001b[32m━━━━━━━━━━━━━━━━━━━━\u001b[0m\u001b[37m\u001b[0m \u001b[1m0s\u001b[0m 3ms/step - loss: 12086.8809 - mae: 75.1510 - val_loss: 7413.1953 - val_mae: 72.7508\n",
      "Epoch 33/100\n",
      "\u001b[1m125/125\u001b[0m \u001b[32m━━━━━━━━━━━━━━━━━━━━\u001b[0m\u001b[37m\u001b[0m \u001b[1m0s\u001b[0m 3ms/step - loss: 10105.1992 - mae: 73.3690 - val_loss: 7407.2246 - val_mae: 72.7097\n",
      "Epoch 34/100\n",
      "\u001b[1m125/125\u001b[0m \u001b[32m━━━━━━━━━━━━━━━━━━━━\u001b[0m\u001b[37m\u001b[0m \u001b[1m0s\u001b[0m 3ms/step - loss: 22554.5820 - mae: 77.6968 - val_loss: 7401.3662 - val_mae: 72.6694\n",
      "Epoch 35/100\n",
      "\u001b[1m125/125\u001b[0m \u001b[32m━━━━━━━━━━━━━━━━━━━━\u001b[0m\u001b[37m\u001b[0m \u001b[1m0s\u001b[0m 3ms/step - loss: 9675.0020 - mae: 73.6186 - val_loss: 7394.7832 - val_mae: 72.6241\n",
      "Epoch 36/100\n",
      "\u001b[1m125/125\u001b[0m \u001b[32m━━━━━━━━━━━━━━━━━━━━\u001b[0m\u001b[37m\u001b[0m \u001b[1m0s\u001b[0m 3ms/step - loss: 9506.2988 - mae: 70.4657 - val_loss: 7387.9331 - val_mae: 72.5769\n",
      "Epoch 37/100\n",
      "\u001b[1m125/125\u001b[0m \u001b[32m━━━━━━━━━━━━━━━━━━━━\u001b[0m\u001b[37m\u001b[0m \u001b[1m0s\u001b[0m 3ms/step - loss: 13771.8047 - mae: 74.2491 - val_loss: 7380.8486 - val_mae: 72.5281\n",
      "Epoch 38/100\n",
      "\u001b[1m125/125\u001b[0m \u001b[32m━━━━━━━━━━━━━━━━━━━━\u001b[0m\u001b[37m\u001b[0m \u001b[1m0s\u001b[0m 3ms/step - loss: 9063.5273 - mae: 71.8539 - val_loss: 7373.3696 - val_mae: 72.4765\n",
      "Epoch 39/100\n",
      "\u001b[1m125/125\u001b[0m \u001b[32m━━━━━━━━━━━━━━━━━━━━\u001b[0m\u001b[37m\u001b[0m \u001b[1m0s\u001b[0m 3ms/step - loss: 10582.3652 - mae: 70.8679 - val_loss: 7365.5552 - val_mae: 72.4226\n",
      "Epoch 40/100\n",
      "\u001b[1m125/125\u001b[0m \u001b[32m━━━━━━━━━━━━━━━━━━━━\u001b[0m\u001b[37m\u001b[0m \u001b[1m0s\u001b[0m 3ms/step - loss: 9724.7441 - mae: 68.8666 - val_loss: 5855.3555 - val_mae: 61.2245\n",
      "Epoch 41/100\n",
      "\u001b[1m125/125\u001b[0m \u001b[32m━━━━━━━━━━━━━━━━━━━━\u001b[0m\u001b[37m\u001b[0m \u001b[1m0s\u001b[0m 3ms/step - loss: 9081.4502 - mae: 65.4522 - val_loss: 4094.6394 - val_mae: 47.6070\n",
      "Epoch 42/100\n",
      "\u001b[1m125/125\u001b[0m \u001b[32m━━━━━━━━━━━━━━━━━━━━\u001b[0m\u001b[37m\u001b[0m \u001b[1m0s\u001b[0m 3ms/step - loss: 8900.9902 - mae: 62.4431 - val_loss: 4193.5273 - val_mae: 48.3658\n",
      "Epoch 43/100\n",
      "\u001b[1m125/125\u001b[0m \u001b[32m━━━━━━━━━━━━━━━━━━━━\u001b[0m\u001b[37m\u001b[0m \u001b[1m0s\u001b[0m 3ms/step - loss: 6705.9961 - mae: 58.4305 - val_loss: 4052.8965 - val_mae: 47.2871\n",
      "Epoch 44/100\n",
      "\u001b[1m125/125\u001b[0m \u001b[32m━━━━━━━━━━━━━━━━━━━━\u001b[0m\u001b[37m\u001b[0m \u001b[1m0s\u001b[0m 3ms/step - loss: 7294.6035 - mae: 60.0858 - val_loss: 3250.4578 - val_mae: 41.3301\n",
      "Epoch 45/100\n",
      "\u001b[1m125/125\u001b[0m \u001b[32m━━━━━━━━━━━━━━━━━━━━\u001b[0m\u001b[37m\u001b[0m \u001b[1m0s\u001b[0m 3ms/step - loss: 7339.7646 - mae: 58.0586 - val_loss: 3051.1311 - val_mae: 40.0094\n",
      "Epoch 46/100\n",
      "\u001b[1m125/125\u001b[0m \u001b[32m━━━━━━━━━━━━━━━━━━━━\u001b[0m\u001b[37m\u001b[0m \u001b[1m0s\u001b[0m 3ms/step - loss: 5640.8320 - mae: 56.2835 - val_loss: 3479.4946 - val_mae: 43.0158\n",
      "Epoch 47/100\n",
      "\u001b[1m125/125\u001b[0m \u001b[32m━━━━━━━━━━━━━━━━━━━━\u001b[0m\u001b[37m\u001b[0m \u001b[1m0s\u001b[0m 3ms/step - loss: 6658.3892 - mae: 56.9984 - val_loss: 3174.9675 - val_mae: 40.8019\n",
      "Epoch 48/100\n",
      "\u001b[1m125/125\u001b[0m \u001b[32m━━━━━━━━━━━━━━━━━━━━\u001b[0m\u001b[37m\u001b[0m \u001b[1m0s\u001b[0m 3ms/step - loss: 7239.2056 - mae: 57.6786 - val_loss: 2931.3191 - val_mae: 39.3310\n",
      "Epoch 49/100\n",
      "\u001b[1m125/125\u001b[0m \u001b[32m━━━━━━━━━━━━━━━━━━━━\u001b[0m\u001b[37m\u001b[0m \u001b[1m0s\u001b[0m 3ms/step - loss: 5783.9243 - mae: 55.7863 - val_loss: 3742.7632 - val_mae: 44.9422\n",
      "Epoch 50/100\n",
      "\u001b[1m125/125\u001b[0m \u001b[32m━━━━━━━━━━━━━━━━━━━━\u001b[0m\u001b[37m\u001b[0m \u001b[1m0s\u001b[0m 3ms/step - loss: 6323.2598 - mae: 56.4621 - val_loss: 2950.6646 - val_mae: 39.4337\n",
      "Epoch 51/100\n",
      "\u001b[1m125/125\u001b[0m \u001b[32m━━━━━━━━━━━━━━━━━━━━\u001b[0m\u001b[37m\u001b[0m \u001b[1m0s\u001b[0m 3ms/step - loss: 5005.1836 - mae: 53.2038 - val_loss: 2486.1667 - val_mae: 37.0520\n",
      "Epoch 52/100\n",
      "\u001b[1m125/125\u001b[0m \u001b[32m━━━━━━━━━━━━━━━━━━━━\u001b[0m\u001b[37m\u001b[0m \u001b[1m0s\u001b[0m 3ms/step - loss: 8662.0459 - mae: 56.9772 - val_loss: 2987.6077 - val_mae: 39.6361\n",
      "Epoch 53/100\n",
      "\u001b[1m125/125\u001b[0m \u001b[32m━━━━━━━━━━━━━━━━━━━━\u001b[0m\u001b[37m\u001b[0m \u001b[1m0s\u001b[0m 3ms/step - loss: 5996.7935 - mae: 53.9602 - val_loss: 2890.5305 - val_mae: 39.1188\n",
      "Epoch 54/100\n",
      "\u001b[1m125/125\u001b[0m \u001b[32m━━━━━━━━━━━━━━━━━━━━\u001b[0m\u001b[37m\u001b[0m \u001b[1m0s\u001b[0m 3ms/step - loss: 4851.2563 - mae: 52.5447 - val_loss: 2701.6460 - val_mae: 38.1161\n",
      "Epoch 55/100\n",
      "\u001b[1m125/125\u001b[0m \u001b[32m━━━━━━━━━━━━━━━━━━━━\u001b[0m\u001b[37m\u001b[0m \u001b[1m0s\u001b[0m 3ms/step - loss: 4961.8677 - mae: 52.9838 - val_loss: 2585.3940 - val_mae: 37.5180\n",
      "Epoch 56/100\n",
      "\u001b[1m125/125\u001b[0m \u001b[32m━━━━━━━━━━━━━━━━━━━━\u001b[0m\u001b[37m\u001b[0m \u001b[1m0s\u001b[0m 3ms/step - loss: 5034.8628 - mae: 52.1924 - val_loss: 3100.8547 - val_mae: 40.3167\n"
     ]
    }
   ],
   "source": [
    "# Training the model\n",
    "history = model.fit(\n",
    "    X_train, y_train,\n",
    "    validation_data = (X_test, y_test),\n",
    "    epochs = 100,\n",
    "    batch_size = 32,\n",
    "    callbacks = [early_stopping],\n",
    "    verbose = 1\n",
    ")"
   ]
  },
  {
   "cell_type": "markdown",
   "id": "c3934b7e-6d71-41ca-bd15-cc14c88c321b",
   "metadata": {},
   "source": [
    "### Training History Plot\n",
    "\n",
    "Plotting the training and validation loss over epochs is a very common practice to visualize the models performance and detect overfitting of this projetc, so I copied from ***stack Overflow*** and adapated to my own usage as follows.\n",
    "\n",
    "Also, following the tutorial from ***Machice Learning Mastery*** WEBSITE. Which is an approach that is widely used and recommended in various tutorials and guides, such as the one by Jason Brownlee here."
   ]
  },
  {
   "cell_type": "code",
   "execution_count": 30,
   "id": "2a231ad0-5fea-46fd-9902-de4ee037c493",
   "metadata": {},
   "outputs": [
    {
     "data": {
      "image/png": "[encoded data removed]",
      "text/plain": [
       "<Figure size 640x480 with 1 Axes>"
      ]
     },
     "metadata": {},
     "output_type": "display_data"
    }
   ],
   "source": [
    "# Plotting the training history\n",
    "plt.plot(history.history['loss'], label='Training Loss')\n",
    "plt.plot(history.history['val_loss'], label='Validation Loss')\n",
    "plt.title(\"Training and Validation Loss Over Epochs\")\n",
    "plt.xlabel(\"Epochs\")\n",
    "plt.ylabel(\"Loss (MSE)\")\n",
    "plt.legend()\n",
    "plt.show()"
   ]
  },
  {
   "cell_type": "markdown",
   "id": "535b09c9-e416-48de-83a6-3fcc51af52f7",
   "metadata": {},
   "source": [
    "#### Model training results and my Observations, as well as potential for improvements..."
   ]
  },
  {
   "cell_type": "markdown",
   "id": "26edae96-74a7-4f0d-a6e8-c1be7709b09b",
   "metadata": {},
   "source": [
    "##### Here is how I understood the Parameters and how it impacted on the findings from the above results\n",
    "##### X_train, y_train:\n",
    "This is training data and labels of the model.\n",
    "\n",
    "##### validation_data:\n",
    "This test set is used for validating the model after each epoch.\n",
    "\n",
    "##### epochs=100:\n",
    "This is the maximum number of training cycles.\n",
    "\n",
    "##### batch_size=32:\n",
    "This is number of samples processed before the model updates for each time.\n",
    "\n",
    "##### callbacks=\n",
    "Here it stops the training if the validation loss stops improving for each cycle.\n",
    "\n",
    "##### verbose=1:\n",
    "It shows the detailed logs during training while runnning.\n",
    "\n",
    "***( Undersding this part was crucial because it helped me to observe the findings and how to make improvements which brings me to the following observations during the training...)***\n",
    "\n",
    "\n",
    "### What I saw during training:\n",
    "( When I first trained my neural network, I noticed a few things.)\n",
    "\n",
    "- At the beginning, the loss and MAE were really high, but they went down very fast, which showed me that the model was starting to learn some patterns. That made me happy as it started to work out well...\n",
    "\n",
    "- After a few more epochs, the validation loss started going up. This is probably overfitting, which means that the model was doing well on the training data but not on the validation data possibly.\n",
    "\n",
    "- I read in the Keras training guide that this kind of thing can happen if the model is too big compared to the amount of data you would have for the model (Keras Documentation, checked on 17/05/2025).\n",
    "\n",
    "\n",
    "\n",
    "#### Plot Plot Analysis:\n",
    "The loss (MSE) on the vertical axis starts very low and gradually increases, which is a clear sign of overfitting of the model. The training loss decreases quickly as well, but the validation loss starts increasing after a few epochs all along, confirming what I saw in the training logs earlier.\n",
    "\n",
    "This behavior matches what the Keras documentation talks about, where they mention that the risk of overfitting if the model that is too big compared to the data size, so they suggested using dropout layers or reducing the number of layers to balance this to improvements, which after reading it the (Keras Documentation, Accessed 17/05/2025). I decided to alter the Earlier for the ***Training Model***. \n",
    "\n",
    "***(Lastly, for the improvements I decided to put it all in one single cell for both parts: \"The Model Improvements & Training Model\" as shows bellow to prevent confusion since this is only imrpovements)***\n"
   ]
  },
  {
   "cell_type": "markdown",
   "id": "54f734fd-f69c-4671-b4cb-edbdaa608da5",
   "metadata": {},
   "source": [
    "#### Simple Model Improvements\n",
    "\n",
    "- Based on the initial training observations, I made a few quick changes to reduce overfitting:\n",
    "\n",
    "- Increased Dropout: To make the model less reliant on specific neurons.\n",
    "\n",
    "- Reduced Neurons: Made the layers smaller to reduce model complexity.\n",
    "\n",
    "- Added L2 Regularization: To prevent large weights, which can lead to overfitting. "
   ]
  },
  {
   "cell_type": "code",
   "execution_count": 31,
   "id": "fcd01c72-6e27-4a71-b452-3ce5621cfbe9",
   "metadata": {},
   "outputs": [
    {
     "name": "stderr",
     "output_type": "stream",
     "text": [
      "C:\\Users\\STUDENT\\AppData\\Roaming\\Python\\Python312\\site-packages\\keras\\src\\layers\\core\\dense.py:87: UserWarning: Do not pass an `input_shape`/`input_dim` argument to a layer. When using Sequential models, prefer using an `Input(shape)` object as the first layer in the model instead.\n",
      "  super().__init__(activity_regularizer=activity_regularizer, **kwargs)\n"
     ]
    },
    {
     "data": {
      "text/html": [
       "<pre style=\"white-space:pre;overflow-x:auto;line-height:normal;font-family:Menlo,'DejaVu Sans Mono',consolas,'Courier New',monospace\"><span style=\"font-weight: bold\">Model: \"sequential_1\"</span>\n",
       "</pre>\n"
      ],
      "text/plain": [
       "\u001b[1mModel: \"sequential_1\"\u001b[0m\n"
      ]
     },
     "metadata": {},
     "output_type": "display_data"
    },
    {
     "data": {
      "text/html": [
       "<pre style=\"white-space:pre;overflow-x:auto;line-height:normal;font-family:Menlo,'DejaVu Sans Mono',consolas,'Courier New',monospace\">┏━━━━━━━━━━━━━━━━━━━━━━━━━━━━━━━━━━━━━━┳━━━━━━━━━━━━━━━━━━━━━━━━━━━━━┳━━━━━━━━━━━━━━━━━┓\n",
       "┃<span style=\"font-weight: bold\"> Layer (type)                         </span>┃<span style=\"font-weight: bold\"> Output Shape                </span>┃<span style=\"font-weight: bold\">         Param # </span>┃\n",
       "┡━━━━━━━━━━━━━━━━━━━━━━━━━━━━━━━━━━━━━━╇━━━━━━━━━━━━━━━━━━━━━━━━━━━━━╇━━━━━━━━━━━━━━━━━┩\n",
       "│ dense_4 (<span style=\"color: #0087ff; text-decoration-color: #0087ff\">Dense</span>)                      │ (<span style=\"color: #00d7ff; text-decoration-color: #00d7ff\">None</span>, <span style=\"color: #00af00; text-decoration-color: #00af00\">32</span>)                  │             <span style=\"color: #00af00; text-decoration-color: #00af00\">480</span> │\n",
       "├──────────────────────────────────────┼─────────────────────────────┼─────────────────┤\n",
       "│ dropout_3 (<span style=\"color: #0087ff; text-decoration-color: #0087ff\">Dropout</span>)                  │ (<span style=\"color: #00d7ff; text-decoration-color: #00d7ff\">None</span>, <span style=\"color: #00af00; text-decoration-color: #00af00\">32</span>)                  │               <span style=\"color: #00af00; text-decoration-color: #00af00\">0</span> │\n",
       "├──────────────────────────────────────┼─────────────────────────────┼─────────────────┤\n",
       "│ dense_5 (<span style=\"color: #0087ff; text-decoration-color: #0087ff\">Dense</span>)                      │ (<span style=\"color: #00d7ff; text-decoration-color: #00d7ff\">None</span>, <span style=\"color: #00af00; text-decoration-color: #00af00\">16</span>)                  │             <span style=\"color: #00af00; text-decoration-color: #00af00\">528</span> │\n",
       "├──────────────────────────────────────┼─────────────────────────────┼─────────────────┤\n",
       "│ dropout_4 (<span style=\"color: #0087ff; text-decoration-color: #0087ff\">Dropout</span>)                  │ (<span style=\"color: #00d7ff; text-decoration-color: #00d7ff\">None</span>, <span style=\"color: #00af00; text-decoration-color: #00af00\">16</span>)                  │               <span style=\"color: #00af00; text-decoration-color: #00af00\">0</span> │\n",
       "├──────────────────────────────────────┼─────────────────────────────┼─────────────────┤\n",
       "│ dense_6 (<span style=\"color: #0087ff; text-decoration-color: #0087ff\">Dense</span>)                      │ (<span style=\"color: #00d7ff; text-decoration-color: #00d7ff\">None</span>, <span style=\"color: #00af00; text-decoration-color: #00af00\">1</span>)                   │              <span style=\"color: #00af00; text-decoration-color: #00af00\">17</span> │\n",
       "└──────────────────────────────────────┴─────────────────────────────┴─────────────────┘\n",
       "</pre>\n"
      ],
      "text/plain": [
       "┏━━━━━━━━━━━━━━━━━━━━━━━━━━━━━━━━━━━━━━┳━━━━━━━━━━━━━━━━━━━━━━━━━━━━━┳━━━━━━━━━━━━━━━━━┓\n",
       "┃\u001b[1m \u001b[0m\u001b[1mLayer (type)                        \u001b[0m\u001b[1m \u001b[0m┃\u001b[1m \u001b[0m\u001b[1mOutput Shape               \u001b[0m\u001b[1m \u001b[0m┃\u001b[1m \u001b[0m\u001b[1m        Param #\u001b[0m\u001b[1m \u001b[0m┃\n",
       "┡━━━━━━━━━━━━━━━━━━━━━━━━━━━━━━━━━━━━━━╇━━━━━━━━━━━━━━━━━━━━━━━━━━━━━╇━━━━━━━━━━━━━━━━━┩\n",
       "│ dense_4 (\u001b[38;5;33mDense\u001b[0m)                      │ (\u001b[38;5;45mNone\u001b[0m, \u001b[38;5;34m32\u001b[0m)                  │             \u001b[38;5;34m480\u001b[0m │\n",
       "├──────────────────────────────────────┼─────────────────────────────┼─────────────────┤\n",
       "│ dropout_3 (\u001b[38;5;33mDropout\u001b[0m)                  │ (\u001b[38;5;45mNone\u001b[0m, \u001b[38;5;34m32\u001b[0m)                  │               \u001b[38;5;34m0\u001b[0m │\n",
       "├──────────────────────────────────────┼─────────────────────────────┼─────────────────┤\n",
       "│ dense_5 (\u001b[38;5;33mDense\u001b[0m)                      │ (\u001b[38;5;45mNone\u001b[0m, \u001b[38;5;34m16\u001b[0m)                  │             \u001b[38;5;34m528\u001b[0m │\n",
       "├──────────────────────────────────────┼─────────────────────────────┼─────────────────┤\n",
       "│ dropout_4 (\u001b[38;5;33mDropout\u001b[0m)                  │ (\u001b[38;5;45mNone\u001b[0m, \u001b[38;5;34m16\u001b[0m)                  │               \u001b[38;5;34m0\u001b[0m │\n",
       "├──────────────────────────────────────┼─────────────────────────────┼─────────────────┤\n",
       "│ dense_6 (\u001b[38;5;33mDense\u001b[0m)                      │ (\u001b[38;5;45mNone\u001b[0m, \u001b[38;5;34m1\u001b[0m)                   │              \u001b[38;5;34m17\u001b[0m │\n",
       "└──────────────────────────────────────┴─────────────────────────────┴─────────────────┘\n"
      ]
     },
     "metadata": {},
     "output_type": "display_data"
    },
    {
     "data": {
      "text/html": [
       "<pre style=\"white-space:pre;overflow-x:auto;line-height:normal;font-family:Menlo,'DejaVu Sans Mono',consolas,'Courier New',monospace\"><span style=\"font-weight: bold\"> Total params: </span><span style=\"color: #00af00; text-decoration-color: #00af00\">1,025</span> (4.00 KB)\n",
       "</pre>\n"
      ],
      "text/plain": [
       "\u001b[1m Total params: \u001b[0m\u001b[38;5;34m1,025\u001b[0m (4.00 KB)\n"
      ]
     },
     "metadata": {},
     "output_type": "display_data"
    },
    {
     "data": {
      "text/html": [
       "<pre style=\"white-space:pre;overflow-x:auto;line-height:normal;font-family:Menlo,'DejaVu Sans Mono',consolas,'Courier New',monospace\"><span style=\"font-weight: bold\"> Trainable params: </span><span style=\"color: #00af00; text-decoration-color: #00af00\">1,025</span> (4.00 KB)\n",
       "</pre>\n"
      ],
      "text/plain": [
       "\u001b[1m Trainable params: \u001b[0m\u001b[38;5;34m1,025\u001b[0m (4.00 KB)\n"
      ]
     },
     "metadata": {},
     "output_type": "display_data"
    },
    {
     "data": {
      "text/html": [
       "<pre style=\"white-space:pre;overflow-x:auto;line-height:normal;font-family:Menlo,'DejaVu Sans Mono',consolas,'Courier New',monospace\"><span style=\"font-weight: bold\"> Non-trainable params: </span><span style=\"color: #00af00; text-decoration-color: #00af00\">0</span> (0.00 B)\n",
       "</pre>\n"
      ],
      "text/plain": [
       "\u001b[1m Non-trainable params: \u001b[0m\u001b[38;5;34m0\u001b[0m (0.00 B)\n"
      ]
     },
     "metadata": {},
     "output_type": "display_data"
    }
   ],
   "source": [
    "from tensorflow.keras import regularizers\n",
    "\n",
    "# REFACTORED model with these small improvements\n",
    "improved_model = Sequential()\n",
    "\n",
    "# Input layer and first hidden layer\n",
    "improved_model.add(Dense(32, input_dim=X_train.shape[1], activation='relu', kernel_regularizer=regularizers.l2(0.001)))\n",
    "improved_model.add(Dropout(0.4))\n",
    "\n",
    "# Second hidden layer\n",
    "improved_model.add(Dense(16, activation='relu', kernel_regularizer=regularizers.l2(0.001)))\n",
    "improved_model.add(Dropout(0.4))\n",
    "\n",
    "# Output layer\n",
    "improved_model.add(Dense(1, activation='linear'))\n",
    "\n",
    "# Compile the model\n",
    "improved_model.compile(optimizer='adam', loss='mse', metrics=['mae'])\n",
    "\n",
    "# Quick summary to check the changes\n",
    "improved_model.summary()"
   ]
  },
  {
   "cell_type": "code",
   "execution_count": 32,
   "id": "899d495b-e4a4-49e2-9b74-675364b390ab",
   "metadata": {
    "scrolled": true
   },
   "outputs": [
    {
     "name": "stdout",
     "output_type": "stream",
     "text": [
      "Epoch 1/100\n",
      "\u001b[1m125/125\u001b[0m \u001b[32m━━━━━━━━━━━━━━━━━━━━\u001b[0m\u001b[37m\u001b[0m \u001b[1m2s\u001b[0m 4ms/step - loss: 331940544.0000 - mae: 12888.8184 - val_loss: 1217759.2500 - val_mae: 1102.3259\n",
      "Epoch 2/100\n",
      "\u001b[1m125/125\u001b[0m \u001b[32m━━━━━━━━━━━━━━━━━━━━\u001b[0m\u001b[37m\u001b[0m \u001b[1m0s\u001b[0m 2ms/step - loss: 25032424.0000 - mae: 3248.5276 - val_loss: 59669.4570 - val_mae: 239.8029\n",
      "Epoch 3/100\n",
      "\u001b[1m125/125\u001b[0m \u001b[32m━━━━━━━━━━━━━━━━━━━━\u001b[0m\u001b[37m\u001b[0m \u001b[1m0s\u001b[0m 2ms/step - loss: 7861857.5000 - mae: 1549.7482 - val_loss: 7473.3398 - val_mae: 73.1628\n",
      "Epoch 4/100\n",
      "\u001b[1m125/125\u001b[0m \u001b[32m━━━━━━━━━━━━━━━━━━━━\u001b[0m\u001b[37m\u001b[0m \u001b[1m0s\u001b[0m 2ms/step - loss: 4367292.5000 - mae: 1058.1644 - val_loss: 7472.3403 - val_mae: 73.1559\n",
      "Epoch 5/100\n",
      "\u001b[1m125/125\u001b[0m \u001b[32m━━━━━━━━━━━━━━━━━━━━\u001b[0m\u001b[37m\u001b[0m \u001b[1m0s\u001b[0m 2ms/step - loss: 2179805.0000 - mae: 652.9135 - val_loss: 7471.6094 - val_mae: 73.1509\n",
      "Epoch 6/100\n",
      "\u001b[1m125/125\u001b[0m \u001b[32m━━━━━━━━━━━━━━━━━━━━\u001b[0m\u001b[37m\u001b[0m \u001b[1m0s\u001b[0m 2ms/step - loss: 1132480.2500 - mae: 361.5083 - val_loss: 7470.8833 - val_mae: 73.1460\n",
      "Epoch 7/100\n",
      "\u001b[1m125/125\u001b[0m \u001b[32m━━━━━━━━━━━━━━━━━━━━\u001b[0m\u001b[37m\u001b[0m \u001b[1m0s\u001b[0m 3ms/step - loss: 847424.8125 - mae: 289.2493 - val_loss: 7470.1748 - val_mae: 73.1411\n",
      "Epoch 8/100\n",
      "\u001b[1m125/125\u001b[0m \u001b[32m━━━━━━━━━━━━━━━━━━━━\u001b[0m\u001b[37m\u001b[0m \u001b[1m0s\u001b[0m 2ms/step - loss: 837111.7500 - mae: 256.7854 - val_loss: 7469.3525 - val_mae: 73.1355\n",
      "Epoch 9/100\n",
      "\u001b[1m125/125\u001b[0m \u001b[32m━━━━━━━━━━━━━━━━━━━━\u001b[0m\u001b[37m\u001b[0m \u001b[1m0s\u001b[0m 3ms/step - loss: 533943.2500 - mae: 211.2514 - val_loss: 7468.4629 - val_mae: 73.1294\n",
      "Epoch 10/100\n",
      "\u001b[1m125/125\u001b[0m \u001b[32m━━━━━━━━━━━━━━━━━━━━\u001b[0m\u001b[37m\u001b[0m \u001b[1m0s\u001b[0m 2ms/step - loss: 381572.3438 - mae: 197.2848 - val_loss: 7467.5010 - val_mae: 73.1229\n",
      "Epoch 11/100\n",
      "\u001b[1m125/125\u001b[0m \u001b[32m━━━━━━━━━━━━━━━━━━━━\u001b[0m\u001b[37m\u001b[0m \u001b[1m0s\u001b[0m 2ms/step - loss: 245792.1250 - mae: 170.1626 - val_loss: 7466.4673 - val_mae: 73.1158\n",
      "Epoch 12/100\n",
      "\u001b[1m125/125\u001b[0m \u001b[32m━━━━━━━━━━━━━━━━━━━━\u001b[0m\u001b[37m\u001b[0m \u001b[1m0s\u001b[0m 2ms/step - loss: 412471.9688 - mae: 196.1016 - val_loss: 7465.3477 - val_mae: 73.1081\n",
      "Epoch 13/100\n",
      "\u001b[1m125/125\u001b[0m \u001b[32m━━━━━━━━━━━━━━━━━━━━\u001b[0m\u001b[37m\u001b[0m \u001b[1m0s\u001b[0m 3ms/step - loss: 317884.2812 - mae: 172.8466 - val_loss: 7464.1206 - val_mae: 73.0997\n",
      "Epoch 14/100\n",
      "\u001b[1m125/125\u001b[0m \u001b[32m━━━━━━━━━━━━━━━━━━━━\u001b[0m\u001b[37m\u001b[0m \u001b[1m0s\u001b[0m 2ms/step - loss: 298476.1250 - mae: 178.9470 - val_loss: 7462.8521 - val_mae: 73.0910\n",
      "Epoch 15/100\n",
      "\u001b[1m125/125\u001b[0m \u001b[32m━━━━━━━━━━━━━━━━━━━━\u001b[0m\u001b[37m\u001b[0m \u001b[1m0s\u001b[0m 2ms/step - loss: 171512.3281 - mae: 145.1182 - val_loss: 7461.5723 - val_mae: 73.0823\n",
      "Epoch 16/100\n",
      "\u001b[1m125/125\u001b[0m \u001b[32m━━━━━━━━━━━━━━━━━━━━\u001b[0m\u001b[37m\u001b[0m \u001b[1m0s\u001b[0m 2ms/step - loss: 192434.7500 - mae: 146.8833 - val_loss: 7460.1865 - val_mae: 73.0728\n",
      "Epoch 17/100\n",
      "\u001b[1m125/125\u001b[0m \u001b[32m━━━━━━━━━━━━━━━━━━━━\u001b[0m\u001b[37m\u001b[0m \u001b[1m0s\u001b[0m 2ms/step - loss: 242255.0938 - mae: 142.8539 - val_loss: 7458.6963 - val_mae: 73.0626\n",
      "Epoch 18/100\n",
      "\u001b[1m125/125\u001b[0m \u001b[32m━━━━━━━━━━━━━━━━━━━━\u001b[0m\u001b[37m\u001b[0m \u001b[1m0s\u001b[0m 2ms/step - loss: 116842.2812 - mae: 122.5625 - val_loss: 7457.0806 - val_mae: 73.0516\n",
      "Epoch 19/100\n",
      "\u001b[1m125/125\u001b[0m \u001b[32m━━━━━━━━━━━━━━━━━━━━\u001b[0m\u001b[37m\u001b[0m \u001b[1m0s\u001b[0m 2ms/step - loss: 250868.6406 - mae: 150.9713 - val_loss: 7455.2559 - val_mae: 73.0391\n",
      "Epoch 20/100\n",
      "\u001b[1m125/125\u001b[0m \u001b[32m━━━━━━━━━━━━━━━━━━━━\u001b[0m\u001b[37m\u001b[0m \u001b[1m0s\u001b[0m 3ms/step - loss: 212879.7188 - mae: 138.3940 - val_loss: 7453.6201 - val_mae: 73.0279\n",
      "Epoch 21/100\n",
      "\u001b[1m125/125\u001b[0m \u001b[32m━━━━━━━━━━━━━━━━━━━━\u001b[0m\u001b[37m\u001b[0m \u001b[1m0s\u001b[0m 2ms/step - loss: 112056.5625 - mae: 116.7476 - val_loss: 7451.9829 - val_mae: 73.0166\n",
      "Epoch 22/100\n",
      "\u001b[1m125/125\u001b[0m \u001b[32m━━━━━━━━━━━━━━━━━━━━\u001b[0m\u001b[37m\u001b[0m \u001b[1m0s\u001b[0m 3ms/step - loss: 331032.9062 - mae: 125.3262 - val_loss: 7450.2788 - val_mae: 73.0050\n",
      "Epoch 23/100\n",
      "\u001b[1m125/125\u001b[0m \u001b[32m━━━━━━━━━━━━━━━━━━━━\u001b[0m\u001b[37m\u001b[0m \u001b[1m0s\u001b[0m 3ms/step - loss: 29702.7363 - mae: 84.6281 - val_loss: 7448.4019 - val_mae: 72.9921\n",
      "Epoch 24/100\n",
      "\u001b[1m125/125\u001b[0m \u001b[32m━━━━━━━━━━━━━━━━━━━━\u001b[0m\u001b[37m\u001b[0m \u001b[1m0s\u001b[0m 3ms/step - loss: 36507.1719 - mae: 90.9908 - val_loss: 7446.2803 - val_mae: 72.9776\n",
      "Epoch 25/100\n",
      "\u001b[1m125/125\u001b[0m \u001b[32m━━━━━━━━━━━━━━━━━━━━\u001b[0m\u001b[37m\u001b[0m \u001b[1m0s\u001b[0m 3ms/step - loss: 23376.8242 - mae: 82.6472 - val_loss: 7444.0874 - val_mae: 72.9626\n",
      "Epoch 26/100\n",
      "\u001b[1m125/125\u001b[0m \u001b[32m━━━━━━━━━━━━━━━━━━━━\u001b[0m\u001b[37m\u001b[0m \u001b[1m0s\u001b[0m 2ms/step - loss: 26029.2168 - mae: 80.6192 - val_loss: 7441.6704 - val_mae: 72.9460\n",
      "Epoch 27/100\n",
      "\u001b[1m125/125\u001b[0m \u001b[32m━━━━━━━━━━━━━━━━━━━━\u001b[0m\u001b[37m\u001b[0m \u001b[1m0s\u001b[0m 2ms/step - loss: 14803.6357 - mae: 77.4264 - val_loss: 7439.2148 - val_mae: 72.9291\n",
      "Epoch 28/100\n",
      "\u001b[1m125/125\u001b[0m \u001b[32m━━━━━━━━━━━━━━━━━━━━\u001b[0m\u001b[37m\u001b[0m \u001b[1m0s\u001b[0m 2ms/step - loss: 21007.4141 - mae: 79.1939 - val_loss: 7436.6030 - val_mae: 72.9113\n",
      "Epoch 29/100\n",
      "\u001b[1m125/125\u001b[0m \u001b[32m━━━━━━━━━━━━━━━━━━━━\u001b[0m\u001b[37m\u001b[0m \u001b[1m0s\u001b[0m 2ms/step - loss: 20426.7891 - mae: 78.7758 - val_loss: 7433.7236 - val_mae: 72.8915\n",
      "Epoch 30/100\n",
      "\u001b[1m125/125\u001b[0m \u001b[32m━━━━━━━━━━━━━━━━━━━━\u001b[0m\u001b[37m\u001b[0m \u001b[1m0s\u001b[0m 2ms/step - loss: 8962.3633 - mae: 73.7699 - val_loss: 7430.6821 - val_mae: 72.8706\n",
      "Epoch 31/100\n",
      "\u001b[1m125/125\u001b[0m \u001b[32m━━━━━━━━━━━━━━━━━━━━\u001b[0m\u001b[37m\u001b[0m \u001b[1m0s\u001b[0m 2ms/step - loss: 10681.9746 - mae: 76.2451 - val_loss: 7427.4941 - val_mae: 72.8488\n",
      "Epoch 32/100\n",
      "\u001b[1m125/125\u001b[0m \u001b[32m━━━━━━━━━━━━━━━━━━━━\u001b[0m\u001b[37m\u001b[0m \u001b[1m0s\u001b[0m 2ms/step - loss: 14519.6709 - mae: 77.9999 - val_loss: 7424.0513 - val_mae: 72.8251\n",
      "Epoch 33/100\n",
      "\u001b[1m125/125\u001b[0m \u001b[32m━━━━━━━━━━━━━━━━━━━━\u001b[0m\u001b[37m\u001b[0m \u001b[1m0s\u001b[0m 3ms/step - loss: 19827.6309 - mae: 77.7802 - val_loss: 7420.3447 - val_mae: 72.7997\n",
      "Epoch 34/100\n",
      "\u001b[1m125/125\u001b[0m \u001b[32m━━━━━━━━━━━━━━━━━━━━\u001b[0m\u001b[37m\u001b[0m \u001b[1m0s\u001b[0m 3ms/step - loss: 16243.9561 - mae: 77.8204 - val_loss: 7416.4585 - val_mae: 72.7730\n",
      "Epoch 35/100\n",
      "\u001b[1m125/125\u001b[0m \u001b[32m━━━━━━━━━━━━━━━━━━━━\u001b[0m\u001b[37m\u001b[0m \u001b[1m0s\u001b[0m 2ms/step - loss: 8949.7871 - mae: 74.8143 - val_loss: 7412.3271 - val_mae: 72.7446\n",
      "Epoch 36/100\n",
      "\u001b[1m125/125\u001b[0m \u001b[32m━━━━━━━━━━━━━━━━━━━━\u001b[0m\u001b[37m\u001b[0m \u001b[1m0s\u001b[0m 2ms/step - loss: 12354.4824 - mae: 77.8703 - val_loss: 7408.0269 - val_mae: 72.7150\n",
      "Epoch 37/100\n",
      "\u001b[1m125/125\u001b[0m \u001b[32m━━━━━━━━━━━━━━━━━━━━\u001b[0m\u001b[37m\u001b[0m \u001b[1m0s\u001b[0m 3ms/step - loss: 8441.9062 - mae: 75.1419 - val_loss: 7403.3960 - val_mae: 72.6831\n",
      "Epoch 38/100\n",
      "\u001b[1m125/125\u001b[0m \u001b[32m━━━━━━━━━━━━━━━━━━━━\u001b[0m\u001b[37m\u001b[0m \u001b[1m0s\u001b[0m 3ms/step - loss: 9337.8984 - mae: 76.5827 - val_loss: 7398.4883 - val_mae: 72.6494\n",
      "Epoch 39/100\n",
      "\u001b[1m125/125\u001b[0m \u001b[32m━━━━━━━━━━━━━━━━━━━━\u001b[0m\u001b[37m\u001b[0m \u001b[1m0s\u001b[0m 3ms/step - loss: 12202.2383 - mae: 77.2172 - val_loss: 7393.3154 - val_mae: 72.6138\n",
      "Epoch 40/100\n",
      "\u001b[1m125/125\u001b[0m \u001b[32m━━━━━━━━━━━━━━━━━━━━\u001b[0m\u001b[37m\u001b[0m \u001b[1m0s\u001b[0m 3ms/step - loss: 21119.8730 - mae: 75.7837 - val_loss: 7387.7266 - val_mae: 72.5753\n",
      "Epoch 41/100\n",
      "\u001b[1m125/125\u001b[0m \u001b[32m━━━━━━━━━━━━━━━━━━━━\u001b[0m\u001b[37m\u001b[0m \u001b[1m0s\u001b[0m 2ms/step - loss: 11650.4219 - mae: 75.6313 - val_loss: 7381.8013 - val_mae: 72.5345\n",
      "Epoch 42/100\n",
      "\u001b[1m125/125\u001b[0m \u001b[32m━━━━━━━━━━━━━━━━━━━━\u001b[0m\u001b[37m\u001b[0m \u001b[1m0s\u001b[0m 3ms/step - loss: 8152.5181 - mae: 74.4576 - val_loss: 7375.6768 - val_mae: 72.4922\n",
      "Epoch 43/100\n",
      "\u001b[1m125/125\u001b[0m \u001b[32m━━━━━━━━━━━━━━━━━━━━\u001b[0m\u001b[37m\u001b[0m \u001b[1m0s\u001b[0m 3ms/step - loss: 17308.2285 - mae: 76.0072 - val_loss: 7369.2104 - val_mae: 72.4476\n",
      "Epoch 44/100\n",
      "\u001b[1m125/125\u001b[0m \u001b[32m━━━━━━━━━━━━━━━━━━━━\u001b[0m\u001b[37m\u001b[0m \u001b[1m0s\u001b[0m 3ms/step - loss: 13107.9619 - mae: 76.4795 - val_loss: 7362.3569 - val_mae: 72.4003\n",
      "Epoch 45/100\n",
      "\u001b[1m125/125\u001b[0m \u001b[32m━━━━━━━━━━━━━━━━━━━━\u001b[0m\u001b[37m\u001b[0m \u001b[1m0s\u001b[0m 3ms/step - loss: 9018.9229 - mae: 74.4636 - val_loss: 7355.2231 - val_mae: 72.3510\n",
      "Epoch 46/100\n",
      "\u001b[1m125/125\u001b[0m \u001b[32m━━━━━━━━━━━━━━━━━━━━\u001b[0m\u001b[37m\u001b[0m \u001b[1m0s\u001b[0m 3ms/step - loss: 10703.8711 - mae: 75.0696 - val_loss: 7347.6104 - val_mae: 72.2984\n",
      "Epoch 47/100\n",
      "\u001b[1m125/125\u001b[0m \u001b[32m━━━━━━━━━━━━━━━━━━━━\u001b[0m\u001b[37m\u001b[0m \u001b[1m0s\u001b[0m 3ms/step - loss: 10917.9707 - mae: 75.8624 - val_loss: 7339.7969 - val_mae: 72.2443\n",
      "Epoch 48/100\n",
      "\u001b[1m125/125\u001b[0m \u001b[32m━━━━━━━━━━━━━━━━━━━━\u001b[0m\u001b[37m\u001b[0m \u001b[1m0s\u001b[0m 3ms/step - loss: 28624.9727 - mae: 79.1510 - val_loss: 7331.2754 - val_mae: 72.1853\n",
      "Epoch 49/100\n",
      "\u001b[1m125/125\u001b[0m \u001b[32m━━━━━━━━━━━━━━━━━━━━\u001b[0m\u001b[37m\u001b[0m \u001b[1m0s\u001b[0m 2ms/step - loss: 8549.7822 - mae: 74.2545 - val_loss: 7322.6646 - val_mae: 72.1256\n",
      "Epoch 50/100\n",
      "\u001b[1m125/125\u001b[0m \u001b[32m━━━━━━━━━━━━━━━━━━━━\u001b[0m\u001b[37m\u001b[0m \u001b[1m0s\u001b[0m 3ms/step - loss: 8564.1768 - mae: 74.7510 - val_loss: 7313.6514 - val_mae: 72.0631\n",
      "Epoch 51/100\n",
      "\u001b[1m125/125\u001b[0m \u001b[32m━━━━━━━━━━━━━━━━━━━━\u001b[0m\u001b[37m\u001b[0m \u001b[1m0s\u001b[0m 3ms/step - loss: 35803.2305 - mae: 80.3621 - val_loss: 7303.6377 - val_mae: 71.9936\n",
      "Epoch 52/100\n",
      "\u001b[1m125/125\u001b[0m \u001b[32m━━━━━━━━━━━━━━━━━━━━\u001b[0m\u001b[37m\u001b[0m \u001b[1m0s\u001b[0m 3ms/step - loss: 15261.0918 - mae: 75.1730 - val_loss: 7293.7329 - val_mae: 71.9248\n",
      "Epoch 53/100\n",
      "\u001b[1m125/125\u001b[0m \u001b[32m━━━━━━━━━━━━━━━━━━━━\u001b[0m\u001b[37m\u001b[0m \u001b[1m0s\u001b[0m 3ms/step - loss: 9164.9160 - mae: 73.2966 - val_loss: 7283.5386 - val_mae: 71.8539\n",
      "Epoch 54/100\n",
      "\u001b[1m125/125\u001b[0m \u001b[32m━━━━━━━━━━━━━━━━━━━━\u001b[0m\u001b[37m\u001b[0m \u001b[1m0s\u001b[0m 3ms/step - loss: 8168.0664 - mae: 73.8731 - val_loss: 7272.9111 - val_mae: 71.7799\n",
      "Epoch 55/100\n",
      "\u001b[1m125/125\u001b[0m \u001b[32m━━━━━━━━━━━━━━━━━━━━\u001b[0m\u001b[37m\u001b[0m \u001b[1m0s\u001b[0m 2ms/step - loss: 17372.0410 - mae: 75.8047 - val_loss: 7261.3892 - val_mae: 71.6996\n",
      "Epoch 56/100\n",
      "\u001b[1m125/125\u001b[0m \u001b[32m━━━━━━━━━━━━━━━━━━━━\u001b[0m\u001b[37m\u001b[0m \u001b[1m0s\u001b[0m 3ms/step - loss: 10707.2812 - mae: 72.5222 - val_loss: 7249.8330 - val_mae: 71.6190\n",
      "Epoch 57/100\n",
      "\u001b[1m125/125\u001b[0m \u001b[32m━━━━━━━━━━━━━━━━━━━━\u001b[0m\u001b[37m\u001b[0m \u001b[1m0s\u001b[0m 3ms/step - loss: 7973.2256 - mae: 72.3910 - val_loss: 7238.1895 - val_mae: 71.5376\n",
      "Epoch 58/100\n",
      "\u001b[1m125/125\u001b[0m \u001b[32m━━━━━━━━━━━━━━━━━━━━\u001b[0m\u001b[37m\u001b[0m \u001b[1m0s\u001b[0m 3ms/step - loss: 8536.2422 - mae: 74.0689 - val_loss: 7226.0742 - val_mae: 71.4529\n",
      "Epoch 59/100\n",
      "\u001b[1m125/125\u001b[0m \u001b[32m━━━━━━━━━━━━━━━━━━━━\u001b[0m\u001b[37m\u001b[0m \u001b[1m0s\u001b[0m 2ms/step - loss: 9842.6230 - mae: 73.5535 - val_loss: 7213.6138 - val_mae: 71.3657\n",
      "Epoch 60/100\n",
      "\u001b[1m125/125\u001b[0m \u001b[32m━━━━━━━━━━━━━━━━━━━━\u001b[0m\u001b[37m\u001b[0m \u001b[1m0s\u001b[0m 2ms/step - loss: 8458.0811 - mae: 72.3620 - val_loss: 7200.5469 - val_mae: 71.2741\n",
      "Epoch 61/100\n",
      "\u001b[1m125/125\u001b[0m \u001b[32m━━━━━━━━━━━━━━━━━━━━\u001b[0m\u001b[37m\u001b[0m \u001b[1m0s\u001b[0m 3ms/step - loss: 7702.9907 - mae: 73.4531 - val_loss: 7187.3574 - val_mae: 71.1814\n",
      "Epoch 62/100\n",
      "\u001b[1m125/125\u001b[0m \u001b[32m━━━━━━━━━━━━━━━━━━━━\u001b[0m\u001b[37m\u001b[0m \u001b[1m0s\u001b[0m 3ms/step - loss: 7200.9951 - mae: 70.8773 - val_loss: 7174.0381 - val_mae: 71.0878\n",
      "Epoch 63/100\n",
      "\u001b[1m125/125\u001b[0m \u001b[32m━━━━━━━━━━━━━━━━━━━━\u001b[0m\u001b[37m\u001b[0m \u001b[1m0s\u001b[0m 3ms/step - loss: 9768.0068 - mae: 74.1607 - val_loss: 7160.0420 - val_mae: 70.9893\n",
      "Epoch 64/100\n",
      "\u001b[1m125/125\u001b[0m \u001b[32m━━━━━━━━━━━━━━━━━━━━\u001b[0m\u001b[37m\u001b[0m \u001b[1m0s\u001b[0m 2ms/step - loss: 9591.6670 - mae: 72.5706 - val_loss: 7145.9043 - val_mae: 70.8897\n",
      "Epoch 65/100\n",
      "\u001b[1m125/125\u001b[0m \u001b[32m━━━━━━━━━━━━━━━━━━━━\u001b[0m\u001b[37m\u001b[0m \u001b[1m0s\u001b[0m 2ms/step - loss: 7295.5391 - mae: 71.3761 - val_loss: 7131.5649 - val_mae: 70.7885\n",
      "Epoch 66/100\n",
      "\u001b[1m125/125\u001b[0m \u001b[32m━━━━━━━━━━━━━━━━━━━━\u001b[0m\u001b[37m\u001b[0m \u001b[1m0s\u001b[0m 3ms/step - loss: 8088.2935 - mae: 71.6622 - val_loss: 7117.0767 - val_mae: 70.6861\n",
      "Epoch 67/100\n",
      "\u001b[1m125/125\u001b[0m \u001b[32m━━━━━━━━━━━━━━━━━━━━\u001b[0m\u001b[37m\u001b[0m \u001b[1m0s\u001b[0m 2ms/step - loss: 9443.0469 - mae: 72.3781 - val_loss: 7102.3018 - val_mae: 70.5815\n",
      "Epoch 68/100\n",
      "\u001b[1m125/125\u001b[0m \u001b[32m━━━━━━━━━━━━━━━━━━━━\u001b[0m\u001b[37m\u001b[0m \u001b[1m0s\u001b[0m 3ms/step - loss: 8449.4795 - mae: 71.8631 - val_loss: 7087.0806 - val_mae: 70.4736\n",
      "Epoch 69/100\n",
      "\u001b[1m125/125\u001b[0m \u001b[32m━━━━━━━━━━━━━━━━━━━━\u001b[0m\u001b[37m\u001b[0m \u001b[1m0s\u001b[0m 2ms/step - loss: 7529.8647 - mae: 71.2578 - val_loss: 7071.9482 - val_mae: 70.3661\n",
      "Epoch 70/100\n",
      "\u001b[1m125/125\u001b[0m \u001b[32m━━━━━━━━━━━━━━━━━━━━\u001b[0m\u001b[37m\u001b[0m \u001b[1m0s\u001b[0m 2ms/step - loss: 13269.2373 - mae: 73.8927 - val_loss: 7056.5234 - val_mae: 70.2564\n",
      "Epoch 71/100\n",
      "\u001b[1m125/125\u001b[0m \u001b[32m━━━━━━━━━━━━━━━━━━━━\u001b[0m\u001b[37m\u001b[0m \u001b[1m0s\u001b[0m 3ms/step - loss: 7555.9878 - mae: 71.4256 - val_loss: 7041.0913 - val_mae: 70.1465\n",
      "Epoch 72/100\n",
      "\u001b[1m125/125\u001b[0m \u001b[32m━━━━━━━━━━━━━━━━━━━━\u001b[0m\u001b[37m\u001b[0m \u001b[1m0s\u001b[0m 2ms/step - loss: 8478.9922 - mae: 70.9348 - val_loss: 7025.5654 - val_mae: 70.0358\n",
      "Epoch 73/100\n",
      "\u001b[1m125/125\u001b[0m \u001b[32m━━━━━━━━━━━━━━━━━━━━\u001b[0m\u001b[37m\u001b[0m \u001b[1m0s\u001b[0m 3ms/step - loss: 11393.1455 - mae: 72.6730 - val_loss: 7009.3643 - val_mae: 69.9200\n",
      "Epoch 74/100\n",
      "\u001b[1m125/125\u001b[0m \u001b[32m━━━━━━━━━━━━━━━━━━━━\u001b[0m\u001b[37m\u001b[0m \u001b[1m0s\u001b[0m 3ms/step - loss: 10883.0703 - mae: 71.2792 - val_loss: 6993.2236 - val_mae: 69.8045\n",
      "Epoch 75/100\n",
      "\u001b[1m125/125\u001b[0m \u001b[32m━━━━━━━━━━━━━━━━━━━━\u001b[0m\u001b[37m\u001b[0m \u001b[1m0s\u001b[0m 3ms/step - loss: 16279.3604 - mae: 74.1383 - val_loss: 6976.7119 - val_mae: 69.6861\n",
      "Epoch 76/100\n",
      "\u001b[1m125/125\u001b[0m \u001b[32m━━━━━━━━━━━━━━━━━━━━\u001b[0m\u001b[37m\u001b[0m \u001b[1m0s\u001b[0m 2ms/step - loss: 10682.6982 - mae: 70.5767 - val_loss: 6960.6279 - val_mae: 69.5706\n",
      "Epoch 77/100\n",
      "\u001b[1m125/125\u001b[0m \u001b[32m━━━━━━━━━━━━━━━━━━━━\u001b[0m\u001b[37m\u001b[0m \u001b[1m0s\u001b[0m 2ms/step - loss: 7130.7002 - mae: 70.3835 - val_loss: 6944.6313 - val_mae: 69.4556\n",
      "Epoch 78/100\n",
      "\u001b[1m125/125\u001b[0m \u001b[32m━━━━━━━━━━━━━━━━━━━━\u001b[0m\u001b[37m\u001b[0m \u001b[1m0s\u001b[0m 2ms/step - loss: 7267.7837 - mae: 70.6145 - val_loss: 6928.4785 - val_mae: 69.3392\n",
      "Epoch 79/100\n",
      "\u001b[1m125/125\u001b[0m \u001b[32m━━━━━━━━━━━━━━━━━━━━\u001b[0m\u001b[37m\u001b[0m \u001b[1m0s\u001b[0m 3ms/step - loss: 9207.2197 - mae: 71.0120 - val_loss: 6912.2783 - val_mae: 69.2223\n",
      "Epoch 80/100\n",
      "\u001b[1m125/125\u001b[0m \u001b[32m━━━━━━━━━━━━━━━━━━━━\u001b[0m\u001b[37m\u001b[0m \u001b[1m0s\u001b[0m 3ms/step - loss: 7453.0371 - mae: 69.7628 - val_loss: 6896.2480 - val_mae: 69.1064\n",
      "Epoch 81/100\n",
      "\u001b[1m125/125\u001b[0m \u001b[32m━━━━━━━━━━━━━━━━━━━━\u001b[0m\u001b[37m\u001b[0m \u001b[1m0s\u001b[0m 3ms/step - loss: 9988.9775 - mae: 71.6531 - val_loss: 6879.9966 - val_mae: 68.9887\n",
      "Epoch 82/100\n",
      "\u001b[1m125/125\u001b[0m \u001b[32m━━━━━━━━━━━━━━━━━━━━\u001b[0m\u001b[37m\u001b[0m \u001b[1m0s\u001b[0m 3ms/step - loss: 11667.2764 - mae: 71.7560 - val_loss: 6863.5073 - val_mae: 68.8691\n",
      "Epoch 83/100\n",
      "\u001b[1m125/125\u001b[0m \u001b[32m━━━━━━━━━━━━━━━━━━━━\u001b[0m\u001b[37m\u001b[0m \u001b[1m0s\u001b[0m 3ms/step - loss: 7049.6987 - mae: 70.0401 - val_loss: 6847.2939 - val_mae: 68.7513\n",
      "Epoch 84/100\n",
      "\u001b[1m125/125\u001b[0m \u001b[32m━━━━━━━━━━━━━━━━━━━━\u001b[0m\u001b[37m\u001b[0m \u001b[1m0s\u001b[0m 3ms/step - loss: 7501.9644 - mae: 70.6668 - val_loss: 6831.1055 - val_mae: 68.6335\n",
      "Epoch 85/100\n",
      "\u001b[1m125/125\u001b[0m \u001b[32m━━━━━━━━━━━━━━━━━━━━\u001b[0m\u001b[37m\u001b[0m \u001b[1m0s\u001b[0m 3ms/step - loss: 7817.9365 - mae: 69.7632 - val_loss: 6814.8145 - val_mae: 68.5147\n",
      "Epoch 86/100\n",
      "\u001b[1m125/125\u001b[0m \u001b[32m━━━━━━━━━━━━━━━━━━━━\u001b[0m\u001b[37m\u001b[0m \u001b[1m0s\u001b[0m 3ms/step - loss: 6744.3208 - mae: 68.3322 - val_loss: 6798.5713 - val_mae: 68.3960\n",
      "Epoch 87/100\n",
      "\u001b[1m125/125\u001b[0m \u001b[32m━━━━━━━━━━━━━━━━━━━━\u001b[0m\u001b[37m\u001b[0m \u001b[1m0s\u001b[0m 3ms/step - loss: 7601.6099 - mae: 70.1553 - val_loss: 6782.0874 - val_mae: 68.2754\n",
      "Epoch 88/100\n",
      "\u001b[1m125/125\u001b[0m \u001b[32m━━━━━━━━━━━━━━━━━━━━\u001b[0m\u001b[37m\u001b[0m \u001b[1m0s\u001b[0m 3ms/step - loss: 7069.9756 - mae: 69.6751 - val_loss: 6765.7217 - val_mae: 68.1554\n",
      "Epoch 89/100\n",
      "\u001b[1m125/125\u001b[0m \u001b[32m━━━━━━━━━━━━━━━━━━━━\u001b[0m\u001b[37m\u001b[0m \u001b[1m0s\u001b[0m 3ms/step - loss: 6556.4663 - mae: 67.1139 - val_loss: 6749.3857 - val_mae: 68.0355\n",
      "Epoch 90/100\n",
      "\u001b[1m125/125\u001b[0m \u001b[32m━━━━━━━━━━━━━━━━━━━━\u001b[0m\u001b[37m\u001b[0m \u001b[1m0s\u001b[0m 3ms/step - loss: 6686.8916 - mae: 67.6903 - val_loss: 6732.8999 - val_mae: 67.9142\n",
      "Epoch 91/100\n",
      "\u001b[1m125/125\u001b[0m \u001b[32m━━━━━━━━━━━━━━━━━━━━\u001b[0m\u001b[37m\u001b[0m \u001b[1m0s\u001b[0m 3ms/step - loss: 8336.6143 - mae: 70.8898 - val_loss: 6716.5947 - val_mae: 67.7941\n",
      "Epoch 92/100\n",
      "\u001b[1m125/125\u001b[0m \u001b[32m━━━━━━━━━━━━━━━━━━━━\u001b[0m\u001b[37m\u001b[0m \u001b[1m0s\u001b[0m 3ms/step - loss: 6774.3516 - mae: 67.4876 - val_loss: 6700.3320 - val_mae: 67.6740\n",
      "Epoch 93/100\n",
      "\u001b[1m125/125\u001b[0m \u001b[32m━━━━━━━━━━━━━━━━━━━━\u001b[0m\u001b[37m\u001b[0m \u001b[1m0s\u001b[0m 3ms/step - loss: 10004.4395 - mae: 69.8002 - val_loss: 6684.1709 - val_mae: 67.5545\n",
      "Epoch 94/100\n",
      "\u001b[1m125/125\u001b[0m \u001b[32m━━━━━━━━━━━━━━━━━━━━\u001b[0m\u001b[37m\u001b[0m \u001b[1m0s\u001b[0m 3ms/step - loss: 8376.5332 - mae: 67.8942 - val_loss: 6667.6602 - val_mae: 67.4322\n",
      "Epoch 95/100\n",
      "\u001b[1m125/125\u001b[0m \u001b[32m━━━━━━━━━━━━━━━━━━━━\u001b[0m\u001b[37m\u001b[0m \u001b[1m0s\u001b[0m 3ms/step - loss: 7088.6738 - mae: 69.6805 - val_loss: 6651.3613 - val_mae: 67.3112\n",
      "Epoch 96/100\n",
      "\u001b[1m125/125\u001b[0m \u001b[32m━━━━━━━━━━━━━━━━━━━━\u001b[0m\u001b[37m\u001b[0m \u001b[1m0s\u001b[0m 3ms/step - loss: 6841.6606 - mae: 68.2524 - val_loss: 6635.1055 - val_mae: 67.1904\n",
      "Epoch 97/100\n",
      "\u001b[1m125/125\u001b[0m \u001b[32m━━━━━━━━━━━━━━━━━━━━\u001b[0m\u001b[37m\u001b[0m \u001b[1m0s\u001b[0m 3ms/step - loss: 6672.9194 - mae: 67.2203 - val_loss: 6618.8696 - val_mae: 67.0695\n",
      "Epoch 98/100\n",
      "\u001b[1m125/125\u001b[0m \u001b[32m━━━━━━━━━━━━━━━━━━━━\u001b[0m\u001b[37m\u001b[0m \u001b[1m0s\u001b[0m 3ms/step - loss: 6389.7656 - mae: 65.8682 - val_loss: 6602.5410 - val_mae: 66.9476\n",
      "Epoch 99/100\n",
      "\u001b[1m125/125\u001b[0m \u001b[32m━━━━━━━━━━━━━━━━━━━━\u001b[0m\u001b[37m\u001b[0m \u001b[1m0s\u001b[0m 3ms/step - loss: 6809.1597 - mae: 67.6366 - val_loss: 6586.2515 - val_mae: 66.8259\n",
      "Epoch 100/100\n",
      "\u001b[1m125/125\u001b[0m \u001b[32m━━━━━━━━━━━━━━━━━━━━\u001b[0m\u001b[37m\u001b[0m \u001b[1m0s\u001b[0m 3ms/step - loss: 8836.2051 - mae: 68.5573 - val_loss: 6569.9180 - val_mae: 66.7035\n"
     ]
    },
    {
     "data": {
      "image/png": "[encoded data removed]",
      "text/plain": [
       "<Figure size 640x480 with 1 Axes>"
      ]
     },
     "metadata": {},
     "output_type": "display_data"
    },
    {
     "name": "stdout",
     "output_type": "stream",
     "text": [
      "\n"
     ]
    }
   ],
   "source": [
    "from tensorflow.keras.callbacks import EarlyStopping\n",
    "import matplotlib.pyplot as plt\n",
    "\n",
    "# Setting up early stopping AGAIN\n",
    "early_stopping_improved = EarlyStopping(\n",
    "    monitor='val_loss', \n",
    "    patience=5, \n",
    "    restore_best_weights=True\n",
    ")\n",
    "\n",
    "# Training the improved model\n",
    "improved_history = improved_model.fit(\n",
    "    X_train, y_train,\n",
    "    validation_data=(X_test, y_test),\n",
    "    epochs=100,\n",
    "    batch_size=32,\n",
    "    callbacks=[early_stopping_improved],\n",
    "    verbose=1\n",
    ")\n",
    "\n",
    "# Plotting the training history\n",
    "plt.plot(improved_history.history['loss'], label='Improved Training Loss')\n",
    "plt.plot(improved_history.history['val_loss'], label='Improved Validation Loss')\n",
    "plt.title(\"Improved Training and Validation Loss Over Epochs\")\n",
    "plt.xlabel(\"Epochs\")\n",
    "plt.ylabel(\"Loss (MSE)\")\n",
    "plt.legend()\n",
    "plt.show()\n",
    "\n",
    "print()"
   ]
  },
  {
   "cell_type": "markdown",
   "id": "9c1ccfae-78e8-4f27-b8cd-dc4e769986be",
   "metadata": {},
   "source": [
    "#### Better Model and What I Noticed\n",
    "- After I changed my model to stop it from overfitting so much, this is what I did:\n",
    "\n",
    "- Less Parameters: Now the model only has 1,025 trainable parameters, which is way less than before. That should help with overfitting FOR THE MODEL.\n",
    "\n",
    "- Simpler Model: I made the model smaller by using fewer layers and fewer nodes, so it’s less likely to just memorize the training data.\n",
    "\n",
    "- Dropout Layers: I kept using dropout layers, which randomly turn off about 30% of the neurons while training. This also helps avoid overfitting following his tutotial earlier.\n",
    "\n",
    "#### What I Noticed During Training (New Model)\n",
    "- Starting Loss: In the first epoch, the loss was still really high, but it dropped fast in the next few epochs. So the model is still learning basic patterns well now.\n",
    "\n",
    "- Validation Loss: This time, the validation loss didn’t go up as quickly as before, but after a few epochs, it still started to increase. That means it’s still overfitting a bit, but maybe not as much.\n",
    "\n",
    "- Training Time: It trained faster now, probably because it has fewer parameters and takes less time per epoch.\n",
    "\n",
    "#### Looking at the Plots\n",
    "- The loss (MSE) line starts low and goes up slowly. It’s not a huge jump, more of a steady rise. That shows the model is still overfitting, but it’s -learning a bit more smoothly.\n",
    "\n",
    "- The epochs line (how training changes over time) starts at 0 and goes up fast, but this time it smooths out more as it gets closer to the end. That might mean the model is getting stable a bit faster.\n",
    "\n",
    "---\n"
   ]
  },
  {
   "cell_type": "markdown",
   "id": "ac333ec5-4955-4004-9819-7d6bf2f26d6e",
   "metadata": {},
   "source": [
    "### **6. Adding Random Forest for Comparison** \n",
    "\n",
    "***(As required by the assignment, I am also including a Random Forest model for comparison with my neural network.)***\n",
    "\n",
    "In this part, I'm using a Random Forest Regressor to go along with my neural network model. I wanted to try a more classic machine learning model so I can compare the results, like the assignment asked.\n",
    "\n",
    "I picked Random Forest because it’s a strong and flexible model for regression. It also works better with messy or noisy data compared to something simple like linear regression. Since this dataset has lots of different features, I thought it would be a good fit.\n",
    "\n",
    "### Link to My Feedback:\n",
    "In my first assignment, I found it hard to manage model complexity and stop overfitting. I learned a lot from that and this time, I wanted to include a stronger model to compare with my neural network. This idea came from a Random Forest example we talked about in class and a tutorial I followed earlier. Also, I made sure to use clean data right from the start, unlike last time.\n",
    "\n",
    "\n",
    "The idea for this came from what I did in my last assignment, where I also used a Random Forest model. I also checked the Scikit-Learn documentation to make sure I did the scaling properly this time (Accessed 17/05/2025).\n",
    "\n"
   ]
  },
  {
   "cell_type": "markdown",
   "id": "01d6c0cb-dc68-40bb-8c6d-828565cef490",
   "metadata": {},
   "source": [
    "### **7. New Customer Income Prediction** "
   ]
  },
  {
   "cell_type": "code",
   "execution_count": 33,
   "id": "dbf7c00f-abc7-4052-9b42-e35836758409",
   "metadata": {},
   "outputs": [],
   "source": [
    "# Random Forest Regressor for Income Prediction\n",
    "# ---------------------------------------------\n",
    "\n",
    "# Importing necessary libraries\n",
    "from sklearn.model_selection import train_test_split\n",
    "from sklearn.preprocessing import MinMaxScaler\n",
    "from sklearn.ensemble import RandomForestRegressor\n",
    "from sklearn.metrics import mean_squared_error, mean_absolute_error, r2_score\n",
    "\n",
    "# Preparing the data\n",
    "# -------------------\n",
    "# Using the same training and testing split as the neural network for consistency\n",
    "X = df.drop(columns=[\"Income(Thousands's)\"])\n",
    "y = df[\"Income(Thousands's)\"]\n",
    "\n",
    "# Splitting the data into training and testing sets\n",
    "X_train_rf, X_test_rf, y_train_rf, y_test_rf = train_test_split(X, y, test_size=0.2, random_state=42)\n",
    "\n",
    "# Scaling the data for better Random Forest performance\n",
    "scaler_rf = MinMaxScaler()\n",
    "X_train_rf = scaler_rf.fit_transform(X_train_rf)\n",
    "X_test_rf = scaler_rf.transform(X_test_rf)\n"
   ]
  },
  {
   "cell_type": "code",
   "execution_count": 34,
   "id": "b49a314c-5c83-4ce8-b4d3-045d4a738ec6",
   "metadata": {},
   "outputs": [
    {
     "name": "stdout",
     "output_type": "stream",
     "text": [
      "\n",
      "Random Forest Regression Results:\n",
      "Mean Squared Error (MSE): 413.25\n",
      "Mean Absolute Error (MAE): 14.94\n",
      "R-squared (R2 Score): 0.81\n"
     ]
    }
   ],
   "source": [
    "# Model Training\n",
    "# --------------\n",
    "# Initializing the Random Forest Regressor\n",
    "rf_model = RandomForestRegressor(n_estimators=100, random_state=42)\n",
    "rf_model.fit(X_train_rf, y_train_rf)\n",
    "\n",
    "# Model Evaluation\n",
    "# ----------------\n",
    "# Making predictions on the test set\n",
    "y_pred_rf = rf_model.predict(X_test_rf)\n",
    "\n",
    "# Evaluating the model\n",
    "mse_rf = mean_squared_error(y_test_rf, y_pred_rf)\n",
    "mae_rf = mean_absolute_error(y_test_rf, y_pred_rf)\n",
    "r2_rf = r2_score(y_test_rf, y_pred_rf)\n",
    "\n",
    "# Printing the results\n",
    "print(\"\\nRandom Forest Regression Results:\")\n",
    "print(f\"Mean Squared Error (MSE): {mse_rf:.2f}\")\n",
    "print(f\"Mean Absolute Error (MAE): {mae_rf:.2f}\")\n",
    "print(f\"R-squared (R2 Score): {r2_rf:.2f}\")\n"
   ]
  },
  {
   "cell_type": "code",
   "execution_count": null,
   "id": "3e75af92-e1d2-471f-8f4e-2a315035f170",
   "metadata": {},
   "outputs": [],
   "source": []
  },
  {
   "cell_type": "code",
   "execution_count": 35,
   "id": "16fd4f42-9d76-4348-9553-631222f8830d",
   "metadata": {},
   "outputs": [
    {
     "ename": "ValueError",
     "evalue": "The feature names should match those that were passed during fit.\nFeature names must be in the same order as they were in fit.\n",
     "output_type": "error",
     "traceback": [
      "\u001b[1;31m---------------------------------------------------------------------------\u001b[0m",
      "\u001b[1;31mValueError\u001b[0m                                Traceback (most recent call last)",
      "Cell \u001b[1;32mIn[35], line 22\u001b[0m\n\u001b[0;32m      4\u001b[0m new_customer \u001b[38;5;241m=\u001b[39m pd\u001b[38;5;241m.\u001b[39mDataFrame({\n\u001b[0;32m      5\u001b[0m     \u001b[38;5;124m'\u001b[39m\u001b[38;5;124mAge\u001b[39m\u001b[38;5;124m'\u001b[39m: [\u001b[38;5;241m45\u001b[39m],\n\u001b[0;32m      6\u001b[0m     \u001b[38;5;124m'\u001b[39m\u001b[38;5;124mExperience(Years)\u001b[39m\u001b[38;5;124m'\u001b[39m: [\u001b[38;5;241m20\u001b[39m],\n\u001b[1;32m   (...)\u001b[0m\n\u001b[0;32m     18\u001b[0m     \u001b[38;5;124m'\u001b[39m\u001b[38;5;124mEducation_Degree\u001b[39m\u001b[38;5;124m'\u001b[39m: [\u001b[38;5;241m0\u001b[39m]\n\u001b[0;32m     19\u001b[0m })\n\u001b[0;32m     21\u001b[0m \u001b[38;5;66;03m# Scaling the new customer data\u001b[39;00m\n\u001b[1;32m---> 22\u001b[0m new_customer_scaled \u001b[38;5;241m=\u001b[39m scaler_rf\u001b[38;5;241m.\u001b[39mtransform(new_customer)\n\u001b[0;32m     24\u001b[0m \u001b[38;5;66;03m# Predicting the income\u001b[39;00m\n\u001b[0;32m     25\u001b[0m predicted_income \u001b[38;5;241m=\u001b[39m rf_model\u001b[38;5;241m.\u001b[39mpredict(new_customer_scaled)\n",
      "File \u001b[1;32mC:\\ProgramData\\anaconda3\\Lib\\site-packages\\sklearn\\utils\\_set_output.py:313\u001b[0m, in \u001b[0;36m_wrap_method_output.<locals>.wrapped\u001b[1;34m(self, X, *args, **kwargs)\u001b[0m\n\u001b[0;32m    311\u001b[0m \u001b[38;5;129m@wraps\u001b[39m(f)\n\u001b[0;32m    312\u001b[0m \u001b[38;5;28;01mdef\u001b[39;00m \u001b[38;5;21mwrapped\u001b[39m(\u001b[38;5;28mself\u001b[39m, X, \u001b[38;5;241m*\u001b[39margs, \u001b[38;5;241m*\u001b[39m\u001b[38;5;241m*\u001b[39mkwargs):\n\u001b[1;32m--> 313\u001b[0m     data_to_wrap \u001b[38;5;241m=\u001b[39m f(\u001b[38;5;28mself\u001b[39m, X, \u001b[38;5;241m*\u001b[39margs, \u001b[38;5;241m*\u001b[39m\u001b[38;5;241m*\u001b[39mkwargs)\n\u001b[0;32m    314\u001b[0m     \u001b[38;5;28;01mif\u001b[39;00m \u001b[38;5;28misinstance\u001b[39m(data_to_wrap, \u001b[38;5;28mtuple\u001b[39m):\n\u001b[0;32m    315\u001b[0m         \u001b[38;5;66;03m# only wrap the first output for cross decomposition\u001b[39;00m\n\u001b[0;32m    316\u001b[0m         return_tuple \u001b[38;5;241m=\u001b[39m (\n\u001b[0;32m    317\u001b[0m             _wrap_data_with_container(method, data_to_wrap[\u001b[38;5;241m0\u001b[39m], X, \u001b[38;5;28mself\u001b[39m),\n\u001b[0;32m    318\u001b[0m             \u001b[38;5;241m*\u001b[39mdata_to_wrap[\u001b[38;5;241m1\u001b[39m:],\n\u001b[0;32m    319\u001b[0m         )\n",
      "File \u001b[1;32mC:\\ProgramData\\anaconda3\\Lib\\site-packages\\sklearn\\preprocessing\\_data.py:534\u001b[0m, in \u001b[0;36mMinMaxScaler.transform\u001b[1;34m(self, X)\u001b[0m\n\u001b[0;32m    530\u001b[0m check_is_fitted(\u001b[38;5;28mself\u001b[39m)\n\u001b[0;32m    532\u001b[0m xp, _ \u001b[38;5;241m=\u001b[39m get_namespace(X)\n\u001b[1;32m--> 534\u001b[0m X \u001b[38;5;241m=\u001b[39m \u001b[38;5;28mself\u001b[39m\u001b[38;5;241m.\u001b[39m_validate_data(\n\u001b[0;32m    535\u001b[0m     X,\n\u001b[0;32m    536\u001b[0m     copy\u001b[38;5;241m=\u001b[39m\u001b[38;5;28mself\u001b[39m\u001b[38;5;241m.\u001b[39mcopy,\n\u001b[0;32m    537\u001b[0m     dtype\u001b[38;5;241m=\u001b[39m_array_api\u001b[38;5;241m.\u001b[39msupported_float_dtypes(xp),\n\u001b[0;32m    538\u001b[0m     force_writeable\u001b[38;5;241m=\u001b[39m\u001b[38;5;28;01mTrue\u001b[39;00m,\n\u001b[0;32m    539\u001b[0m     force_all_finite\u001b[38;5;241m=\u001b[39m\u001b[38;5;124m\"\u001b[39m\u001b[38;5;124mallow-nan\u001b[39m\u001b[38;5;124m\"\u001b[39m,\n\u001b[0;32m    540\u001b[0m     reset\u001b[38;5;241m=\u001b[39m\u001b[38;5;28;01mFalse\u001b[39;00m,\n\u001b[0;32m    541\u001b[0m )\n\u001b[0;32m    543\u001b[0m X \u001b[38;5;241m*\u001b[39m\u001b[38;5;241m=\u001b[39m \u001b[38;5;28mself\u001b[39m\u001b[38;5;241m.\u001b[39mscale_\n\u001b[0;32m    544\u001b[0m X \u001b[38;5;241m+\u001b[39m\u001b[38;5;241m=\u001b[39m \u001b[38;5;28mself\u001b[39m\u001b[38;5;241m.\u001b[39mmin_\n",
      "File \u001b[1;32mC:\\ProgramData\\anaconda3\\Lib\\site-packages\\sklearn\\base.py:608\u001b[0m, in \u001b[0;36mBaseEstimator._validate_data\u001b[1;34m(self, X, y, reset, validate_separately, cast_to_ndarray, **check_params)\u001b[0m\n\u001b[0;32m    537\u001b[0m \u001b[38;5;28;01mdef\u001b[39;00m \u001b[38;5;21m_validate_data\u001b[39m(\n\u001b[0;32m    538\u001b[0m     \u001b[38;5;28mself\u001b[39m,\n\u001b[0;32m    539\u001b[0m     X\u001b[38;5;241m=\u001b[39m\u001b[38;5;124m\"\u001b[39m\u001b[38;5;124mno_validation\u001b[39m\u001b[38;5;124m\"\u001b[39m,\n\u001b[1;32m   (...)\u001b[0m\n\u001b[0;32m    544\u001b[0m     \u001b[38;5;241m*\u001b[39m\u001b[38;5;241m*\u001b[39mcheck_params,\n\u001b[0;32m    545\u001b[0m ):\n\u001b[0;32m    546\u001b[0m \u001b[38;5;250m    \u001b[39m\u001b[38;5;124;03m\"\"\"Validate input data and set or check the `n_features_in_` attribute.\u001b[39;00m\n\u001b[0;32m    547\u001b[0m \n\u001b[0;32m    548\u001b[0m \u001b[38;5;124;03m    Parameters\u001b[39;00m\n\u001b[1;32m   (...)\u001b[0m\n\u001b[0;32m    606\u001b[0m \u001b[38;5;124;03m        validated.\u001b[39;00m\n\u001b[0;32m    607\u001b[0m \u001b[38;5;124;03m    \"\"\"\u001b[39;00m\n\u001b[1;32m--> 608\u001b[0m     \u001b[38;5;28mself\u001b[39m\u001b[38;5;241m.\u001b[39m_check_feature_names(X, reset\u001b[38;5;241m=\u001b[39mreset)\n\u001b[0;32m    610\u001b[0m     \u001b[38;5;28;01mif\u001b[39;00m y \u001b[38;5;129;01mis\u001b[39;00m \u001b[38;5;28;01mNone\u001b[39;00m \u001b[38;5;129;01mand\u001b[39;00m \u001b[38;5;28mself\u001b[39m\u001b[38;5;241m.\u001b[39m_get_tags()[\u001b[38;5;124m\"\u001b[39m\u001b[38;5;124mrequires_y\u001b[39m\u001b[38;5;124m\"\u001b[39m]:\n\u001b[0;32m    611\u001b[0m         \u001b[38;5;28;01mraise\u001b[39;00m \u001b[38;5;167;01mValueError\u001b[39;00m(\n\u001b[0;32m    612\u001b[0m             \u001b[38;5;124mf\u001b[39m\u001b[38;5;124m\"\u001b[39m\u001b[38;5;124mThis \u001b[39m\u001b[38;5;132;01m{\u001b[39;00m\u001b[38;5;28mself\u001b[39m\u001b[38;5;241m.\u001b[39m\u001b[38;5;18m__class__\u001b[39m\u001b[38;5;241m.\u001b[39m\u001b[38;5;18m__name__\u001b[39m\u001b[38;5;132;01m}\u001b[39;00m\u001b[38;5;124m estimator \u001b[39m\u001b[38;5;124m\"\u001b[39m\n\u001b[0;32m    613\u001b[0m             \u001b[38;5;124m\"\u001b[39m\u001b[38;5;124mrequires y to be passed, but the target y is None.\u001b[39m\u001b[38;5;124m\"\u001b[39m\n\u001b[0;32m    614\u001b[0m         )\n",
      "File \u001b[1;32mC:\\ProgramData\\anaconda3\\Lib\\site-packages\\sklearn\\base.py:535\u001b[0m, in \u001b[0;36mBaseEstimator._check_feature_names\u001b[1;34m(self, X, reset)\u001b[0m\n\u001b[0;32m    530\u001b[0m \u001b[38;5;28;01mif\u001b[39;00m \u001b[38;5;129;01mnot\u001b[39;00m missing_names \u001b[38;5;129;01mand\u001b[39;00m \u001b[38;5;129;01mnot\u001b[39;00m unexpected_names:\n\u001b[0;32m    531\u001b[0m     message \u001b[38;5;241m+\u001b[39m\u001b[38;5;241m=\u001b[39m (\n\u001b[0;32m    532\u001b[0m         \u001b[38;5;124m\"\u001b[39m\u001b[38;5;124mFeature names must be in the same order as they were in fit.\u001b[39m\u001b[38;5;130;01m\\n\u001b[39;00m\u001b[38;5;124m\"\u001b[39m\n\u001b[0;32m    533\u001b[0m     )\n\u001b[1;32m--> 535\u001b[0m \u001b[38;5;28;01mraise\u001b[39;00m \u001b[38;5;167;01mValueError\u001b[39;00m(message)\n",
      "\u001b[1;31mValueError\u001b[0m: The feature names should match those that were passed during fit.\nFeature names must be in the same order as they were in fit.\n"
     ]
    }
   ],
   "source": [
    "\n",
    "\n",
    "# New Customer Income Prediction\n",
    "# ----------a--------------------\n",
    "# Creating a New Customer Example\n",
    "new_customer = pd.DataFrame({\n",
    "    'Age': [45],\n",
    "    'Experience(Years)': [20],\n",
    "    'Sort Code': [90089],\n",
    "    'Family': [3],\n",
    "    'Credit Score': [1.8],\n",
    "    'Mortgage(Thousands\\'s)': [0],\n",
    "    'Personal Loan': [0],\n",
    "    'Securities Account': [1],\n",
    "    'CD Account': [0],\n",
    "    'Online Banking': [1],\n",
    "    'CreditCard': [0],\n",
    "    'Education_Diploma': [1],\n",
    "    'Education_Masters': [0],\n",
    "    'Education_Degree': [0]\n",
    "})\n",
    "\n",
    "# Scaling the new customer data\n",
    "new_customer_scaled = scaler_rf.transform(new_customer)\n",
    "\n",
    "# Predicting the income\n",
    "predicted_income = rf_model.predict(new_customer_scaled)\n",
    "\n",
    "print(f\"\\nPredicted Income (Thousands) for the New Customer: {predicted_income[0]:.2f}\")\n"
   ]
  },
  {
   "cell_type": "markdown",
   "id": "72489196-0239-4f09-8afd-a2f47ec66840",
   "metadata": {},
   "source": [
    "### Final Thoughts - Comparing Neural Network and Random Forest\n",
    "In this first part of the project, I used both a Neural Network and a Random Forest Regressor to try and predict customer income from the BankRecords.csv dataset.\n",
    "\n",
    "Why Did I Use Two Models?\n",
    "\n",
    "Neural Network: I used a neural network because it’s good at finding complex patterns in data. This is useful for real-world problems like finance. But I noticed that it needs a lot of data and can overfit easily, which happened to me during training.\n",
    "\n",
    "Random Forest: I also used a random forest model because it's simpler and easier to understand. It doesn’t overfit as easily (since it uses many trees and averages them), and it trains faster. It’s a good model to compare with the neural network.\n",
    "\n",
    "What I Learned:\n",
    "\n",
    "I learned how important it is to keep the model simple enough to avoid overfitting. That’s why I changed my neural network to have fewer layers and parameters, which helped make it more stable.\n",
    "\n",
    "I also saw that sometimes, simple models like random forest can actually do better than deep learning especially when the dataset is small or not too complicated.\n",
    "\n",
    "What’s Next:\n",
    "\n",
    "***(In Part 2 of the project, I’ll be working with a new text dataset to do sentiment analysis. I’ll keep using what I learned here, especially about choosing the right model depending on how big or complex the data is.)***"
   ]
  },
  {
   "cell_type": "markdown",
   "id": "ff532839-109b-4bff-a22e-c0312186dbc7",
   "metadata": {},
   "source": [
    "## **Part 2 - Sentiment Analysis**\n",
    "\n",
    "\n",
    "- Loading a new text-based dataset (at least 1000 text observations), as specified in the assignment.\n",
    "- Cleaning and preprocessing the text data to ensure better model performance.\n",
    "- Performing sentiment analysis to identify positive, neutral, and negative sentiments.\n",
    "- Visualizing the results to provide a clear picture of the overall sentiment distribution.\n"
   ]
  },
  {
   "cell_type": "markdown",
   "id": "9719a711-a050-4be1-b3c8-4c130209f28e",
   "metadata": {},
   "source": [
    "\n",
    "### **1. Dataset Selection and Loading**\n",
    "\n",
    "In this part, I will use a sentiment analysis dataset from social media as required by the brief. Since the focus is on analyzing positive, neutral, and negative sentiments, I will ensure the dataset is large enough (at least 1000 observations) to capture a wide range of opinions.\n"
   ]
  },
  {
   "cell_type": "code",
   "execution_count": null,
   "id": "57dd6d11-6ce7-463b-a9d1-17db69939067",
   "metadata": {},
   "outputs": [],
   "source": []
  },
  {
   "cell_type": "code",
   "execution_count": null,
   "id": "38c94594-14fd-4e69-9b37-8c918456f545",
   "metadata": {},
   "outputs": [],
   "source": []
  },
  {
   "cell_type": "markdown",
   "id": "c1124b54-4694-48d2-a469-60bdbb3727a8",
   "metadata": {},
   "source": [
    "---\n",
    "\n",
    "I am adding references as I go to simplify the final formating for me....\n",
    "\n",
    "# References\n",
    "\n",
    "### Class Materials  \n",
    "\n",
    "### Official Documentation \n",
    "- https://pandas.pydata.org/pandas-docs/stable/reference/api/pandas.DataFrame.info.html\n",
    "Accessed 10/05/2025\n",
    "\n",
    "- https://stackoverflow.com/questions/37292872/how-can-i-one-hot-encode-in-python\n",
    "Accessed 13/05/2025\n",
    "\n",
    "- https://datagy.io/pandas-get-dummies/\n",
    "Accessed 13/05/2025\n",
    "\n",
    "\n",
    "- https://medium.com/@thakurviku2003/why-is-the-random-state-42-in-machine-learning-the-answer-is-more-fun-than-you-think-964b0cc61199\n",
    "Accessed 16/05/2025\n",
    "\n",
    "\n",
    "- https://scikit-learn.org/stable/modules/generated/sklearn.model_selection.train_test_split.html\n",
    "Accessed 16/05/2025\n",
    "\n",
    "\n",
    "- https://www.ibm.com/think/topics/overfitting#:~:text=In%20machine%20learning%2C%20overfitting%20occurs,of%20the%20machine%20learning%20model.\n",
    "Accessed 16/05/2025 \n",
    "\n",
    "- https://www.tensorflow.org/guide/keras/sequential_model\n",
    "Accessed 17/05/2025\n",
    "\n",
    "- https://keras.io/guides/sequential_model/\n",
    "Accessed 17/05/2025\n",
    "\n",
    "- https://keras.io/api/callbacks/early_stopping/\n",
    "Accessed 17/05/2025\n",
    "\n",
    "\n",
    "- https://medium.com/%40piyushkashyap045/early-stopping-in-deep-learning-a-simple-guide-to-prevent-overfitting-1073f56b493e\n",
    "Accessed 17/05/2025\n",
    "\n",
    "\n",
    "- https://keras.io/api/models/model_training_apis/\n",
    "Accessed 17/05/2025\n",
    "\n",
    "\n",
    "- https://stackoverflow.com/questions/41908379/keras-plot-training-validation-and-test-set-accuracy\n",
    "Accessed 17/05/2025\n",
    "\n",
    "- https://machinelearningmastery.com/how-to-stop-training-deep-neural-networks-at-the-right-time-using-early-stopping/\n",
    "Accessed 17/05/2025\n",
    "\n",
    "\n",
    "- Scikit-Learn Documentation: https://scikit-learn.org/stable/modules/generated/sklearn.ensemble.RandomForestRegressor.html\n",
    "Accessed 17/05/2025"
   ]
  },
  {
   "cell_type": "code",
   "execution_count": null,
   "id": "33f60ee7-c870-4d5d-9e0c-b2c0c0db2bfb",
   "metadata": {},
   "outputs": [],
   "source": []
  },
  {
   "cell_type": "code",
   "execution_count": null,
   "id": "7570a584-5717-4172-a4a8-e8b292576986",
   "metadata": {},
   "outputs": [],
   "source": []
  },
  {
   "cell_type": "code",
   "execution_count": null,
   "id": "846f85bb-de6d-4178-9f7c-2a1580e753db",
   "metadata": {},
   "outputs": [],
   "source": []
  },
  {
   "cell_type": "code",
   "execution_count": null,
   "id": "3655febd-08cb-4f43-9cf8-183412c36064",
   "metadata": {},
   "outputs": [],
   "source": []
  },
  {
   "cell_type": "code",
   "execution_count": null,
   "id": "2a969693-659f-491b-9149-f4a437ca0f42",
   "metadata": {},
   "outputs": [],
   "source": []
  },
  {
   "cell_type": "code",
   "execution_count": null,
   "id": "ca745d1c-e7a8-4404-a2ae-f6f1259711c7",
   "metadata": {},
   "outputs": [],
   "source": []
  },
  {
   "cell_type": "code",
   "execution_count": null,
   "id": "70f4ff3e-e74f-4a78-a4f7-42ace28b8cf2",
   "metadata": {},
   "outputs": [],
   "source": []
  }
 ],
 "metadata": {
  "kernelspec": {
   "display_name": "Python 3 (ipykernel)",
   "language": "python",
   "name": "python3"
  },
  "language_info": {
   "codemirror_mode": {
    "name": "ipython",
    "version": 3
   },
   "file_extension": ".py",
   "mimetype": "text/x-python",
   "name": "python",
   "nbconvert_exporter": "python",
   "pygments_lexer": "ipython3",
   "version": "3.12.7"
  }
 },
 "nbformat": 4,
 "nbformat_minor": 5
}
