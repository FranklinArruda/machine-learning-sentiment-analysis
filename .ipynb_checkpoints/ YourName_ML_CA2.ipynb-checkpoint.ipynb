{
 "cells": [
  {
   "cell_type": "markdown",
   "id": "f3d232c9-489a-41f4-8078-e1208e8cc017",
   "metadata": {},
   "source": [
    "# Machine Learning Module, Data Analysis \n",
    "----------------------------------------\n",
    "\n",
    "- **Student Name:** `Franklin Arruda Cirino`\n",
    "- **Student Number:** `2021368`\n",
    "\n",
    "\n",
    "#### **Quick Notes:**  \n",
    " - Same as the first assignment, I am still catching up due to personal circumstances, having me to leave class a bit earlier than usual, relfecting on the learning and explation in class, however I have been reading the notes afterward, and this time I want to address the feedback directly and take to account the points made previously.\n",
    "   \n",
    " - The feedback mentioned that I should explain the **WHY** behind my choices more clearly, so I am making an effort to do that here.  \n"
   ]
  },
  {
   "cell_type": "markdown",
   "id": "04ca8c7b-2eca-4361-a796-49cf292a9622",
   "metadata": {},
   "source": [
    "## Part 1: Loading dataset and exploring it"
   ]
  },
  {
   "cell_type": "code",
   "execution_count": 1,
   "id": "77d1eeb1-9eb4-4486-a7e3-2349ab9821ed",
   "metadata": {},
   "outputs": [],
   "source": [
    "# Importing libraries\n",
    "import pandas as pd\n",
    "import numpy as np"
   ]
  },
  {
   "cell_type": "markdown",
   "id": "ee8798fa-c6ef-4d54-9b8d-fc57e75ea4cf",
   "metadata": {},
   "source": [
    "#### loading dataset\n",
    "This step is inspired by the Titanic notebook used in class, but I adapted again for this project."
   ]
  },
  {
   "cell_type": "code",
   "execution_count": 2,
   "id": "ae44cf40-c240-47e8-be26-47a233d8bd75",
   "metadata": {},
   "outputs": [],
   "source": [
    "# Loading the dataset (BankRecords.csv)\n",
    "df = pd.read_csv(r\"C:\\Users\\STUDENT\\Desktop\\ML-CA2-50\\BankRecords.csv\")"
   ]
  },
  {
   "cell_type": "markdown",
   "id": "9b0ccc24-da1f-471c-bab5-f0c535fd1cc5",
   "metadata": {},
   "source": [
    "#### Shape of the Dataset"
   ]
  },
  {
   "cell_type": "code",
   "execution_count": 3,
   "id": "97485bfb-d36b-446e-9c28-8ab4a711f727",
   "metadata": {},
   "outputs": [
    {
     "name": "stdout",
     "output_type": "stream",
     "text": [
      "\n",
      "Dataset Shape:\n",
      "(5000, 14)\n"
     ]
    }
   ],
   "source": [
    "# Checking shape of the dataset to understand the size\n",
    "print(\"\\nDataset Shape:\")\n",
    "print(df.shape) "
   ]
  },
  {
   "cell_type": "markdown",
   "id": "ea6d97c3-2ec4-4fae-b848-ef1e04bfdcbf",
   "metadata": {},
   "source": [
    "#### Sample rows OF dataset and cheking import was successful "
   ]
  },
  {
   "cell_type": "code",
   "execution_count": 4,
   "id": "5c7a24ca-b6e8-49aa-bd7c-3baab0bc21de",
   "metadata": {},
   "outputs": [
    {
     "name": "stdout",
     "output_type": "stream",
     "text": [
      "\n",
      "Sample of the Data:\n",
      "   ID  Age  Experience(Years)  Income(Thousands's)  Sort Code  Family  \\\n",
      "0   1   25                  1                   49      91107       4   \n",
      "1   2   45                 19                   34      90089       3   \n",
      "2   3   39                 15                   11      94720       1   \n",
      "3   4   35                  9                  100      94112       1   \n",
      "4   5   35                  8                   45      91330       4   \n",
      "\n",
      "   Credit Score Education  Mortgage(Thousands's) Personal Loan  \\\n",
      "0           1.6   Diploma                      0            No   \n",
      "1           1.5   Diploma                      0            No   \n",
      "2           1.0   Diploma                      0            No   \n",
      "3           2.7    Degree                      0            No   \n",
      "4           1.0    Degree                      0            No   \n",
      "\n",
      "  Securities Account CD Account Online Banking CreditCard  \n",
      "0                Yes         No             No         No  \n",
      "1                Yes         No             No         No  \n",
      "2                 No         No             No         No  \n",
      "3                 No         No             No         No  \n",
      "4                 No         No             No        Yes  \n"
     ]
    }
   ],
   "source": [
    "# Displaying a sample of the dataset\n",
    "print(\"\\nSample of the Data:\")\n",
    "print(df.head())  "
   ]
  },
  {
   "cell_type": "markdown",
   "id": "83d48519-e470-4ce3-8e02-f753b4a40785",
   "metadata": {},
   "source": [
    "---\n",
    "\n",
    "### Checking Missing Values and Data Types, and memory usage:\n",
    "This is an improvement from my first assignment, where I overlooked the impact of **NaNs** until later on the project.\n",
    "\n",
    "Like, In my first assignment, I delayed checking for missing values and data types, which led to issues when training my models. This time, I am prioritizing this step to avoid similar mistakes because The feedback emphasized the importance of understanding the structure of the data early during the porject. Which would help me avoid the **\"late detection\"** problem I faced in my first assignment.\n",
    "\n",
    "During the research on how to make the initial steps better I also bumped into a very interesting thing about memory usage whhich can help larger datasets not be interrupted during the model training, therefore, avoiding being out of memory errors. \n",
    "\n",
    "Checking data types and memory usage taken from pandas documentation: (https://pandas.pydata.org/pandas-docs/stable/reference/api/pandas.DataFrame.info.html)\n",
    "\n"
   ]
  },
  {
   "cell_type": "markdown",
   "id": "048d316a-b3bf-4705-abb1-14a6c40011bb",
   "metadata": {},
   "source": [
    "##### Data Types and Memory Usage"
   ]
  },
  {
   "cell_type": "code",
   "execution_count": 5,
   "id": "123ef706-a54a-4424-9bff-f77627b53f27",
   "metadata": {},
   "outputs": [
    {
     "name": "stdout",
     "output_type": "stream",
     "text": [
      "\n",
      "Data Types and Memory Usage:\n",
      "<class 'pandas.core.frame.DataFrame'>\n",
      "RangeIndex: 5000 entries, 0 to 4999\n",
      "Data columns (total 14 columns):\n",
      " #   Column                 Non-Null Count  Dtype  \n",
      "---  ------                 --------------  -----  \n",
      " 0   ID                     5000 non-null   int64  \n",
      " 1   Age                    5000 non-null   int64  \n",
      " 2   Experience(Years)      5000 non-null   int64  \n",
      " 3   Income(Thousands's)    5000 non-null   int64  \n",
      " 4   Sort Code              5000 non-null   int64  \n",
      " 5   Family                 5000 non-null   int64  \n",
      " 6   Credit Score           5000 non-null   float64\n",
      " 7   Education              5000 non-null   object \n",
      " 8   Mortgage(Thousands's)  5000 non-null   int64  \n",
      " 9   Personal Loan          5000 non-null   object \n",
      " 10  Securities Account     5000 non-null   object \n",
      " 11  CD Account             5000 non-null   object \n",
      " 12  Online Banking         5000 non-null   object \n",
      " 13  CreditCard             5000 non-null   object \n",
      "dtypes: float64(1), int64(7), object(6)\n",
      "memory usage: 547.0+ KB\n",
      "None\n"
     ]
    }
   ],
   "source": [
    "# Checking data types and overall structure\n",
    "\n",
    "print(\"\\nData Types and Memory Usage:\")\n",
    "df_info = df.info()  # Checking data types and memory usage here...\n",
    "print(df_info)"
   ]
  },
  {
   "cell_type": "markdown",
   "id": "01827e65-bc05-46d6-b738-1adde8810116",
   "metadata": {},
   "source": [
    "##### Missing Values "
   ]
  },
  {
   "cell_type": "code",
   "execution_count": 6,
   "id": "2b20b411-46b8-4d4e-a24a-f7ef7ac042dc",
   "metadata": {},
   "outputs": [
    {
     "name": "stdout",
     "output_type": "stream",
     "text": [
      "\n",
      "Missing Values:\n",
      "ID                       0\n",
      "Age                      0\n",
      "Experience(Years)        0\n",
      "Income(Thousands's)      0\n",
      "Sort Code                0\n",
      "Family                   0\n",
      "Credit Score             0\n",
      "Education                0\n",
      "Mortgage(Thousands's)    0\n",
      "Personal Loan            0\n",
      "Securities Account       0\n",
      "CD Account               0\n",
      "Online Banking           0\n",
      "CreditCard               0\n",
      "dtype: int64\n"
     ]
    }
   ],
   "source": [
    "# Checking for missing values in each column this time\n",
    "print(\"\\nMissing Values:\")\n",
    "missing_values = df.isnull().sum()\n",
    "print(missing_values)"
   ]
  },
  {
   "cell_type": "markdown",
   "id": "62995a14-33ee-49ca-a9e0-27a4b1814a86",
   "metadata": {},
   "source": [
    "#### Dropping rows with missing values"
   ]
  },
  {
   "cell_type": "code",
   "execution_count": 11,
   "id": "b67fdbba-d62b-4ebf-95fc-ea2d4c0c15d6",
   "metadata": {},
   "outputs": [],
   "source": [
    "df.dropna(inplace=True)"
   ]
  },
  {
   "cell_type": "code",
   "execution_count": 9,
   "id": "2d1b9768-aeee-45c7-b8ae-e7827e74d8c1",
   "metadata": {},
   "outputs": [
    {
     "name": "stdout",
     "output_type": "stream",
     "text": [
      "\n",
      "Checking for Missing Values After Cleanup:\n",
      "ID                       0\n",
      "Age                      0\n",
      "Experience(Years)        0\n",
      "Income(Thousands's)      0\n",
      "Sort Code                0\n",
      "Family                   0\n",
      "Credit Score             0\n",
      "Education                0\n",
      "Mortgage(Thousands's)    0\n",
      "Personal Loan            0\n",
      "Securities Account       0\n",
      "CD Account               0\n",
      "Online Banking           0\n",
      "CreditCard               0\n",
      "dtype: int64\n"
     ]
    }
   ],
   "source": [
    "print(\"\\nChecking for Missing Values After Cleanup:\")\n",
    "print(df.isnull().sum())"
   ]
  },
  {
   "cell_type": "markdown",
   "id": "88a041b3-7663-4a0f-9bef-9dcd03f14927",
   "metadata": {},
   "source": [
    "#### Converting categorical columns to category type\n",
    "\n",
    "Following up the first assignment feedback, I missed some basic data type optimizations, which could have made the data preparation faster. This time, I am addressing this earlier to avoid similar issues."
   ]
  },
  {
   "cell_type": "code",
   "execution_count": null,
   "id": "9094f35a-4307-49a3-b2e8-6f245a27187b",
   "metadata": {},
   "outputs": [],
   "source": [
    "categorical_columns = ['Education', 'Personal Loan', 'Securities Account', 'CD Account', 'Online Banking', 'CreditCard']\n",
    "df[categorical_columns] = df[categorical_columns].astype('category')"
   ]
  },
  {
   "cell_type": "code",
   "execution_count": 13,
   "id": "ec1dbb03-e744-463e-ad4e-425211d9c2e9",
   "metadata": {},
   "outputs": [
    {
     "name": "stdout",
     "output_type": "stream",
     "text": [
      "\n",
      "Sample Data After Preprocessing:\n",
      "   ID  Age  Experience(Years)  Income(Thousands's)  Sort Code  Family  \\\n",
      "0   1   25                  1                   49      91107       4   \n",
      "1   2   45                 19                   34      90089       3   \n",
      "2   3   39                 15                   11      94720       1   \n",
      "3   4   35                  9                  100      94112       1   \n",
      "4   5   35                  8                   45      91330       4   \n",
      "\n",
      "   Credit Score Education  Mortgage(Thousands's) Personal Loan  \\\n",
      "0           1.6   Diploma                      0            No   \n",
      "1           1.5   Diploma                      0            No   \n",
      "2           1.0   Diploma                      0            No   \n",
      "3           2.7    Degree                      0            No   \n",
      "4           1.0    Degree                      0            No   \n",
      "\n",
      "  Securities Account CD Account Online Banking CreditCard  \n",
      "0                Yes         No             No         No  \n",
      "1                Yes         No             No         No  \n",
      "2                 No         No             No         No  \n",
      "3                 No         No             No         No  \n",
      "4                 No         No             No        Yes  \n"
     ]
    }
   ],
   "source": [
    "# Display a sample to confirm changes\n",
    "print(\"\\nSample Data After Preprocessing:\")\n",
    "print(df.head())"
   ]
  },
  {
   "cell_type": "markdown",
   "id": "c1124b54-4694-48d2-a469-60bdbb3727a8",
   "metadata": {},
   "source": [
    "---\n",
    "\n",
    "I am adding references as I go to simplify the final formating for me....\n",
    "\n",
    "# References\n",
    "\n",
    "### Class Materials  \n",
    "\n",
    "### Official Documentation \n",
    "- https://pandas.pydata.org/pandas-docs/stable/reference/api/pandas.DataFrame.info.html\n",
    "- Accessed 10/05/2025\n",
    "\n",
    "\n",
    "\n"
   ]
  },
  {
   "cell_type": "code",
   "execution_count": null,
   "id": "33f60ee7-c870-4d5d-9e0c-b2c0c0db2bfb",
   "metadata": {},
   "outputs": [],
   "source": []
  }
 ],
 "metadata": {
  "kernelspec": {
   "display_name": "Python 3 (ipykernel)",
   "language": "python",
   "name": "python3"
  },
  "language_info": {
   "codemirror_mode": {
    "name": "ipython",
    "version": 3
   },
   "file_extension": ".py",
   "mimetype": "text/x-python",
   "name": "python",
   "nbconvert_exporter": "python",
   "pygments_lexer": "ipython3",
   "version": "3.12.7"
  }
 },
 "nbformat": 4,
 "nbformat_minor": 5
}
