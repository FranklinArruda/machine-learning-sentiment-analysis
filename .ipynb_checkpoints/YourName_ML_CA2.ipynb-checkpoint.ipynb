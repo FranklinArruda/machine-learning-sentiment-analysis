{
 "cells": [
  {
   "cell_type": "markdown",
   "id": "f3d232c9-489a-41f4-8078-e1208e8cc017",
   "metadata": {},
   "source": [
    "# Machine Learning Module, Data Analysis \n",
    "----------------------------------------\n",
    "\n",
    "- **Student Name:** `Franklin Arruda Cirino`\n",
    "- **Student Number:** `2021368`\n",
    "\n",
    "\n",
    "#### **Quick Notes:**  \n",
    " - Same as the first assignment, I am still catching up due to personal circumstances, having me to leave class a bit earlier than usual, relfecting on the learning and explation in class, however I have been reading the notes afterward, and this time I want to address the feedback directly and take to account the points made previously.\n",
    "   \n",
    " - The feedback mentioned that I should explain the **WHY** behind my choices more clearly, so I am making an effort to do that here.  \n"
   ]
  },
  {
   "cell_type": "markdown",
   "id": "cedaca0e-25c8-4d3e-a338-c00bf3e912fe",
   "metadata": {},
   "source": [
    "### I had to install the tensorflow library for my model later on as it was complaining when hit run"
   ]
  },
  {
   "cell_type": "code",
   "execution_count": 1,
   "id": "475c4dab-265b-4a71-8d91-1db96f97f0a8",
   "metadata": {},
   "outputs": [
    {
     "name": "stdout",
     "output_type": "stream",
     "text": [
      "Defaulting to user installation because normal site-packages is not writeable\n",
      "Requirement already satisfied: tensorflow in c:\\users\\student\\appdata\\roaming\\python\\python312\\site-packages (2.19.0)\n",
      "Requirement already satisfied: absl-py>=1.0.0 in c:\\users\\student\\appdata\\roaming\\python\\python312\\site-packages (from tensorflow) (2.2.2)\n",
      "Requirement already satisfied: astunparse>=1.6.0 in c:\\users\\student\\appdata\\roaming\\python\\python312\\site-packages (from tensorflow) (1.6.3)\n",
      "Requirement already satisfied: flatbuffers>=24.3.25 in c:\\users\\student\\appdata\\roaming\\python\\python312\\site-packages (from tensorflow) (25.2.10)\n",
      "Requirement already satisfied: gast!=0.5.0,!=0.5.1,!=0.5.2,>=0.2.1 in c:\\users\\student\\appdata\\roaming\\python\\python312\\site-packages (from tensorflow) (0.6.0)\n",
      "Requirement already satisfied: google-pasta>=0.1.1 in c:\\users\\student\\appdata\\roaming\\python\\python312\\site-packages (from tensorflow) (0.2.0)\n",
      "Requirement already satisfied: libclang>=13.0.0 in c:\\users\\student\\appdata\\roaming\\python\\python312\\site-packages (from tensorflow) (18.1.1)\n",
      "Requirement already satisfied: opt-einsum>=2.3.2 in c:\\users\\student\\appdata\\roaming\\python\\python312\\site-packages (from tensorflow) (3.4.0)\n",
      "Requirement already satisfied: packaging in c:\\programdata\\anaconda3\\lib\\site-packages (from tensorflow) (24.1)\n",
      "Requirement already satisfied: protobuf!=4.21.0,!=4.21.1,!=4.21.2,!=4.21.3,!=4.21.4,!=4.21.5,<6.0.0dev,>=3.20.3 in c:\\programdata\\anaconda3\\lib\\site-packages (from tensorflow) (4.25.3)\n",
      "Requirement already satisfied: requests<3,>=2.21.0 in c:\\programdata\\anaconda3\\lib\\site-packages (from tensorflow) (2.32.3)\n",
      "Requirement already satisfied: setuptools in c:\\programdata\\anaconda3\\lib\\site-packages (from tensorflow) (75.1.0)\n",
      "Requirement already satisfied: six>=1.12.0 in c:\\programdata\\anaconda3\\lib\\site-packages (from tensorflow) (1.16.0)\n",
      "Requirement already satisfied: termcolor>=1.1.0 in c:\\users\\student\\appdata\\roaming\\python\\python312\\site-packages (from tensorflow) (3.1.0)\n",
      "Requirement already satisfied: typing-extensions>=3.6.6 in c:\\programdata\\anaconda3\\lib\\site-packages (from tensorflow) (4.11.0)\n",
      "Requirement already satisfied: wrapt>=1.11.0 in c:\\programdata\\anaconda3\\lib\\site-packages (from tensorflow) (1.14.1)\n",
      "Requirement already satisfied: grpcio<2.0,>=1.24.3 in c:\\users\\student\\appdata\\roaming\\python\\python312\\site-packages (from tensorflow) (1.71.0)\n",
      "Requirement already satisfied: tensorboard~=2.19.0 in c:\\users\\student\\appdata\\roaming\\python\\python312\\site-packages (from tensorflow) (2.19.0)\n",
      "Requirement already satisfied: keras>=3.5.0 in c:\\users\\student\\appdata\\roaming\\python\\python312\\site-packages (from tensorflow) (3.9.2)\n",
      "Requirement already satisfied: numpy<2.2.0,>=1.26.0 in c:\\programdata\\anaconda3\\lib\\site-packages (from tensorflow) (1.26.4)\n",
      "Requirement already satisfied: h5py>=3.11.0 in c:\\programdata\\anaconda3\\lib\\site-packages (from tensorflow) (3.11.0)\n",
      "Requirement already satisfied: ml-dtypes<1.0.0,>=0.5.1 in c:\\users\\student\\appdata\\roaming\\python\\python312\\site-packages (from tensorflow) (0.5.1)\n",
      "Requirement already satisfied: wheel<1.0,>=0.23.0 in c:\\programdata\\anaconda3\\lib\\site-packages (from astunparse>=1.6.0->tensorflow) (0.44.0)\n",
      "Requirement already satisfied: rich in c:\\programdata\\anaconda3\\lib\\site-packages (from keras>=3.5.0->tensorflow) (13.7.1)\n",
      "Requirement already satisfied: namex in c:\\users\\student\\appdata\\roaming\\python\\python312\\site-packages (from keras>=3.5.0->tensorflow) (0.0.9)\n",
      "Requirement already satisfied: optree in c:\\users\\student\\appdata\\roaming\\python\\python312\\site-packages (from keras>=3.5.0->tensorflow) (0.15.0)\n",
      "Requirement already satisfied: charset-normalizer<4,>=2 in c:\\programdata\\anaconda3\\lib\\site-packages (from requests<3,>=2.21.0->tensorflow) (3.3.2)\n",
      "Requirement already satisfied: idna<4,>=2.5 in c:\\programdata\\anaconda3\\lib\\site-packages (from requests<3,>=2.21.0->tensorflow) (3.7)\n",
      "Requirement already satisfied: urllib3<3,>=1.21.1 in c:\\programdata\\anaconda3\\lib\\site-packages (from requests<3,>=2.21.0->tensorflow) (2.2.3)\n",
      "Requirement already satisfied: certifi>=2017.4.17 in c:\\programdata\\anaconda3\\lib\\site-packages (from requests<3,>=2.21.0->tensorflow) (2024.8.30)\n",
      "Requirement already satisfied: markdown>=2.6.8 in c:\\programdata\\anaconda3\\lib\\site-packages (from tensorboard~=2.19.0->tensorflow) (3.4.1)\n",
      "Requirement already satisfied: tensorboard-data-server<0.8.0,>=0.7.0 in c:\\users\\student\\appdata\\roaming\\python\\python312\\site-packages (from tensorboard~=2.19.0->tensorflow) (0.7.2)\n",
      "Requirement already satisfied: werkzeug>=1.0.1 in c:\\programdata\\anaconda3\\lib\\site-packages (from tensorboard~=2.19.0->tensorflow) (3.0.3)\n",
      "Requirement already satisfied: MarkupSafe>=2.1.1 in c:\\programdata\\anaconda3\\lib\\site-packages (from werkzeug>=1.0.1->tensorboard~=2.19.0->tensorflow) (2.1.3)\n",
      "Requirement already satisfied: markdown-it-py>=2.2.0 in c:\\programdata\\anaconda3\\lib\\site-packages (from rich->keras>=3.5.0->tensorflow) (2.2.0)\n",
      "Requirement already satisfied: pygments<3.0.0,>=2.13.0 in c:\\programdata\\anaconda3\\lib\\site-packages (from rich->keras>=3.5.0->tensorflow) (2.15.1)\n",
      "Requirement already satisfied: mdurl~=0.1 in c:\\programdata\\anaconda3\\lib\\site-packages (from markdown-it-py>=2.2.0->rich->keras>=3.5.0->tensorflow) (0.1.0)\n"
     ]
    }
   ],
   "source": [
    "!pip install tensorflow"
   ]
  },
  {
   "cell_type": "markdown",
   "id": "04ca8c7b-2eca-4361-a796-49cf292a9622",
   "metadata": {},
   "source": [
    "## **Part 1 - Neural Network for Income Prediction**\n",
    "### **1. Environment Setup**\n",
    "\n",
    "First, I need to set up the environment by importing the necessary libraries for data manipulation and machine learning. This includes **pandas** and **numpy** for data handling, as well as **tensorflow** for building my neural network.\n"
   ]
  },
  {
   "cell_type": "code",
   "execution_count": 38,
   "id": "77d1eeb1-9eb4-4486-a7e3-2349ab9821ed",
   "metadata": {},
   "outputs": [],
   "source": [
    "# Importing libraries\n",
    "import pandas as pd\n",
    "import numpy as np\n",
    "from sklearn.model_selection import train_test_split\n",
    "from sklearn.preprocessing import MinMaxScaler\n",
    "from sklearn.ensemble import RandomForestRegressor\n",
    "from sklearn.metrics import mean_squared_error, mean_absolute_error, r2_score"
   ]
  },
  {
   "cell_type": "markdown",
   "id": "ee8798fa-c6ef-4d54-9b8d-fc57e75ea4cf",
   "metadata": {},
   "source": [
    "### **2. Loading and Inspecting the Dataset**\n",
    "This step is inspired by the Titanic notebook used in class, but I adapted again for this project."
   ]
  },
  {
   "cell_type": "code",
   "execution_count": 3,
   "id": "ae44cf40-c240-47e8-be26-47a233d8bd75",
   "metadata": {},
   "outputs": [],
   "source": [
    "# Loading the dataset (BankRecords.csv)\n",
    "df = pd.read_csv(r\"C:\\Users\\STUDENT\\Desktop\\ML-CA2-50\\BankRecords.csv\")"
   ]
  },
  {
   "cell_type": "markdown",
   "id": "9b0ccc24-da1f-471c-bab5-f0c535fd1cc5",
   "metadata": {},
   "source": [
    "#### Shape of the Dataset"
   ]
  },
  {
   "cell_type": "code",
   "execution_count": 4,
   "id": "97485bfb-d36b-446e-9c28-8ab4a711f727",
   "metadata": {},
   "outputs": [
    {
     "name": "stdout",
     "output_type": "stream",
     "text": [
      "\n",
      "Dataset Shape:\n",
      "(5000, 14)\n"
     ]
    }
   ],
   "source": [
    "# Checking shape of the dataset to understand the size\n",
    "print(\"\\nDataset Shape:\")\n",
    "print(df.shape) "
   ]
  },
  {
   "cell_type": "markdown",
   "id": "ea6d97c3-2ec4-4fae-b848-ef1e04bfdcbf",
   "metadata": {},
   "source": [
    "#### Sample rows OF dataset and cheking import was successful "
   ]
  },
  {
   "cell_type": "code",
   "execution_count": 5,
   "id": "5c7a24ca-b6e8-49aa-bd7c-3baab0bc21de",
   "metadata": {},
   "outputs": [
    {
     "name": "stdout",
     "output_type": "stream",
     "text": [
      "\n",
      "Sample of the Data:\n",
      "   ID  Age  Experience(Years)  Income(Thousands's)  Sort Code  Family  \\\n",
      "0   1   25                  1                   49      91107       4   \n",
      "1   2   45                 19                   34      90089       3   \n",
      "2   3   39                 15                   11      94720       1   \n",
      "3   4   35                  9                  100      94112       1   \n",
      "4   5   35                  8                   45      91330       4   \n",
      "\n",
      "   Credit Score Education  Mortgage(Thousands's) Personal Loan  \\\n",
      "0           1.6   Diploma                      0            No   \n",
      "1           1.5   Diploma                      0            No   \n",
      "2           1.0   Diploma                      0            No   \n",
      "3           2.7    Degree                      0            No   \n",
      "4           1.0    Degree                      0            No   \n",
      "\n",
      "  Securities Account CD Account Online Banking CreditCard  \n",
      "0                Yes         No             No         No  \n",
      "1                Yes         No             No         No  \n",
      "2                 No         No             No         No  \n",
      "3                 No         No             No         No  \n",
      "4                 No         No             No        Yes  \n"
     ]
    }
   ],
   "source": [
    "# Displaying a sample of the dataset\n",
    "print(\"\\nSample of the Data:\")\n",
    "print(df.head())  "
   ]
  },
  {
   "cell_type": "markdown",
   "id": "83d48519-e470-4ce3-8e02-f753b4a40785",
   "metadata": {},
   "source": [
    "---\n",
    "\n",
    "#### Checking Missing Values and Data Types, and memory usage:\n",
    "This is an improvement from my first assignment, where I overlooked the impact of **NaNs** until later on the project.\n",
    "\n",
    "Like, In my first assignment, I delayed checking for missing values and data types, which led to issues when training my models. This time, I am prioritizing this step to avoid similar mistakes because The feedback emphasized the importance of understanding the structure of the data early during the porject. Which would help me avoid the **\"late detection\"** problem I faced in my first assignment.\n",
    "\n",
    "During the research on how to make the initial steps better I also bumped into a very interesting thing about memory usage whhich can help larger datasets not be interrupted during the model training, therefore, avoiding being out of memory errors. \n",
    "\n",
    "Checking data types and memory usage taken from pandas documentation: (https://pandas.pydata.org/pandas-docs/stable/reference/api/pandas.DataFrame.info.html)\n",
    "\n"
   ]
  },
  {
   "cell_type": "markdown",
   "id": "048d316a-b3bf-4705-abb1-14a6c40011bb",
   "metadata": {},
   "source": [
    "##### Data Types and Memory Usage"
   ]
  },
  {
   "cell_type": "code",
   "execution_count": 6,
   "id": "123ef706-a54a-4424-9bff-f77627b53f27",
   "metadata": {},
   "outputs": [
    {
     "name": "stdout",
     "output_type": "stream",
     "text": [
      "\n",
      "Data Types and Memory Usage:\n",
      "<class 'pandas.core.frame.DataFrame'>\n",
      "RangeIndex: 5000 entries, 0 to 4999\n",
      "Data columns (total 14 columns):\n",
      " #   Column                 Non-Null Count  Dtype  \n",
      "---  ------                 --------------  -----  \n",
      " 0   ID                     5000 non-null   int64  \n",
      " 1   Age                    5000 non-null   int64  \n",
      " 2   Experience(Years)      5000 non-null   int64  \n",
      " 3   Income(Thousands's)    5000 non-null   int64  \n",
      " 4   Sort Code              5000 non-null   int64  \n",
      " 5   Family                 5000 non-null   int64  \n",
      " 6   Credit Score           5000 non-null   float64\n",
      " 7   Education              5000 non-null   object \n",
      " 8   Mortgage(Thousands's)  5000 non-null   int64  \n",
      " 9   Personal Loan          5000 non-null   object \n",
      " 10  Securities Account     5000 non-null   object \n",
      " 11  CD Account             5000 non-null   object \n",
      " 12  Online Banking         5000 non-null   object \n",
      " 13  CreditCard             5000 non-null   object \n",
      "dtypes: float64(1), int64(7), object(6)\n",
      "memory usage: 547.0+ KB\n",
      "None\n"
     ]
    }
   ],
   "source": [
    "# Checking data types and overall structure\n",
    "\n",
    "print(\"\\nData Types and Memory Usage:\")\n",
    "df_info = df.info()  # Checking data types and memory usage here...\n",
    "print(df_info)"
   ]
  },
  {
   "cell_type": "markdown",
   "id": "01827e65-bc05-46d6-b738-1adde8810116",
   "metadata": {},
   "source": [
    "##### Missing Values "
   ]
  },
  {
   "cell_type": "code",
   "execution_count": 7,
   "id": "2b20b411-46b8-4d4e-a24a-f7ef7ac042dc",
   "metadata": {},
   "outputs": [
    {
     "name": "stdout",
     "output_type": "stream",
     "text": [
      "\n",
      "Missing Values:\n",
      "ID                       0\n",
      "Age                      0\n",
      "Experience(Years)        0\n",
      "Income(Thousands's)      0\n",
      "Sort Code                0\n",
      "Family                   0\n",
      "Credit Score             0\n",
      "Education                0\n",
      "Mortgage(Thousands's)    0\n",
      "Personal Loan            0\n",
      "Securities Account       0\n",
      "CD Account               0\n",
      "Online Banking           0\n",
      "CreditCard               0\n",
      "dtype: int64\n"
     ]
    }
   ],
   "source": [
    "# Checking for missing values in each column this time\n",
    "print(\"\\nMissing Values:\")\n",
    "missing_values = df.isnull().sum()\n",
    "print(missing_values)"
   ]
  },
  {
   "cell_type": "markdown",
   "id": "62995a14-33ee-49ca-a9e0-27a4b1814a86",
   "metadata": {},
   "source": [
    "### **3. Data Cleaning and Preprocessing**\n",
    "\n",
    "To prepare the data for training, I dropped the **ID** column, converted the **Yes/No** columns to 1/0, and applied one-hot encoding to the **Education** column.\n",
    "\n",
    "#### Dropping the 'ID' column since it's just an identifier\n",
    "- I removed the 'ID' column because it’s just a number to identify each person. It doesn’t help the model learn anything, so I don’t need it.\n"
   ]
  },
  {
   "cell_type": "code",
   "execution_count": 8,
   "id": "37190a64-233d-4d9c-941e-5d4fc80bac71",
   "metadata": {},
   "outputs": [
    {
     "name": "stdout",
     "output_type": "stream",
     "text": [
      "\n",
      "Dropping the 'ID' column...\n"
     ]
    }
   ],
   "source": [
    "print(\"\\nDropping the 'ID' column...\")\n",
    "df.drop(columns=['ID'], inplace=True)"
   ]
  },
  {
   "cell_type": "markdown",
   "id": "548c1d60-71c2-4f39-9876-f045ac3bd47c",
   "metadata": {},
   "source": [
    "#### Verifying the data after dropping 'ID'"
   ]
  },
  {
   "cell_type": "code",
   "execution_count": 9,
   "id": "21532854-851c-4eca-91df-6f4ae1663e3a",
   "metadata": {},
   "outputs": [
    {
     "name": "stdout",
     "output_type": "stream",
     "text": [
      "\n",
      "Data after dropping 'ID':\n",
      "   Age  Experience(Years)  Income(Thousands's)  Sort Code  Family  \\\n",
      "0   25                  1                   49      91107       4   \n",
      "1   45                 19                   34      90089       3   \n",
      "2   39                 15                   11      94720       1   \n",
      "3   35                  9                  100      94112       1   \n",
      "4   35                  8                   45      91330       4   \n",
      "\n",
      "   Credit Score Education  Mortgage(Thousands's) Personal Loan  \\\n",
      "0           1.6   Diploma                      0            No   \n",
      "1           1.5   Diploma                      0            No   \n",
      "2           1.0   Diploma                      0            No   \n",
      "3           2.7    Degree                      0            No   \n",
      "4           1.0    Degree                      0            No   \n",
      "\n",
      "  Securities Account CD Account Online Banking CreditCard  \n",
      "0                Yes         No             No         No  \n",
      "1                Yes         No             No         No  \n",
      "2                 No         No             No         No  \n",
      "3                 No         No             No         No  \n",
      "4                 No         No             No        Yes  \n"
     ]
    }
   ],
   "source": [
    "print(\"\\nData after dropping 'ID':\")\n",
    "print(df.head())"
   ]
  },
  {
   "cell_type": "markdown",
   "id": "c5023eb9-816e-4411-a0c9-985421088859",
   "metadata": {},
   "source": [
    "#### Binary encoding for 'Yes'/'No' columns\n",
    "\n",
    "These columns have \"Yes\" and \"No\" answers. I changed them to 1 for Yes and 0 for No. This is because computers work better with numbers..haha"
   ]
  },
  {
   "cell_type": "code",
   "execution_count": 10,
   "id": "a3f04c31-6111-4f4d-bc59-cd8b13ee2df7",
   "metadata": {},
   "outputs": [
    {
     "name": "stderr",
     "output_type": "stream",
     "text": [
      "C:\\Users\\STUDENT\\AppData\\Local\\Temp\\ipykernel_4308\\115265984.py:2: FutureWarning: Downcasting behavior in `replace` is deprecated and will be removed in a future version. To retain the old behavior, explicitly call `result.infer_objects(copy=False)`. To opt-in to the future behavior, set `pd.set_option('future.no_silent_downcasting', True)`\n",
      "  df[binary_cols] = df[binary_cols].replace({'No': 0, 'Yes': 1}).astype(int)\n"
     ]
    }
   ],
   "source": [
    "binary_cols = ['Personal Loan', 'Securities Account', 'CD Account', 'Online Banking', 'CreditCard']\n",
    "df[binary_cols] = df[binary_cols].replace({'No': 0, 'Yes': 1}).astype(int)"
   ]
  },
  {
   "cell_type": "markdown",
   "id": "8d37a1e3-9b7d-4f79-8ff0-81cd9e40caf5",
   "metadata": {},
   "source": [
    "#### Verifying the binary encoding\n",
    "\n",
    "I printed the first few rows to check if the Yes/No values changed correctly into 1 and 0."
   ]
  },
  {
   "cell_type": "code",
   "execution_count": 11,
   "id": "a06e3c68-9469-428c-ad9e-3bd6e5bf0c64",
   "metadata": {},
   "outputs": [
    {
     "name": "stdout",
     "output_type": "stream",
     "text": [
      "\n",
      "Sample of Binary Encoding:\n",
      "   Personal Loan  Securities Account  CD Account  Online Banking  CreditCard\n",
      "0              0                   1           0               0           0\n",
      "1              0                   1           0               0           0\n",
      "2              0                   0           0               0           0\n",
      "3              0                   0           0               0           0\n",
      "4              0                   0           0               0           1\n"
     ]
    }
   ],
   "source": [
    "print(\"\\nSample of Binary Encoding:\")\n",
    "print(df[binary_cols].head())"
   ]
  },
  {
   "cell_type": "markdown",
   "id": "ffc89db5-376f-43fa-ba1e-5dbc7745b805",
   "metadata": {},
   "source": [
    "#### One-Hot Encoding for the 'Education' column\n",
    "This is a nominal categorical feature, so one hot encoding might be appropriate here.\n",
    "\n",
    "I checked what different types of education are in the data, and how many people are in each group."
   ]
  },
  {
   "cell_type": "code",
   "execution_count": 12,
   "id": "0febd005-6ee7-4461-90fc-4382eb8084ce",
   "metadata": {},
   "outputs": [
    {
     "name": "stdout",
     "output_type": "stream",
     "text": [
      "\n",
      "Unique Values in 'Education':\n",
      "Education\n",
      "Diploma    2096\n",
      "Masters    1501\n",
      "Degree     1403\n",
      "Name: count, dtype: int64\n"
     ]
    }
   ],
   "source": [
    "print(\"\\nUnique Values in 'Education':\")\n",
    "print(df['Education'].value_counts())\n",
    "\n",
    "# I changed the 'Education' column into new columns with numbers. \n",
    "# Each new column is for one type of education. \n",
    "# I used drop_first=True so I don’t repeat the same info.\n",
    "df = pd.get_dummies(df, columns=['Education'], drop_first=False)"
   ]
  },
  {
   "cell_type": "markdown",
   "id": "020cadd7-b025-4b97-9bbd-f451169f469f",
   "metadata": {},
   "source": [
    "#### Converting the one-hot encoded columns to integers\n",
    "This avoids any future issues with boolean data types."
   ]
  },
  {
   "cell_type": "code",
   "execution_count": 13,
   "id": "8fca65ee-cf41-4b56-ba4e-9dfaeee8b839",
   "metadata": {},
   "outputs": [],
   "source": [
    "education_cols = [col for col in df.columns if 'Education_' in col]\n",
    "df[education_cols] = df[education_cols].astype(int)"
   ]
  },
  {
   "cell_type": "markdown",
   "id": "5b4b2f97-086c-4346-9df6-5a1ce8d2b4a2",
   "metadata": {},
   "source": [
    "#### Verifying the one-hot encoding , final check for the shape and Printing the columns before and after encoding for verification"
   ]
  },
  {
   "cell_type": "code",
   "execution_count": 14,
   "id": "fc01f5af-521f-4c14-b9b0-47bd00f7563b",
   "metadata": {},
   "outputs": [
    {
     "name": "stdout",
     "output_type": "stream",
     "text": [
      "\n",
      "Data after One-Hot Encoding 'Education':\n",
      "   Age  Experience(Years)  Income(Thousands's)  Sort Code  Family  \\\n",
      "0   25                  1                   49      91107       4   \n",
      "1   45                 19                   34      90089       3   \n",
      "2   39                 15                   11      94720       1   \n",
      "3   35                  9                  100      94112       1   \n",
      "4   35                  8                   45      91330       4   \n",
      "\n",
      "   Credit Score  Mortgage(Thousands's)  Personal Loan  Securities Account  \\\n",
      "0           1.6                      0              0                   1   \n",
      "1           1.5                      0              0                   1   \n",
      "2           1.0                      0              0                   0   \n",
      "3           2.7                      0              0                   0   \n",
      "4           1.0                      0              0                   0   \n",
      "\n",
      "   CD Account  Online Banking  CreditCard  Education_Degree  \\\n",
      "0           0               0           0                 0   \n",
      "1           0               0           0                 0   \n",
      "2           0               0           0                 0   \n",
      "3           0               0           0                 1   \n",
      "4           0               0           1                 1   \n",
      "\n",
      "   Education_Diploma  Education_Masters  \n",
      "0                  1                  0  \n",
      "1                  1                  0  \n",
      "2                  1                  0  \n",
      "3                  0                  0  \n",
      "4                  0                  0  \n"
     ]
    }
   ],
   "source": [
    "# Verifying the one-hot encoding\n",
    "print(\"\\nData after One-Hot Encoding 'Education':\")\n",
    "print(df.head())"
   ]
  },
  {
   "cell_type": "code",
   "execution_count": 15,
   "id": "a71a4a4a-eb8c-4710-912f-d59412a48c75",
   "metadata": {},
   "outputs": [
    {
     "name": "stdout",
     "output_type": "stream",
     "text": [
      "\n",
      "Dataset Shape After Encoding and Cleaning:\n",
      "(5000, 15)\n"
     ]
    }
   ],
   "source": [
    "# Printing all shape \n",
    "print(\"\\nDataset Shape After Encoding and Cleaning:\")\n",
    "print(df.shape)"
   ]
  },
  {
   "cell_type": "code",
   "execution_count": 16,
   "id": "7737c30c-b9de-4156-b1f7-a4f1cdff971e",
   "metadata": {},
   "outputs": [
    {
     "name": "stdout",
     "output_type": "stream",
     "text": [
      "\n",
      "Columns After One-Hot Encoding:\n",
      "Index(['Age', 'Experience(Years)', 'Income(Thousands's)', 'Sort Code',\n",
      "       'Family', 'Credit Score', 'Mortgage(Thousands's)', 'Personal Loan',\n",
      "       'Securities Account', 'CD Account', 'Online Banking', 'CreditCard',\n",
      "       'Education_Degree', 'Education_Diploma', 'Education_Masters'],\n",
      "      dtype='object')\n"
     ]
    }
   ],
   "source": [
    "# Printing the columns \n",
    "print(\"\\nColumns After One-Hot Encoding:\")\n",
    "print(df.columns)"
   ]
  },
  {
   "cell_type": "markdown",
   "id": "8cf1de8e-7dc4-4f04-9d6f-697775007985",
   "metadata": {},
   "source": [
    "#### Here I check for missing values after cleaning it up, but aparrently nothing has changed much other than the ID"
   ]
  },
  {
   "cell_type": "code",
   "execution_count": 17,
   "id": "2d1b9768-aeee-45c7-b8ae-e7827e74d8c1",
   "metadata": {},
   "outputs": [
    {
     "name": "stdout",
     "output_type": "stream",
     "text": [
      "\n",
      "Checking for Missing Values After Cleanup:\n",
      "Age                      0\n",
      "Experience(Years)        0\n",
      "Income(Thousands's)      0\n",
      "Sort Code                0\n",
      "Family                   0\n",
      "Credit Score             0\n",
      "Mortgage(Thousands's)    0\n",
      "Personal Loan            0\n",
      "Securities Account       0\n",
      "CD Account               0\n",
      "Online Banking           0\n",
      "CreditCard               0\n",
      "Education_Degree         0\n",
      "Education_Diploma        0\n",
      "Education_Masters        0\n",
      "dtype: int64\n"
     ]
    }
   ],
   "source": [
    "print(\"\\nChecking for Missing Values After Cleanup:\")\n",
    "print(df.isnull().sum())"
   ]
  },
  {
   "cell_type": "markdown",
   "id": "56108897-4c1e-401e-a555-9a43bde90fe5",
   "metadata": {},
   "source": [
    "#### Summury of Dta Cleanup and Encoding \n",
    "\n",
    "- First, they removed the 'ID' column because it's just a label and not useful for the analysis. Then, I changed some yes/no columns into 0 and 1 to make them easier for the computer to understand. After that, it showed a quick sample to check if that worked.\n",
    "\n",
    "- After that, I looked at the 'Education' column and used one-hot encoding to turn it into multiple columns with numbers. I skipped the first category to avoid duplicate info.\n",
    "\n",
    "- At the end, I printed out the shape of the data and the column names to see how everything changed after the cleaning and encoding."
   ]
  },
  {
   "cell_type": "markdown",
   "id": "c2401f3a-12aa-4aa6-876d-173228a0729d",
   "metadata": {},
   "source": [
    "### **4. Splitting the Data**\n",
    "\n",
    "Now, I split the data into training and testing sets to avoid data leakage and ensure a fair model evaluation.\n",
    "\n",
    "#### Creating and implementing 1 Regression algorithm and 1 Neural Network\n",
    "\n",
    "- So, this step is about defining my target variable and splitting the data into training and testing set. That is an important part of the machine learning workflow because it sets the stage for the training and for my models. \n",
    "\n",
    "- Basically, I want my model to learn patterns from the training sets and then test it how well can generalize using the test set.\n",
    "\n",
    "- If I don't split the data properly, my model might just memorize everything causing to 'overfitting' and fail when it sees new data. This step directly connects to the assignment requirement of using the \"Income(Thousand)\" column as the target for the Neural Network and Regressor comparison later."
   ]
  },
  {
   "cell_type": "code",
   "execution_count": 18,
   "id": "6d0f9584-3238-49e0-b4dd-c1ed407a00b2",
   "metadata": {},
   "outputs": [],
   "source": [
    "# imports\n",
    "from sklearn.model_selection import train_test_split\n",
    "\n",
    "# Splitting the data into features (X) and target (y)\n",
    "# X is everything except the target column, y is just the target column\n",
    "X = df.drop(columns=[\"Income(Thousands's)\"])  \n",
    "y = df[\"Income(Thousands's)\"]  "
   ]
  },
  {
   "cell_type": "markdown",
   "id": "bb8cb977-11e8-41dc-b72e-29a5d594ff8f",
   "metadata": {},
   "source": [
    "#### Doing the train-test split\n",
    "\n",
    "- Using 80% of the data for training and 20% for testing as good practice, which is pretty standard\n",
    "- why the 42? Well I asked this question in meet ups during the development of the final projetc, and I couldn't answer it.\n",
    "- Now I understand that this is to ensures that every time you run the code, you get the same training and testing sets, which becomes ajoke among data scientists on the inteene"
   ]
  },
  {
   "cell_type": "code",
   "execution_count": 19,
   "id": "414998bc-9fa1-4cee-85e4-00887010b692",
   "metadata": {},
   "outputs": [],
   "source": [
    "# Using 80% of the data for training and 20% for testing as good practice, which is pretty standard\n",
    "X_train, X_test, y_train, y_test = train_test_split(X, y, test_size=0.2, random_state=42)"
   ]
  },
  {
   "cell_type": "markdown",
   "id": "dca2e364-1b9b-45c4-9f2d-715446ca2122",
   "metadata": {},
   "source": [
    "#### Displaying the Split size for each part\n",
    "\n",
    "- Just Printing out the shapes to make sure everything looks good\n"
   ]
  },
  {
   "cell_type": "code",
   "execution_count": 20,
   "id": "a22e0ed3-7764-4ad2-8456-947f45a012f8",
   "metadata": {},
   "outputs": [
    {
     "name": "stdout",
     "output_type": "stream",
     "text": [
      "\n",
      "Training Features Shape: (4000, 14)\n",
      "Testing Features Shape: (1000, 14)\n",
      "Training Target Shape: (4000,)\n",
      "Testing Target Shape: (1000,)\n"
     ]
    }
   ],
   "source": [
    "# Printing them\n",
    "print(\"\\nTraining Features Shape:\", X_train.shape)\n",
    "print(\"Testing Features Shape:\", X_test.shape)\n",
    "print(\"Training Target Shape:\", y_train.shape)\n",
    "print(\"Testing Target Shape:\", y_test.shape)"
   ]
  },
  {
   "cell_type": "markdown",
   "id": "7bab2328-7c4e-4460-b0a4-8dc362c48e56",
   "metadata": {},
   "source": [
    "#### Train-Test Split mini report\n",
    "That means we have 4000 samples for training and 1000 samples for testing, which is 80% for training and 20% for testing, a pretty standard ratio for machine learning projects as per good practice.\n",
    "\n",
    "The 14 features are what the model will use to learn all along, while the target (income) is the value we want it to predict usign the same data. Splitting the data this way helps us evaluate our model’s performance on data that isn't visible, preventing overfitting and possibly giving me a more realistic measure of how it will do in the real world just in case.\n",
    "\n",
    "I also included the distribution plot for the income target to check if our training and test sets have similar distributions, which is important for a balanced learning process as follows:\n",
    "\n",
    "----"
   ]
  },
  {
   "cell_type": "markdown",
   "id": "c3bc0ed0-ea18-4179-bd35-73140d62d819",
   "metadata": {},
   "source": [
    "## Just doing a quick Check on Income Distribution\n",
    "Before jumping into model training, I plotted the training target (y_train) to get a sense of the income distribution.\n",
    "That is is a quick way to spot if the data is skewed or has outliers, which can mess with the model's learning.\n",
    "\n",
    "The plot uses 20 bins for a decent level of detail, with a bit of transparency (alpha=0.7) to keep it clean. This step is just to visualize the range of incomes we're trying to predict."
   ]
  },
  {
   "cell_type": "code",
   "execution_count": 21,
   "id": "e30d788f-f449-4cf6-be43-2af8a8b1dfa4",
   "metadata": {},
   "outputs": [
    {
     "data": {
      "image/png": "[encoded data removed]",
      "text/plain": [
       "<Figure size 640x480 with 1 Axes>"
      ]
     },
     "metadata": {},
     "output_type": "display_data"
    }
   ],
   "source": [
    "# The distribution of the target variable\n",
    "import matplotlib.pyplot as plt\n",
    "plt.hist(y_train, bins=20, alpha=0.7, color='skyblue', edgecolor='black')\n",
    "plt.title(\"Distribution of Training Target (Income)\")\n",
    "plt.xlabel(\"Income (Thousands)\")\n",
    "plt.ylabel(\"Frequency\")\n",
    "plt.show()"
   ]
  },
  {
   "cell_type": "markdown",
   "id": "c4d2b6e6-d8e5-4882-b575-6906349553b4",
   "metadata": {},
   "source": [
    "### **5. Building and Training the Neural Network**\n",
    "\n",
    "#### Setting Up the Neural Network Model\n",
    "\n",
    "- Here, I’m using Keras from TensorFlow to define a simple feedforward neural network.\n",
    "- The network structure is loosely inspired by the notes wepracticed in class. And Although I could not attend the last class due to illness, Imade sure to do a research on this topic.\n",
    "\n",
    "Which brings me to the basic idea of dense layers that can learn patterns in the data to predict customer income effectively. I took some inspiration from these references here and official Keras documentation, making sure I’m not over-complicating things right out of the gate...\n",
    "\n",
    "- Keras Sequential Model Guide (Accessed 17/05/2025)\n",
    "\n",
    "- Keras Sequential API (Accessed 17/05/2025)\n",
    "\n",
    "Also, referenced in the reference part int he end."
   ]
  },
  {
   "cell_type": "markdown",
   "id": "47b9373e-e2b8-425e-ac2b-ead5eed51776",
   "metadata": {},
   "source": [
    "#### **Clear any previous model state**"
   ]
  },
  {
   "cell_type": "code",
   "execution_count": 22,
   "id": "b519103b-213b-4cc9-a449-5ae11b67d532",
   "metadata": {},
   "outputs": [
    {
     "name": "stdout",
     "output_type": "stream",
     "text": [
      "WARNING:tensorflow:From C:\\Users\\STUDENT\\AppData\\Roaming\\Python\\Python312\\site-packages\\keras\\src\\backend\\common\\global_state.py:82: The name tf.reset_default_graph is deprecated. Please use tf.compat.v1.reset_default_graph instead.\n",
      "\n"
     ]
    }
   ],
   "source": [
    "# Clear any previous model state\n",
    "from tensorflow.keras import backend as K\n",
    "K.clear_session()"
   ]
  },
  {
   "cell_type": "markdown",
   "id": "04fe6221-818e-4326-9f62-c307787ed969",
   "metadata": {},
   "source": [
    "#### Imports and library & Defining the Model for prediction\n",
    "\n",
    "I built a Sequential neural network model with three hidden layers and dropout to reduce overfitting. I also set up early stopping to prevent the model from training too long.\n"
   ]
  },
  {
   "cell_type": "code",
   "execution_count": 23,
   "id": "42d72493-8050-46d5-af6f-a4ff9f4ad895",
   "metadata": {},
   "outputs": [],
   "source": [
    "import tensorflow as tf\n",
    "from tensorflow.keras.models import Sequential\n",
    "from tensorflow.keras.layers import Dense, Dropout\n",
    "\n",
    "# Defining the model\n",
    "model = Sequential()"
   ]
  },
  {
   "cell_type": "markdown",
   "id": "a284ba22-69a0-4feb-833b-d00c715d8fe8",
   "metadata": {},
   "source": [
    "#### Input Layer: \n",
    "- The number of inputs matches the 14 features we prepared earlier as showed above."
   ]
  },
  {
   "cell_type": "code",
   "execution_count": 24,
   "id": "0963ab79-2a1f-4cf7-ab7d-9620f439582b",
   "metadata": {},
   "outputs": [
    {
     "name": "stderr",
     "output_type": "stream",
     "text": [
      "C:\\Users\\STUDENT\\AppData\\Roaming\\Python\\Python312\\site-packages\\keras\\src\\layers\\core\\dense.py:87: UserWarning: Do not pass an `input_shape`/`input_dim` argument to a layer. When using Sequential models, prefer using an `Input(shape)` object as the first layer in the model instead.\n",
      "  super().__init__(activity_regularizer=activity_regularizer, **kwargs)\n"
     ]
    }
   ],
   "source": [
    "# Input layer and first hidden layer of the model\n",
    "model.add(Dense(units=64, input_dim=X_train.shape[1], activation='relu'))\n",
    "model.add(Dropout(0.3))"
   ]
  },
  {
   "cell_type": "markdown",
   "id": "e5075c9b-bba1-42ea-801b-331e63980c32",
   "metadata": {},
   "source": [
    "#### Hidden Layers: \n",
    "-  I’m using multiple layers to capture complex relationships. \n",
    "- I kept the layer sizes in descending order (64 → 32 → 16) to gradually reduce the data, which can help the model learn more abstract features."
   ]
  },
  {
   "cell_type": "code",
   "execution_count": 25,
   "id": "0ae2fdf2-8909-491a-91ba-feed7eee21f9",
   "metadata": {},
   "outputs": [],
   "source": [
    "# Second hidden layer\n",
    "model.add(Dense(units=32, activation='relu'))\n",
    "model.add(Dropout(0.3))\n",
    "\n",
    "# Third hidden layer\n",
    "model.add(Dense(units=16, activation='relu'))\n",
    "model.add(Dropout(0.3))"
   ]
  },
  {
   "cell_type": "markdown",
   "id": "4b5137db-7978-4cd9-b03b-636452377719",
   "metadata": {},
   "source": [
    "#### Output Layer: \n",
    "- Just one node because we’re predicting a single continuous value (income)."
   ]
  },
  {
   "cell_type": "code",
   "execution_count": 26,
   "id": "06e2320c-066e-4df7-9561-3d5969b555d4",
   "metadata": {},
   "outputs": [],
   "source": [
    "# Output layer (single node for regression)\n",
    "model.add(Dense(units=1, activation='linear'))"
   ]
  },
  {
   "cell_type": "markdown",
   "id": "7b190925-9d3d-4ebf-9718-172b105fd79a",
   "metadata": {},
   "source": [
    "#### Compiling model: \n",
    "\n",
    "- I compiled the model using the Adam optimizer because it adjusts the learning rate and works well for deep learning. For the loss, I picked Mean Squared Error since we’re predicting income. I also added Mean Absolute Error to easily see how far off the predictions are on average."
   ]
  },
  {
   "cell_type": "code",
   "execution_count": 27,
   "id": "ec1dbb03-e744-463e-ad4e-425211d9c2e9",
   "metadata": {},
   "outputs": [],
   "source": [
    "# Compiling the model\n",
    "model.compile(optimizer='adam', loss='mse', metrics=['mae'])"
   ]
  },
  {
   "cell_type": "markdown",
   "id": "7d6748c2-5f8b-4816-8dfc-6d9846ed9517",
   "metadata": {},
   "source": [
    "#### Model Summary\n",
    "- Finally, I used model.summary() to quickly check the network’s structure. It’s a good habit from the Keras guide to make sure everything looks right before starting training."
   ]
  },
  {
   "cell_type": "code",
   "execution_count": 28,
   "id": "a49c1c81-fb41-4f46-a1ed-052a68e8f589",
   "metadata": {},
   "outputs": [
    {
     "data": {
      "text/html": [
       "<pre style=\"white-space:pre;overflow-x:auto;line-height:normal;font-family:Menlo,'DejaVu Sans Mono',consolas,'Courier New',monospace\"><span style=\"font-weight: bold\">Model: \"sequential\"</span>\n",
       "</pre>\n"
      ],
      "text/plain": [
       "\u001b[1mModel: \"sequential\"\u001b[0m\n"
      ]
     },
     "metadata": {},
     "output_type": "display_data"
    },
    {
     "data": {
      "text/html": [
       "<pre style=\"white-space:pre;overflow-x:auto;line-height:normal;font-family:Menlo,'DejaVu Sans Mono',consolas,'Courier New',monospace\">┏━━━━━━━━━━━━━━━━━━━━━━━━━━━━━━━━━━━━━━┳━━━━━━━━━━━━━━━━━━━━━━━━━━━━━┳━━━━━━━━━━━━━━━━━┓\n",
       "┃<span style=\"font-weight: bold\"> Layer (type)                         </span>┃<span style=\"font-weight: bold\"> Output Shape                </span>┃<span style=\"font-weight: bold\">         Param # </span>┃\n",
       "┡━━━━━━━━━━━━━━━━━━━━━━━━━━━━━━━━━━━━━━╇━━━━━━━━━━━━━━━━━━━━━━━━━━━━━╇━━━━━━━━━━━━━━━━━┩\n",
       "│ dense (<span style=\"color: #0087ff; text-decoration-color: #0087ff\">Dense</span>)                        │ (<span style=\"color: #00d7ff; text-decoration-color: #00d7ff\">None</span>, <span style=\"color: #00af00; text-decoration-color: #00af00\">64</span>)                  │             <span style=\"color: #00af00; text-decoration-color: #00af00\">960</span> │\n",
       "├──────────────────────────────────────┼─────────────────────────────┼─────────────────┤\n",
       "│ dropout (<span style=\"color: #0087ff; text-decoration-color: #0087ff\">Dropout</span>)                    │ (<span style=\"color: #00d7ff; text-decoration-color: #00d7ff\">None</span>, <span style=\"color: #00af00; text-decoration-color: #00af00\">64</span>)                  │               <span style=\"color: #00af00; text-decoration-color: #00af00\">0</span> │\n",
       "├──────────────────────────────────────┼─────────────────────────────┼─────────────────┤\n",
       "│ dense_1 (<span style=\"color: #0087ff; text-decoration-color: #0087ff\">Dense</span>)                      │ (<span style=\"color: #00d7ff; text-decoration-color: #00d7ff\">None</span>, <span style=\"color: #00af00; text-decoration-color: #00af00\">32</span>)                  │           <span style=\"color: #00af00; text-decoration-color: #00af00\">2,080</span> │\n",
       "├──────────────────────────────────────┼─────────────────────────────┼─────────────────┤\n",
       "│ dropout_1 (<span style=\"color: #0087ff; text-decoration-color: #0087ff\">Dropout</span>)                  │ (<span style=\"color: #00d7ff; text-decoration-color: #00d7ff\">None</span>, <span style=\"color: #00af00; text-decoration-color: #00af00\">32</span>)                  │               <span style=\"color: #00af00; text-decoration-color: #00af00\">0</span> │\n",
       "├──────────────────────────────────────┼─────────────────────────────┼─────────────────┤\n",
       "│ dense_2 (<span style=\"color: #0087ff; text-decoration-color: #0087ff\">Dense</span>)                      │ (<span style=\"color: #00d7ff; text-decoration-color: #00d7ff\">None</span>, <span style=\"color: #00af00; text-decoration-color: #00af00\">16</span>)                  │             <span style=\"color: #00af00; text-decoration-color: #00af00\">528</span> │\n",
       "├──────────────────────────────────────┼─────────────────────────────┼─────────────────┤\n",
       "│ dropout_2 (<span style=\"color: #0087ff; text-decoration-color: #0087ff\">Dropout</span>)                  │ (<span style=\"color: #00d7ff; text-decoration-color: #00d7ff\">None</span>, <span style=\"color: #00af00; text-decoration-color: #00af00\">16</span>)                  │               <span style=\"color: #00af00; text-decoration-color: #00af00\">0</span> │\n",
       "├──────────────────────────────────────┼─────────────────────────────┼─────────────────┤\n",
       "│ dense_3 (<span style=\"color: #0087ff; text-decoration-color: #0087ff\">Dense</span>)                      │ (<span style=\"color: #00d7ff; text-decoration-color: #00d7ff\">None</span>, <span style=\"color: #00af00; text-decoration-color: #00af00\">1</span>)                   │              <span style=\"color: #00af00; text-decoration-color: #00af00\">17</span> │\n",
       "└──────────────────────────────────────┴─────────────────────────────┴─────────────────┘\n",
       "</pre>\n"
      ],
      "text/plain": [
       "┏━━━━━━━━━━━━━━━━━━━━━━━━━━━━━━━━━━━━━━┳━━━━━━━━━━━━━━━━━━━━━━━━━━━━━┳━━━━━━━━━━━━━━━━━┓\n",
       "┃\u001b[1m \u001b[0m\u001b[1mLayer (type)                        \u001b[0m\u001b[1m \u001b[0m┃\u001b[1m \u001b[0m\u001b[1mOutput Shape               \u001b[0m\u001b[1m \u001b[0m┃\u001b[1m \u001b[0m\u001b[1m        Param #\u001b[0m\u001b[1m \u001b[0m┃\n",
       "┡━━━━━━━━━━━━━━━━━━━━━━━━━━━━━━━━━━━━━━╇━━━━━━━━━━━━━━━━━━━━━━━━━━━━━╇━━━━━━━━━━━━━━━━━┩\n",
       "│ dense (\u001b[38;5;33mDense\u001b[0m)                        │ (\u001b[38;5;45mNone\u001b[0m, \u001b[38;5;34m64\u001b[0m)                  │             \u001b[38;5;34m960\u001b[0m │\n",
       "├──────────────────────────────────────┼─────────────────────────────┼─────────────────┤\n",
       "│ dropout (\u001b[38;5;33mDropout\u001b[0m)                    │ (\u001b[38;5;45mNone\u001b[0m, \u001b[38;5;34m64\u001b[0m)                  │               \u001b[38;5;34m0\u001b[0m │\n",
       "├──────────────────────────────────────┼─────────────────────────────┼─────────────────┤\n",
       "│ dense_1 (\u001b[38;5;33mDense\u001b[0m)                      │ (\u001b[38;5;45mNone\u001b[0m, \u001b[38;5;34m32\u001b[0m)                  │           \u001b[38;5;34m2,080\u001b[0m │\n",
       "├──────────────────────────────────────┼─────────────────────────────┼─────────────────┤\n",
       "│ dropout_1 (\u001b[38;5;33mDropout\u001b[0m)                  │ (\u001b[38;5;45mNone\u001b[0m, \u001b[38;5;34m32\u001b[0m)                  │               \u001b[38;5;34m0\u001b[0m │\n",
       "├──────────────────────────────────────┼─────────────────────────────┼─────────────────┤\n",
       "│ dense_2 (\u001b[38;5;33mDense\u001b[0m)                      │ (\u001b[38;5;45mNone\u001b[0m, \u001b[38;5;34m16\u001b[0m)                  │             \u001b[38;5;34m528\u001b[0m │\n",
       "├──────────────────────────────────────┼─────────────────────────────┼─────────────────┤\n",
       "│ dropout_2 (\u001b[38;5;33mDropout\u001b[0m)                  │ (\u001b[38;5;45mNone\u001b[0m, \u001b[38;5;34m16\u001b[0m)                  │               \u001b[38;5;34m0\u001b[0m │\n",
       "├──────────────────────────────────────┼─────────────────────────────┼─────────────────┤\n",
       "│ dense_3 (\u001b[38;5;33mDense\u001b[0m)                      │ (\u001b[38;5;45mNone\u001b[0m, \u001b[38;5;34m1\u001b[0m)                   │              \u001b[38;5;34m17\u001b[0m │\n",
       "└──────────────────────────────────────┴─────────────────────────────┴─────────────────┘\n"
      ]
     },
     "metadata": {},
     "output_type": "display_data"
    },
    {
     "data": {
      "text/html": [
       "<pre style=\"white-space:pre;overflow-x:auto;line-height:normal;font-family:Menlo,'DejaVu Sans Mono',consolas,'Courier New',monospace\"><span style=\"font-weight: bold\"> Total params: </span><span style=\"color: #00af00; text-decoration-color: #00af00\">3,585</span> (14.00 KB)\n",
       "</pre>\n"
      ],
      "text/plain": [
       "\u001b[1m Total params: \u001b[0m\u001b[38;5;34m3,585\u001b[0m (14.00 KB)\n"
      ]
     },
     "metadata": {},
     "output_type": "display_data"
    },
    {
     "data": {
      "text/html": [
       "<pre style=\"white-space:pre;overflow-x:auto;line-height:normal;font-family:Menlo,'DejaVu Sans Mono',consolas,'Courier New',monospace\"><span style=\"font-weight: bold\"> Trainable params: </span><span style=\"color: #00af00; text-decoration-color: #00af00\">3,585</span> (14.00 KB)\n",
       "</pre>\n"
      ],
      "text/plain": [
       "\u001b[1m Trainable params: \u001b[0m\u001b[38;5;34m3,585\u001b[0m (14.00 KB)\n"
      ]
     },
     "metadata": {},
     "output_type": "display_data"
    },
    {
     "data": {
      "text/html": [
       "<pre style=\"white-space:pre;overflow-x:auto;line-height:normal;font-family:Menlo,'DejaVu Sans Mono',consolas,'Courier New',monospace\"><span style=\"font-weight: bold\"> Non-trainable params: </span><span style=\"color: #00af00; text-decoration-color: #00af00\">0</span> (0.00 B)\n",
       "</pre>\n"
      ],
      "text/plain": [
       "\u001b[1m Non-trainable params: \u001b[0m\u001b[38;5;34m0\u001b[0m (0.00 B)\n"
      ]
     },
     "metadata": {},
     "output_type": "display_data"
    }
   ],
   "source": [
    "# Model summary for a quick check\n",
    "model.summary()"
   ]
  },
  {
   "cell_type": "markdown",
   "id": "3db182d4-d6a7-4280-9ede-b1b3c9915cbf",
   "metadata": {},
   "source": [
    "A quick overview about the modell I just defined. It’s a stack of Dense layers (64, 32, 16, and finally 1 unit), with Dropout layers in between to help prevent overfitting during the prediction. Each layer reduces the dimension a bit, and the final layer has one unit, which might works well for predicting a single continuous value since it is a regression task.\n",
    "\n",
    "The model has provided with 3,585 total parametersthis includes all the weights and biases that’ll be learned during training later."
   ]
  },
  {
   "cell_type": "markdown",
   "id": "5808d65d-ea36-4cd6-bfd3-ff8d1115e1d6",
   "metadata": {},
   "source": [
    "#### Model Training and Validation\n",
    "Now that the model is defined, it’s time to actually train it. This is where the real learning happens. The model will go through the training data multiple times (epochs), adjusting its weights with each pass to minimize the error. This is called backpropagation.\n",
    "\n",
    "#### Why This is Important:\n",
    "- Learning from Data: This is the phase where the model truly learns the relationships in the data.\n",
    "\n",
    "- Avoiding Overfitting: Using early stopping helps prevent the model from just memorizing the training data.\n",
    "\n",
    "- Evaluating Performance: By validating the model on unseen data, we can check how well it generalizes.\n",
    "\n",
    "#### Explanation of EarlyStopping in Keras\n",
    "The EarlyStopping callback in Keras is used to halt training when a monitored metric (such as validation loss) stops improving. This technique helps prevent overfitting and reduces unnecessary computation.\n",
    "\n",
    "In this part, EarlyStopping was configured to monitor validation loss and restore the best weights when performance stopped improving. For more details, you can refer to the following resources:\n",
    "\n",
    "- A Simple Guide to Prevent Overfitting (Medium) (Accessed 17/05/2025)\n",
    "\n",
    "- EarlyStopping Callback (Accessed 17/05/2025)\n",
    "\n",
    "Also, referenced in the reference part int he end.\n",
    "\n",
    "---\n"
   ]
  },
  {
   "cell_type": "markdown",
   "id": "3622c2ec-832f-47ca-8266-74a6b37d94cb",
   "metadata": {},
   "source": [
    "#### **Clear any previous model state (AGAIN)**\n",
    "\n",
    "I do it here again to make sure that the state from previous run is gone..."
   ]
  },
  {
   "cell_type": "code",
   "execution_count": 29,
   "id": "fa48d61b-4220-40bf-8d62-05038da20fc1",
   "metadata": {},
   "outputs": [],
   "source": [
    "# Clear any previous model state\n",
    "from tensorflow.keras import backend as K\n",
    "K.clear_session()"
   ]
  },
  {
   "cell_type": "code",
   "execution_count": 30,
   "id": "8502f24d-0354-417e-8541-1def2f95ccd0",
   "metadata": {},
   "outputs": [],
   "source": [
    "from tensorflow.keras.callbacks import EarlyStopping\n",
    "import matplotlib.pyplot as plt\n",
    "\n",
    "# This callback here will stop the training if the validation loss stops improving for 5 consecutive epochs, \n",
    "# which is a good way to prevent overfitting for the model.\n",
    "early_stopping = EarlyStopping(\n",
    "    monitor = 'val_loss', \n",
    "    patience = 5,          \n",
    "    restore_best_weights=True  \n",
    ")"
   ]
  },
  {
   "cell_type": "markdown",
   "id": "2657c63f-7c3e-4235-b5f2-3e08f5dff99c",
   "metadata": {},
   "source": [
    "- This setup instructs the model to monitor the validation loss (val_loss) and stop training if it dont improve for 5 consecutive epochs (patience=5). -\n",
    "\n",
    "- By setting restore_best_weights=True, the model is going to revert to the weights from the epoch with the best validation loss.\n"
   ]
  },
  {
   "cell_type": "markdown",
   "id": "32d90d4f-feb4-48c5-b28b-428538d5ded6",
   "metadata": {},
   "source": [
    "### Training the model Model Early Stopping using (Keras) too\n",
    "\n",
    "- The model fitting section in your code is where the actual training happens.\n",
    "  \n",
    "- You used the fit() function from the Sequential model, which is a core part of the Keras API.\n",
    "\n",
    "#### This approach is consistent with the Keras documentation:\n",
    "\n",
    "I got this approach from the Keras documentation, which says that the fit() method is for training models over a fixed number of loops (epochs) through the data. It also mentions that this method is where you set important things like batch size and callbacks, like EarlyStopping to avoid overfitting for the model."
   ]
  },
  {
   "cell_type": "code",
   "execution_count": 31,
   "id": "5ad8ecf1-f4c7-49fb-96b0-df6def206d04",
   "metadata": {},
   "outputs": [
    {
     "name": "stdout",
     "output_type": "stream",
     "text": [
      "Epoch 1/100\n",
      "\u001b[1m125/125\u001b[0m \u001b[32m━━━━━━━━━━━━━━━━━━━━\u001b[0m\u001b[37m\u001b[0m \u001b[1m5s\u001b[0m 11ms/step - loss: 34419356.0000 - mae: 4038.4255 - val_loss: 33432.2422 - val_mae: 177.0013\n",
      "Epoch 2/100\n",
      "\u001b[1m125/125\u001b[0m \u001b[32m━━━━━━━━━━━━━━━━━━━━\u001b[0m\u001b[37m\u001b[0m \u001b[1m1s\u001b[0m 7ms/step - loss: 1630620.5000 - mae: 918.8710 - val_loss: 7483.2139 - val_mae: 73.2304\n",
      "Epoch 3/100\n",
      "\u001b[1m125/125\u001b[0m \u001b[32m━━━━━━━━━━━━━━━━━━━━\u001b[0m\u001b[37m\u001b[0m \u001b[1m1s\u001b[0m 7ms/step - loss: 743442.9375 - mae: 578.2752 - val_loss: 7511.4268 - val_mae: 73.4197\n",
      "Epoch 4/100\n",
      "\u001b[1m125/125\u001b[0m \u001b[32m━━━━━━━━━━━━━━━━━━━━\u001b[0m\u001b[37m\u001b[0m \u001b[1m1s\u001b[0m 7ms/step - loss: 354795.2812 - mae: 390.9368 - val_loss: 9288.4199 - val_mae: 84.6641\n",
      "Epoch 5/100\n",
      "\u001b[1m125/125\u001b[0m \u001b[32m━━━━━━━━━━━━━━━━━━━━\u001b[0m\u001b[37m\u001b[0m \u001b[1m1s\u001b[0m 8ms/step - loss: 239845.0156 - mae: 312.5143 - val_loss: 9308.2959 - val_mae: 84.7812\n",
      "Epoch 6/100\n",
      "\u001b[1m125/125\u001b[0m \u001b[32m━━━━━━━━━━━━━━━━━━━━\u001b[0m\u001b[37m\u001b[0m \u001b[1m1s\u001b[0m 7ms/step - loss: 140301.8438 - mae: 232.7865 - val_loss: 9122.1680 - val_mae: 83.6761\n",
      "Epoch 7/100\n",
      "\u001b[1m125/125\u001b[0m \u001b[32m━━━━━━━━━━━━━━━━━━━━\u001b[0m\u001b[37m\u001b[0m \u001b[1m1s\u001b[0m 7ms/step - loss: 99516.4688 - mae: 192.9607 - val_loss: 8647.7354 - val_mae: 80.7910\n"
     ]
    }
   ],
   "source": [
    "# Training the model\n",
    "history = model.fit(\n",
    "    X_train, y_train,\n",
    "    validation_data = (X_test, y_test),\n",
    "    epochs = 100,\n",
    "    batch_size = 32,\n",
    "    callbacks = [early_stopping],\n",
    "    verbose = 1\n",
    ")"
   ]
  },
  {
   "cell_type": "markdown",
   "id": "c3934b7e-6d71-41ca-bd15-cc14c88c321b",
   "metadata": {},
   "source": [
    "### Training History Plot\n",
    "\n",
    "Plotting the training and validation loss over epochs is a very common practice to visualize the models performance and detect overfitting of this projetc, so I copied from ***stack Overflow*** and adapated to my own usage as follows.\n",
    "\n",
    "Also, following the tutorial from ***Machice Learning Mastery*** WEBSITE. Which is an approach that is widely used and recommended in various tutorials and guides, such as the one by Jason Brownlee here."
   ]
  },
  {
   "cell_type": "code",
   "execution_count": 32,
   "id": "2a231ad0-5fea-46fd-9902-de4ee037c493",
   "metadata": {},
   "outputs": [
    {
     "data": {
      "image/png": "[encoded data removed]",
      "text/plain": [
       "<Figure size 640x480 with 1 Axes>"
      ]
     },
     "metadata": {},
     "output_type": "display_data"
    }
   ],
   "source": [
    "import matplotlib.pyplot as plt\n",
    "\n",
    "plt.plot(history.history['loss'], label='Training Loss')\n",
    "plt.plot(history.history['val_loss'], label='Validation Loss')\n",
    "plt.title(\"Training and Validation Loss Over Epochs\")\n",
    "plt.xlabel(\"Epochs\")\n",
    "plt.ylabel(\"Loss (MSE)\")\n",
    "plt.legend()\n",
    "plt.show()\n"
   ]
  },
  {
   "cell_type": "markdown",
   "id": "535b09c9-e416-48de-83a6-3fcc51af52f7",
   "metadata": {},
   "source": [
    "#### Model training results and my Observations, as well as potential for improvements..."
   ]
  },
  {
   "cell_type": "markdown",
   "id": "26edae96-74a7-4f0d-a6e8-c1be7709b09b",
   "metadata": {},
   "source": [
    "#### Here is how I understood the Parameters and how it impacted on the findings from the above results\n",
    "##### X_train, y_train:\n",
    "This is training data and labels of the model.\n",
    "\n",
    "##### validation_data:\n",
    "This test set is used for validating the model after each epoch.\n",
    "\n",
    "##### epochs=100:\n",
    "This is the maximum number of training cycles.\n",
    "\n",
    "##### batch_size=32:\n",
    "This is number of samples processed before the model updates for each time.\n",
    "\n",
    "##### callbacks=\n",
    "Here it stops the training if the validation loss stops improving for each cycle.\n",
    "\n",
    "##### verbose=1:\n",
    "It shows the detailed logs during training while runnning.\n",
    "\n",
    "***( Undersding this part was crucial because it helped me to observe the findings and how to make improvements which brings me to the following observations during the training...)***\n",
    "\n",
    "\n",
    "#### What I saw during training:\n",
    "( When I first trained my neural network, I noticed a few things.)\n",
    "\n",
    "- At the beginning, the loss and MAE were really high, but they went down very fast, which showed me that the model was starting to learn some patterns. That made me happy as it started to work out well...\n",
    "\n",
    "- After a few more epochs, the validation loss started going up. This is probably overfitting, which means that the model was doing well on the training data but not on the validation data possibly.\n",
    "\n",
    "- I read in the Keras training guide that this kind of thing can happen if the model is too big compared to the amount of data you would have for the model (Keras Documentation, checked on 17/05/2025).\n",
    "\n",
    "\n",
    "\n",
    "#### Plot Plot Analysis:\n",
    "The loss (MSE) on the vertical axis starts very low and gradually increases, which is a clear sign of overfitting of the model. The training loss decreases quickly as well, but the validation loss starts increasing after a few epochs all along, confirming what I saw in the training logs earlier.\n",
    "\n",
    "This behavior matches what the Keras documentation talks about, where they mention that the risk of overfitting if the model that is too big compared to the data size, so they suggested using dropout layers or reducing the number of layers to balance this to improvements, which after reading it the (Keras Documentation, Accessed 17/05/2025). I decided to alter the Earlier for the ***Training Model***. \n",
    "\n",
    "***(Lastly, for the improvements I decided to put it all in one single cell for both parts: \"The Model Improvements & Training Model\" as shows bellow to prevent confusion since this is only imrpovements)***\n"
   ]
  },
  {
   "cell_type": "markdown",
   "id": "54f734fd-f69c-4671-b4cb-edbdaa608da5",
   "metadata": {},
   "source": [
    "#### Simple Model Improvements\n",
    "\n",
    "- Based on the initial training observations, I made a few quick changes to reduce overfitting:\n",
    "\n",
    "- Increased Dropout: To make the model less reliant on specific neurons.\n",
    "\n",
    "- Reduced Neurons: Made the layers smaller to reduce model complexity.\n",
    "\n",
    "- Added L2 Regularization: To prevent large weights, which can lead to overfitting. "
   ]
  },
  {
   "cell_type": "code",
   "execution_count": 33,
   "id": "f881c2c4-04ec-4b6b-a769-215b503150f6",
   "metadata": {},
   "outputs": [],
   "source": [
    "# Clear any previous model state\n",
    "from tensorflow.keras import backend as K\n",
    "K.clear_session()\n"
   ]
  },
  {
   "cell_type": "code",
   "execution_count": 34,
   "id": "fcd01c72-6e27-4a71-b452-3ce5621cfbe9",
   "metadata": {},
   "outputs": [
    {
     "name": "stderr",
     "output_type": "stream",
     "text": [
      "C:\\Users\\STUDENT\\AppData\\Roaming\\Python\\Python312\\site-packages\\keras\\src\\layers\\core\\dense.py:87: UserWarning: Do not pass an `input_shape`/`input_dim` argument to a layer. When using Sequential models, prefer using an `Input(shape)` object as the first layer in the model instead.\n",
      "  super().__init__(activity_regularizer=activity_regularizer, **kwargs)\n"
     ]
    },
    {
     "data": {
      "text/html": [
       "<pre style=\"white-space:pre;overflow-x:auto;line-height:normal;font-family:Menlo,'DejaVu Sans Mono',consolas,'Courier New',monospace\"><span style=\"font-weight: bold\">Model: \"sequential\"</span>\n",
       "</pre>\n"
      ],
      "text/plain": [
       "\u001b[1mModel: \"sequential\"\u001b[0m\n"
      ]
     },
     "metadata": {},
     "output_type": "display_data"
    },
    {
     "data": {
      "text/html": [
       "<pre style=\"white-space:pre;overflow-x:auto;line-height:normal;font-family:Menlo,'DejaVu Sans Mono',consolas,'Courier New',monospace\">┏━━━━━━━━━━━━━━━━━━━━━━━━━━━━━━━━━━━━━━┳━━━━━━━━━━━━━━━━━━━━━━━━━━━━━┳━━━━━━━━━━━━━━━━━┓\n",
       "┃<span style=\"font-weight: bold\"> Layer (type)                         </span>┃<span style=\"font-weight: bold\"> Output Shape                </span>┃<span style=\"font-weight: bold\">         Param # </span>┃\n",
       "┡━━━━━━━━━━━━━━━━━━━━━━━━━━━━━━━━━━━━━━╇━━━━━━━━━━━━━━━━━━━━━━━━━━━━━╇━━━━━━━━━━━━━━━━━┩\n",
       "│ dense (<span style=\"color: #0087ff; text-decoration-color: #0087ff\">Dense</span>)                        │ (<span style=\"color: #00d7ff; text-decoration-color: #00d7ff\">None</span>, <span style=\"color: #00af00; text-decoration-color: #00af00\">32</span>)                  │             <span style=\"color: #00af00; text-decoration-color: #00af00\">480</span> │\n",
       "├──────────────────────────────────────┼─────────────────────────────┼─────────────────┤\n",
       "│ dropout (<span style=\"color: #0087ff; text-decoration-color: #0087ff\">Dropout</span>)                    │ (<span style=\"color: #00d7ff; text-decoration-color: #00d7ff\">None</span>, <span style=\"color: #00af00; text-decoration-color: #00af00\">32</span>)                  │               <span style=\"color: #00af00; text-decoration-color: #00af00\">0</span> │\n",
       "├──────────────────────────────────────┼─────────────────────────────┼─────────────────┤\n",
       "│ dense_1 (<span style=\"color: #0087ff; text-decoration-color: #0087ff\">Dense</span>)                      │ (<span style=\"color: #00d7ff; text-decoration-color: #00d7ff\">None</span>, <span style=\"color: #00af00; text-decoration-color: #00af00\">16</span>)                  │             <span style=\"color: #00af00; text-decoration-color: #00af00\">528</span> │\n",
       "├──────────────────────────────────────┼─────────────────────────────┼─────────────────┤\n",
       "│ dropout_1 (<span style=\"color: #0087ff; text-decoration-color: #0087ff\">Dropout</span>)                  │ (<span style=\"color: #00d7ff; text-decoration-color: #00d7ff\">None</span>, <span style=\"color: #00af00; text-decoration-color: #00af00\">16</span>)                  │               <span style=\"color: #00af00; text-decoration-color: #00af00\">0</span> │\n",
       "├──────────────────────────────────────┼─────────────────────────────┼─────────────────┤\n",
       "│ dense_2 (<span style=\"color: #0087ff; text-decoration-color: #0087ff\">Dense</span>)                      │ (<span style=\"color: #00d7ff; text-decoration-color: #00d7ff\">None</span>, <span style=\"color: #00af00; text-decoration-color: #00af00\">1</span>)                   │              <span style=\"color: #00af00; text-decoration-color: #00af00\">17</span> │\n",
       "└──────────────────────────────────────┴─────────────────────────────┴─────────────────┘\n",
       "</pre>\n"
      ],
      "text/plain": [
       "┏━━━━━━━━━━━━━━━━━━━━━━━━━━━━━━━━━━━━━━┳━━━━━━━━━━━━━━━━━━━━━━━━━━━━━┳━━━━━━━━━━━━━━━━━┓\n",
       "┃\u001b[1m \u001b[0m\u001b[1mLayer (type)                        \u001b[0m\u001b[1m \u001b[0m┃\u001b[1m \u001b[0m\u001b[1mOutput Shape               \u001b[0m\u001b[1m \u001b[0m┃\u001b[1m \u001b[0m\u001b[1m        Param #\u001b[0m\u001b[1m \u001b[0m┃\n",
       "┡━━━━━━━━━━━━━━━━━━━━━━━━━━━━━━━━━━━━━━╇━━━━━━━━━━━━━━━━━━━━━━━━━━━━━╇━━━━━━━━━━━━━━━━━┩\n",
       "│ dense (\u001b[38;5;33mDense\u001b[0m)                        │ (\u001b[38;5;45mNone\u001b[0m, \u001b[38;5;34m32\u001b[0m)                  │             \u001b[38;5;34m480\u001b[0m │\n",
       "├──────────────────────────────────────┼─────────────────────────────┼─────────────────┤\n",
       "│ dropout (\u001b[38;5;33mDropout\u001b[0m)                    │ (\u001b[38;5;45mNone\u001b[0m, \u001b[38;5;34m32\u001b[0m)                  │               \u001b[38;5;34m0\u001b[0m │\n",
       "├──────────────────────────────────────┼─────────────────────────────┼─────────────────┤\n",
       "│ dense_1 (\u001b[38;5;33mDense\u001b[0m)                      │ (\u001b[38;5;45mNone\u001b[0m, \u001b[38;5;34m16\u001b[0m)                  │             \u001b[38;5;34m528\u001b[0m │\n",
       "├──────────────────────────────────────┼─────────────────────────────┼─────────────────┤\n",
       "│ dropout_1 (\u001b[38;5;33mDropout\u001b[0m)                  │ (\u001b[38;5;45mNone\u001b[0m, \u001b[38;5;34m16\u001b[0m)                  │               \u001b[38;5;34m0\u001b[0m │\n",
       "├──────────────────────────────────────┼─────────────────────────────┼─────────────────┤\n",
       "│ dense_2 (\u001b[38;5;33mDense\u001b[0m)                      │ (\u001b[38;5;45mNone\u001b[0m, \u001b[38;5;34m1\u001b[0m)                   │              \u001b[38;5;34m17\u001b[0m │\n",
       "└──────────────────────────────────────┴─────────────────────────────┴─────────────────┘\n"
      ]
     },
     "metadata": {},
     "output_type": "display_data"
    },
    {
     "data": {
      "text/html": [
       "<pre style=\"white-space:pre;overflow-x:auto;line-height:normal;font-family:Menlo,'DejaVu Sans Mono',consolas,'Courier New',monospace\"><span style=\"font-weight: bold\"> Total params: </span><span style=\"color: #00af00; text-decoration-color: #00af00\">1,025</span> (4.00 KB)\n",
       "</pre>\n"
      ],
      "text/plain": [
       "\u001b[1m Total params: \u001b[0m\u001b[38;5;34m1,025\u001b[0m (4.00 KB)\n"
      ]
     },
     "metadata": {},
     "output_type": "display_data"
    },
    {
     "data": {
      "text/html": [
       "<pre style=\"white-space:pre;overflow-x:auto;line-height:normal;font-family:Menlo,'DejaVu Sans Mono',consolas,'Courier New',monospace\"><span style=\"font-weight: bold\"> Trainable params: </span><span style=\"color: #00af00; text-decoration-color: #00af00\">1,025</span> (4.00 KB)\n",
       "</pre>\n"
      ],
      "text/plain": [
       "\u001b[1m Trainable params: \u001b[0m\u001b[38;5;34m1,025\u001b[0m (4.00 KB)\n"
      ]
     },
     "metadata": {},
     "output_type": "display_data"
    },
    {
     "data": {
      "text/html": [
       "<pre style=\"white-space:pre;overflow-x:auto;line-height:normal;font-family:Menlo,'DejaVu Sans Mono',consolas,'Courier New',monospace\"><span style=\"font-weight: bold\"> Non-trainable params: </span><span style=\"color: #00af00; text-decoration-color: #00af00\">0</span> (0.00 B)\n",
       "</pre>\n"
      ],
      "text/plain": [
       "\u001b[1m Non-trainable params: \u001b[0m\u001b[38;5;34m0\u001b[0m (0.00 B)\n"
      ]
     },
     "metadata": {},
     "output_type": "display_data"
    }
   ],
   "source": [
    "from tensorflow.keras import regularizers\n",
    "\n",
    "# REFACTORED model with these small improvements\n",
    "improved_model = Sequential()\n",
    "\n",
    "# Input layer and first hidden layer\n",
    "improved_model.add(Dense(32, input_dim=X_train.shape[1], activation='relu', kernel_regularizer=regularizers.l2(0.001)))\n",
    "improved_model.add(Dropout(0.4))\n",
    "\n",
    "# Second hidden layer\n",
    "improved_model.add(Dense(16, activation='relu', kernel_regularizer=regularizers.l2(0.001)))\n",
    "improved_model.add(Dropout(0.4))\n",
    "\n",
    "# Output layer\n",
    "improved_model.add(Dense(1, activation='linear'))\n",
    "\n",
    "# Compile the model\n",
    "improved_model.compile(optimizer='adam', loss='mse', metrics=['mae'])\n",
    "\n",
    "# Quick summary to check the changes\n",
    "improved_model.summary()"
   ]
  },
  {
   "cell_type": "code",
   "execution_count": 35,
   "id": "899d495b-e4a4-49e2-9b74-675364b390ab",
   "metadata": {},
   "outputs": [
    {
     "name": "stdout",
     "output_type": "stream",
     "text": [
      "Epoch 1/100\n",
      "\u001b[1m125/125\u001b[0m \u001b[32m━━━━━━━━━━━━━━━━━━━━\u001b[0m\u001b[37m\u001b[0m \u001b[1m5s\u001b[0m 13ms/step - loss: 162636320.0000 - mae: 9316.1143 - val_loss: 437621.4375 - val_mae: 659.8724\n",
      "Epoch 2/100\n",
      "\u001b[1m125/125\u001b[0m \u001b[32m━━━━━━━━━━━━━━━━━━━━\u001b[0m\u001b[37m\u001b[0m \u001b[1m1s\u001b[0m 8ms/step - loss: 16768019.0000 - mae: 3017.9048 - val_loss: 5381.0718 - val_mae: 57.4757\n",
      "Epoch 3/100\n",
      "\u001b[1m125/125\u001b[0m \u001b[32m━━━━━━━━━━━━━━━━━━━━\u001b[0m\u001b[37m\u001b[0m \u001b[1m1s\u001b[0m 7ms/step - loss: 2811383.7500 - mae: 1048.5179 - val_loss: 7484.5444 - val_mae: 73.2393\n",
      "Epoch 4/100\n",
      "\u001b[1m125/125\u001b[0m \u001b[32m━━━━━━━━━━━━━━━━━━━━\u001b[0m\u001b[37m\u001b[0m \u001b[1m1s\u001b[0m 8ms/step - loss: 1164882.8750 - mae: 549.4137 - val_loss: 7484.1260 - val_mae: 73.2365\n",
      "Epoch 5/100\n",
      "\u001b[1m125/125\u001b[0m \u001b[32m━━━━━━━━━━━━━━━━━━━━\u001b[0m\u001b[37m\u001b[0m \u001b[1m1s\u001b[0m 7ms/step - loss: 714910.4375 - mae: 384.4982 - val_loss: 7483.6411 - val_mae: 73.2332\n",
      "Epoch 6/100\n",
      "\u001b[1m125/125\u001b[0m \u001b[32m━━━━━━━━━━━━━━━━━━━━\u001b[0m\u001b[37m\u001b[0m \u001b[1m1s\u001b[0m 7ms/step - loss: 536632.0000 - mae: 306.2095 - val_loss: 7482.7725 - val_mae: 73.2272\n",
      "Epoch 7/100\n",
      "\u001b[1m125/125\u001b[0m \u001b[32m━━━━━━━━━━━━━━━━━━━━\u001b[0m\u001b[37m\u001b[0m \u001b[1m1s\u001b[0m 8ms/step - loss: 547512.0625 - mae: 279.3286 - val_loss: 7481.9023 - val_mae: 73.2213\n"
     ]
    },
    {
     "data": {
      "image/png": "[encoded data removed]",
      "text/plain": [
       "<Figure size 640x480 with 1 Axes>"
      ]
     },
     "metadata": {},
     "output_type": "display_data"
    }
   ],
   "source": [
    "from tensorflow.keras.callbacks import EarlyStopping\n",
    "import matplotlib.pyplot as plt\n",
    "\n",
    "# Setting up early stopping AGAIN\n",
    "early_stopping_improved = EarlyStopping(\n",
    "    monitor='val_loss', \n",
    "    patience=5, \n",
    "    restore_best_weights=True\n",
    ")\n",
    "\n",
    "# Training the improved model\n",
    "improved_history = improved_model.fit(\n",
    "    X_train, y_train,\n",
    "    validation_data=(X_test, y_test),\n",
    "    epochs=100,\n",
    "    batch_size=32,\n",
    "    callbacks=[early_stopping_improved],\n",
    "    verbose=1\n",
    ")\n",
    "\n",
    "# Plotting the training history\n",
    "plt.plot(improved_history.history['loss'], label='Improved Training Loss')\n",
    "plt.plot(improved_history.history['val_loss'], label='Improved Validation Loss')\n",
    "plt.title(\"Improved Training and Validation Loss Over Epochs\")\n",
    "plt.xlabel(\"Epochs\")\n",
    "plt.ylabel(\"Loss (MSE)\")\n",
    "plt.legend()\n",
    "plt.show()"
   ]
  },
  {
   "cell_type": "markdown",
   "id": "9c1ccfae-78e8-4f27-b8cd-dc4e769986be",
   "metadata": {},
   "source": [
    "#### Better Model and What I Noticed\n",
    "- After I changed my model to stop it from overfitting so much, this is what I did:\n",
    "\n",
    "- Less Parameters: Now the model only has 1,025 trainable parameters, which is way less than before. That should help with overfitting FOR THE MODEL.\n",
    "\n",
    "- Simpler Model: I made the model smaller by using fewer layers and fewer nodes, so it’s less likely to just memorize the training data.\n",
    "\n",
    "- Dropout Layers: I kept using dropout layers, which randomly turn off about 30% of the neurons while training. This also helps avoid overfitting following his tutotial earlier.\n",
    "\n",
    "#### What I Noticed During Training (New Model)\n",
    "- Starting Loss: In the first epoch, the loss was still really high, but it dropped fast in the next few epochs. So the model is still learning basic patterns well now.\n",
    "\n",
    "- Validation Loss: This time, the validation loss didn’t go up as quickly as before, but after a few epochs, it still started to increase. That means it’s still overfitting a bit, but maybe not as much.\n",
    "\n",
    "- Training Time: It trained faster now, probably because it has fewer parameters and takes less time per epoch.\n",
    "\n",
    "#### Looking at the Plots\n",
    "- The loss (MSE) line starts low and goes up slowly. It’s not a huge jump, more of a steady rise. That shows the model is still overfitting, but it’s -learning a bit more smoothly.\n",
    "\n",
    "- The epochs line (how training changes over time) starts at 0 and goes up fast, but this time it smooths out more as it gets closer to the end. That might mean the model is getting stable a bit faster."
   ]
  },
  {
   "cell_type": "markdown",
   "id": "f87fbb78-00ed-4f51-9355-812a9db580ee",
   "metadata": {},
   "source": [
    "## **Challenges with the Model**\n",
    "\n",
    "### My Reflection on the Model Reset Problem (Keeping History Issue)\n",
    "\n",
    "When I first trained my neural network model, I noticed something strange. The validation loss and MAE were not resetting between different training runs. The plots also didn’t look like I expected. At first, I didn’t understand why this was happening.\n",
    "\n",
    "After checking many things, I found out that the model was keeping some \"memory\" from earlier runs. I didn’t see this problem in the beginning, so my results were not correct or consistent.\n",
    "\n",
    "After trying different things, I finally found a solution. I needed to add K.clear_session() before creating the model. This command resets everything from the previous model, like weights and settings. After I did this, my model started from scratch each time, and the results became more reliable.\n",
    "\n",
    "This was an important lesson for me. Now I understand that if I don’t reset the model, it will \"remember\" old training, and this gives wrong results. I will remember this for my future machine learning work.\n",
    "\n",
    "### **Note:** \n",
    "***Please, try to run at least once if it fails. Restart again so the model resets...***\n",
    "\n",
    "---"
   ]
  },
  {
   "cell_type": "markdown",
   "id": "ac333ec5-4955-4004-9819-7d6bf2f26d6e",
   "metadata": {},
   "source": [
    "### **6. Adding Random Forest for Comparison** \n",
    "\n",
    "***(As required by the assignment, I am also including a Random Forest model for comparison with my neural network.)***\n",
    "\n",
    "In this part, I'm using a Random Forest Regressor to go along with my neural network model. I wanted to try a more classic machine learning model so I can compare the results, like the assignment asked.\n",
    "\n",
    "I picked Random Forest because it’s a strong and flexible model for regression. It also works better with messy or noisy data compared to something simple like linear regression. Since this dataset has lots of different features, I thought it would be a good fit.\n",
    "\n",
    "#### Link to My Feedback:\n",
    "In my first assignment, I found it hard to manage model complexity and stop overfitting. I learned a lot from that and this time, I wanted to include a stronger model to compare with my neural network. This idea came from a Random Forest example we talked about in class and a tutorial I followed earlier. Also, I made sure to use clean data right from the start, unlike last time.\n",
    "\n",
    "\n",
    "The idea for this came from what I did in my last assignment, where I also used a Random Forest model. I also checked the Scikit-Learn documentation to make sure I did the scaling properly this time (Accessed 17/05/2025).\n",
    "\n"
   ]
  },
  {
   "cell_type": "code",
   "execution_count": null,
   "id": "61025b1d-27bd-4f5f-9267-fa70b483a329",
   "metadata": {},
   "outputs": [],
   "source": []
  },
  {
   "cell_type": "markdown",
   "id": "6719cc83-96a7-4dda-a521-8373a134b30d",
   "metadata": {},
   "source": [
    "### **6.1 Preparing the Data**\n",
    "\n",
    "So, first off, I’m setting up the data here. I’m using the same split between training and testing as I did for the neural network just to keep everything consistent.\n",
    "\n",
    "Like, getting the features (X) and the target (y) from the data. The features are all the columns except for the income, and the target is just the income column. This is what I want my model to learn to predict."
   ]
  },
  {
   "cell_type": "code",
   "execution_count": 43,
   "id": "3d8aa7b5-7daf-405f-8987-8d2b9619ab94",
   "metadata": {},
   "outputs": [],
   "source": [
    "# Getting the features (X) and target (y) for the Random Forest model\n",
    "X_rf = df.drop(columns=[\"Income(Thousands's)\"])\n",
    "y_rf = df[\"Income(Thousands's)\"] "
   ]
  },
  {
   "cell_type": "markdown",
   "id": "23f1aa12-559f-4262-ba60-b9a828fea36f",
   "metadata": {},
   "source": [
    "### **6.2 Splittiing the Data**\n",
    "\n",
    "Now, I’m splitting my data into training and testing sets. I’ll use 70% for training (to teach the model) and 30% for testing (to see how well the model learned). But this time I bit different\n",
    "using variations like 70/30 instead of 80/20 all the time. I want to play with the training and maybe compare them... "
   ]
  },
  {
   "cell_type": "code",
   "execution_count": 44,
   "id": "2481dea6-5a9d-4141-b737-54ffbeda1894",
   "metadata": {},
   "outputs": [],
   "source": [
    "# Splitting the data into 70% training and 30% testing\n",
    "X_train_rf, X_test_rf, y_train_rf, y_test_rf = train_test_split(X_rf, y_rf, test_size=0.3, random_state=42)"
   ]
  },
  {
   "cell_type": "markdown",
   "id": "1e9793cd-0169-4a0c-a0fa-88313acbeac2",
   "metadata": {},
   "source": [
    "### **6.3 Scaling the Data**\n",
    "\n",
    "Next, I’m scaling my data. This mean changing the range of all the features so they are between 0 and 1 etc...\n",
    "\n",
    "This helps some machine learning models, like neural networks, learn faster and avoid getting stuck when running and learning. It’s not always needed for Random Forest, but it can still help for consistency."
   ]
  },
  {
   "cell_type": "code",
   "execution_count": 45,
   "id": "4dfdce5f-c107-469e-9263-3f4bf21f1c2d",
   "metadata": {},
   "outputs": [],
   "source": [
    "# Scaling the data to a 0-1 range\n",
    "scaler_rf = MinMaxScaler() "
   ]
  },
  {
   "cell_type": "markdown",
   "id": "8f6ed0b7-8659-4d0e-ad14-59257cfe8f4a",
   "metadata": {},
   "source": [
    "### **6.4 Fitting and Transforming the Data**\n",
    "Now, I fit the scaler to my training data (learn the min and max values), then I use this to transform both the training and testing data. \n",
    "\n",
    "That is important, I only fit on training data to avoid \"data leakage\" (when info from the test set influences the model during training)."
   ]
  },
  {
   "cell_type": "code",
   "execution_count": 46,
   "id": "76efcd04-3217-4dd2-af15-1204a3e363f6",
   "metadata": {},
   "outputs": [],
   "source": [
    "# Fitting the scaler on the training data and transforming both sets\n",
    "X_train_rf = scaler_rf.fit_transform(X_train_rf)\n",
    "X_test_rf = scaler_rf.transform(X_test_rf)  "
   ]
  },
  {
   "cell_type": "markdown",
   "id": "d1af42f5-1cbf-4436-958d-ac687a853f0e",
   "metadata": {},
   "source": [
    "### **6.5 Converting Back to DataFrames**\n",
    "\n",
    "After the scaling, the data becomes just an array without column names, so I convert it back to a DataFrame. This keeps the column names, which is helpful for debugging later."
   ]
  },
  {
   "cell_type": "code",
   "execution_count": 47,
   "id": "1bf38e3d-e536-4e72-a1cc-cb11f6ff2018",
   "metadata": {},
   "outputs": [],
   "source": [
    "# Converting back to DataFrame to keep the column names\n",
    "X_train_rf = pd.DataFrame(X_train_rf, columns=X_rf.columns)\n",
    "X_test_rf = pd.DataFrame(X_test_rf, columns=X_rf.columns)"
   ]
  },
  {
   "cell_type": "markdown",
   "id": "d5503314-f941-49d9-ad3b-0285261cf3e0",
   "metadata": {},
   "source": [
    "### **6.6 Training the Model**\n",
    "\n",
    "Now, it’s time to train my **Random Forest model**. This is a type of ensemble learning, which means it combines the results of many \"decision trees\" to make better predictions, hopefully... I’m using 100 trees here. A lot of tress by the way!"
   ]
  },
  {
   "cell_type": "code",
   "execution_count": 48,
   "id": "5b90627f-ee80-44ff-b8b1-f472ace10512",
   "metadata": {},
   "outputs": [
    {
     "data": {
      "text/html": [
       "<style>#sk-container-id-1 {\n",
       "  /* Definition of color scheme common for light and dark mode */\n",
       "  --sklearn-color-text: black;\n",
       "  --sklearn-color-line: gray;\n",
       "  /* Definition of color scheme for unfitted estimators */\n",
       "  --sklearn-color-unfitted-level-0: #fff5e6;\n",
       "  --sklearn-color-unfitted-level-1: #f6e4d2;\n",
       "  --sklearn-color-unfitted-level-2: #ffe0b3;\n",
       "  --sklearn-color-unfitted-level-3: chocolate;\n",
       "  /* Definition of color scheme for fitted estimators */\n",
       "  --sklearn-color-fitted-level-0: #f0f8ff;\n",
       "  --sklearn-color-fitted-level-1: #d4ebff;\n",
       "  --sklearn-color-fitted-level-2: #b3dbfd;\n",
       "  --sklearn-color-fitted-level-3: cornflowerblue;\n",
       "\n",
       "  /* Specific color for light theme */\n",
       "  --sklearn-color-text-on-default-background: var(--sg-text-color, var(--theme-code-foreground, var(--jp-content-font-color1, black)));\n",
       "  --sklearn-color-background: var(--sg-background-color, var(--theme-background, var(--jp-layout-color0, white)));\n",
       "  --sklearn-color-border-box: var(--sg-text-color, var(--theme-code-foreground, var(--jp-content-font-color1, black)));\n",
       "  --sklearn-color-icon: #696969;\n",
       "\n",
       "  @media (prefers-color-scheme: dark) {\n",
       "    /* Redefinition of color scheme for dark theme */\n",
       "    --sklearn-color-text-on-default-background: var(--sg-text-color, var(--theme-code-foreground, var(--jp-content-font-color1, white)));\n",
       "    --sklearn-color-background: var(--sg-background-color, var(--theme-background, var(--jp-layout-color0, #111)));\n",
       "    --sklearn-color-border-box: var(--sg-text-color, var(--theme-code-foreground, var(--jp-content-font-color1, white)));\n",
       "    --sklearn-color-icon: #878787;\n",
       "  }\n",
       "}\n",
       "\n",
       "#sk-container-id-1 {\n",
       "  color: var(--sklearn-color-text);\n",
       "}\n",
       "\n",
       "#sk-container-id-1 pre {\n",
       "  padding: 0;\n",
       "}\n",
       "\n",
       "#sk-container-id-1 input.sk-hidden--visually {\n",
       "  border: 0;\n",
       "  clip: rect(1px 1px 1px 1px);\n",
       "  clip: rect(1px, 1px, 1px, 1px);\n",
       "  height: 1px;\n",
       "  margin: -1px;\n",
       "  overflow: hidden;\n",
       "  padding: 0;\n",
       "  position: absolute;\n",
       "  width: 1px;\n",
       "}\n",
       "\n",
       "#sk-container-id-1 div.sk-dashed-wrapped {\n",
       "  border: 1px dashed var(--sklearn-color-line);\n",
       "  margin: 0 0.4em 0.5em 0.4em;\n",
       "  box-sizing: border-box;\n",
       "  padding-bottom: 0.4em;\n",
       "  background-color: var(--sklearn-color-background);\n",
       "}\n",
       "\n",
       "#sk-container-id-1 div.sk-container {\n",
       "  /* jupyter's `normalize.less` sets `[hidden] { display: none; }`\n",
       "     but bootstrap.min.css set `[hidden] { display: none !important; }`\n",
       "     so we also need the `!important` here to be able to override the\n",
       "     default hidden behavior on the sphinx rendered scikit-learn.org.\n",
       "     See: https://github.com/scikit-learn/scikit-learn/issues/21755 */\n",
       "  display: inline-block !important;\n",
       "  position: relative;\n",
       "}\n",
       "\n",
       "#sk-container-id-1 div.sk-text-repr-fallback {\n",
       "  display: none;\n",
       "}\n",
       "\n",
       "div.sk-parallel-item,\n",
       "div.sk-serial,\n",
       "div.sk-item {\n",
       "  /* draw centered vertical line to link estimators */\n",
       "  background-image: linear-gradient(var(--sklearn-color-text-on-default-background), var(--sklearn-color-text-on-default-background));\n",
       "  background-size: 2px 100%;\n",
       "  background-repeat: no-repeat;\n",
       "  background-position: center center;\n",
       "}\n",
       "\n",
       "/* Parallel-specific style estimator block */\n",
       "\n",
       "#sk-container-id-1 div.sk-parallel-item::after {\n",
       "  content: \"\";\n",
       "  width: 100%;\n",
       "  border-bottom: 2px solid var(--sklearn-color-text-on-default-background);\n",
       "  flex-grow: 1;\n",
       "}\n",
       "\n",
       "#sk-container-id-1 div.sk-parallel {\n",
       "  display: flex;\n",
       "  align-items: stretch;\n",
       "  justify-content: center;\n",
       "  background-color: var(--sklearn-color-background);\n",
       "  position: relative;\n",
       "}\n",
       "\n",
       "#sk-container-id-1 div.sk-parallel-item {\n",
       "  display: flex;\n",
       "  flex-direction: column;\n",
       "}\n",
       "\n",
       "#sk-container-id-1 div.sk-parallel-item:first-child::after {\n",
       "  align-self: flex-end;\n",
       "  width: 50%;\n",
       "}\n",
       "\n",
       "#sk-container-id-1 div.sk-parallel-item:last-child::after {\n",
       "  align-self: flex-start;\n",
       "  width: 50%;\n",
       "}\n",
       "\n",
       "#sk-container-id-1 div.sk-parallel-item:only-child::after {\n",
       "  width: 0;\n",
       "}\n",
       "\n",
       "/* Serial-specific style estimator block */\n",
       "\n",
       "#sk-container-id-1 div.sk-serial {\n",
       "  display: flex;\n",
       "  flex-direction: column;\n",
       "  align-items: center;\n",
       "  background-color: var(--sklearn-color-background);\n",
       "  padding-right: 1em;\n",
       "  padding-left: 1em;\n",
       "}\n",
       "\n",
       "\n",
       "/* Toggleable style: style used for estimator/Pipeline/ColumnTransformer box that is\n",
       "clickable and can be expanded/collapsed.\n",
       "- Pipeline and ColumnTransformer use this feature and define the default style\n",
       "- Estimators will overwrite some part of the style using the `sk-estimator` class\n",
       "*/\n",
       "\n",
       "/* Pipeline and ColumnTransformer style (default) */\n",
       "\n",
       "#sk-container-id-1 div.sk-toggleable {\n",
       "  /* Default theme specific background. It is overwritten whether we have a\n",
       "  specific estimator or a Pipeline/ColumnTransformer */\n",
       "  background-color: var(--sklearn-color-background);\n",
       "}\n",
       "\n",
       "/* Toggleable label */\n",
       "#sk-container-id-1 label.sk-toggleable__label {\n",
       "  cursor: pointer;\n",
       "  display: block;\n",
       "  width: 100%;\n",
       "  margin-bottom: 0;\n",
       "  padding: 0.5em;\n",
       "  box-sizing: border-box;\n",
       "  text-align: center;\n",
       "}\n",
       "\n",
       "#sk-container-id-1 label.sk-toggleable__label-arrow:before {\n",
       "  /* Arrow on the left of the label */\n",
       "  content: \"▸\";\n",
       "  float: left;\n",
       "  margin-right: 0.25em;\n",
       "  color: var(--sklearn-color-icon);\n",
       "}\n",
       "\n",
       "#sk-container-id-1 label.sk-toggleable__label-arrow:hover:before {\n",
       "  color: var(--sklearn-color-text);\n",
       "}\n",
       "\n",
       "/* Toggleable content - dropdown */\n",
       "\n",
       "#sk-container-id-1 div.sk-toggleable__content {\n",
       "  max-height: 0;\n",
       "  max-width: 0;\n",
       "  overflow: hidden;\n",
       "  text-align: left;\n",
       "  /* unfitted */\n",
       "  background-color: var(--sklearn-color-unfitted-level-0);\n",
       "}\n",
       "\n",
       "#sk-container-id-1 div.sk-toggleable__content.fitted {\n",
       "  /* fitted */\n",
       "  background-color: var(--sklearn-color-fitted-level-0);\n",
       "}\n",
       "\n",
       "#sk-container-id-1 div.sk-toggleable__content pre {\n",
       "  margin: 0.2em;\n",
       "  border-radius: 0.25em;\n",
       "  color: var(--sklearn-color-text);\n",
       "  /* unfitted */\n",
       "  background-color: var(--sklearn-color-unfitted-level-0);\n",
       "}\n",
       "\n",
       "#sk-container-id-1 div.sk-toggleable__content.fitted pre {\n",
       "  /* unfitted */\n",
       "  background-color: var(--sklearn-color-fitted-level-0);\n",
       "}\n",
       "\n",
       "#sk-container-id-1 input.sk-toggleable__control:checked~div.sk-toggleable__content {\n",
       "  /* Expand drop-down */\n",
       "  max-height: 200px;\n",
       "  max-width: 100%;\n",
       "  overflow: auto;\n",
       "}\n",
       "\n",
       "#sk-container-id-1 input.sk-toggleable__control:checked~label.sk-toggleable__label-arrow:before {\n",
       "  content: \"▾\";\n",
       "}\n",
       "\n",
       "/* Pipeline/ColumnTransformer-specific style */\n",
       "\n",
       "#sk-container-id-1 div.sk-label input.sk-toggleable__control:checked~label.sk-toggleable__label {\n",
       "  color: var(--sklearn-color-text);\n",
       "  background-color: var(--sklearn-color-unfitted-level-2);\n",
       "}\n",
       "\n",
       "#sk-container-id-1 div.sk-label.fitted input.sk-toggleable__control:checked~label.sk-toggleable__label {\n",
       "  background-color: var(--sklearn-color-fitted-level-2);\n",
       "}\n",
       "\n",
       "/* Estimator-specific style */\n",
       "\n",
       "/* Colorize estimator box */\n",
       "#sk-container-id-1 div.sk-estimator input.sk-toggleable__control:checked~label.sk-toggleable__label {\n",
       "  /* unfitted */\n",
       "  background-color: var(--sklearn-color-unfitted-level-2);\n",
       "}\n",
       "\n",
       "#sk-container-id-1 div.sk-estimator.fitted input.sk-toggleable__control:checked~label.sk-toggleable__label {\n",
       "  /* fitted */\n",
       "  background-color: var(--sklearn-color-fitted-level-2);\n",
       "}\n",
       "\n",
       "#sk-container-id-1 div.sk-label label.sk-toggleable__label,\n",
       "#sk-container-id-1 div.sk-label label {\n",
       "  /* The background is the default theme color */\n",
       "  color: var(--sklearn-color-text-on-default-background);\n",
       "}\n",
       "\n",
       "/* On hover, darken the color of the background */\n",
       "#sk-container-id-1 div.sk-label:hover label.sk-toggleable__label {\n",
       "  color: var(--sklearn-color-text);\n",
       "  background-color: var(--sklearn-color-unfitted-level-2);\n",
       "}\n",
       "\n",
       "/* Label box, darken color on hover, fitted */\n",
       "#sk-container-id-1 div.sk-label.fitted:hover label.sk-toggleable__label.fitted {\n",
       "  color: var(--sklearn-color-text);\n",
       "  background-color: var(--sklearn-color-fitted-level-2);\n",
       "}\n",
       "\n",
       "/* Estimator label */\n",
       "\n",
       "#sk-container-id-1 div.sk-label label {\n",
       "  font-family: monospace;\n",
       "  font-weight: bold;\n",
       "  display: inline-block;\n",
       "  line-height: 1.2em;\n",
       "}\n",
       "\n",
       "#sk-container-id-1 div.sk-label-container {\n",
       "  text-align: center;\n",
       "}\n",
       "\n",
       "/* Estimator-specific */\n",
       "#sk-container-id-1 div.sk-estimator {\n",
       "  font-family: monospace;\n",
       "  border: 1px dotted var(--sklearn-color-border-box);\n",
       "  border-radius: 0.25em;\n",
       "  box-sizing: border-box;\n",
       "  margin-bottom: 0.5em;\n",
       "  /* unfitted */\n",
       "  background-color: var(--sklearn-color-unfitted-level-0);\n",
       "}\n",
       "\n",
       "#sk-container-id-1 div.sk-estimator.fitted {\n",
       "  /* fitted */\n",
       "  background-color: var(--sklearn-color-fitted-level-0);\n",
       "}\n",
       "\n",
       "/* on hover */\n",
       "#sk-container-id-1 div.sk-estimator:hover {\n",
       "  /* unfitted */\n",
       "  background-color: var(--sklearn-color-unfitted-level-2);\n",
       "}\n",
       "\n",
       "#sk-container-id-1 div.sk-estimator.fitted:hover {\n",
       "  /* fitted */\n",
       "  background-color: var(--sklearn-color-fitted-level-2);\n",
       "}\n",
       "\n",
       "/* Specification for estimator info (e.g. \"i\" and \"?\") */\n",
       "\n",
       "/* Common style for \"i\" and \"?\" */\n",
       "\n",
       ".sk-estimator-doc-link,\n",
       "a:link.sk-estimator-doc-link,\n",
       "a:visited.sk-estimator-doc-link {\n",
       "  float: right;\n",
       "  font-size: smaller;\n",
       "  line-height: 1em;\n",
       "  font-family: monospace;\n",
       "  background-color: var(--sklearn-color-background);\n",
       "  border-radius: 1em;\n",
       "  height: 1em;\n",
       "  width: 1em;\n",
       "  text-decoration: none !important;\n",
       "  margin-left: 1ex;\n",
       "  /* unfitted */\n",
       "  border: var(--sklearn-color-unfitted-level-1) 1pt solid;\n",
       "  color: var(--sklearn-color-unfitted-level-1);\n",
       "}\n",
       "\n",
       ".sk-estimator-doc-link.fitted,\n",
       "a:link.sk-estimator-doc-link.fitted,\n",
       "a:visited.sk-estimator-doc-link.fitted {\n",
       "  /* fitted */\n",
       "  border: var(--sklearn-color-fitted-level-1) 1pt solid;\n",
       "  color: var(--sklearn-color-fitted-level-1);\n",
       "}\n",
       "\n",
       "/* On hover */\n",
       "div.sk-estimator:hover .sk-estimator-doc-link:hover,\n",
       ".sk-estimator-doc-link:hover,\n",
       "div.sk-label-container:hover .sk-estimator-doc-link:hover,\n",
       ".sk-estimator-doc-link:hover {\n",
       "  /* unfitted */\n",
       "  background-color: var(--sklearn-color-unfitted-level-3);\n",
       "  color: var(--sklearn-color-background);\n",
       "  text-decoration: none;\n",
       "}\n",
       "\n",
       "div.sk-estimator.fitted:hover .sk-estimator-doc-link.fitted:hover,\n",
       ".sk-estimator-doc-link.fitted:hover,\n",
       "div.sk-label-container:hover .sk-estimator-doc-link.fitted:hover,\n",
       ".sk-estimator-doc-link.fitted:hover {\n",
       "  /* fitted */\n",
       "  background-color: var(--sklearn-color-fitted-level-3);\n",
       "  color: var(--sklearn-color-background);\n",
       "  text-decoration: none;\n",
       "}\n",
       "\n",
       "/* Span, style for the box shown on hovering the info icon */\n",
       ".sk-estimator-doc-link span {\n",
       "  display: none;\n",
       "  z-index: 9999;\n",
       "  position: relative;\n",
       "  font-weight: normal;\n",
       "  right: .2ex;\n",
       "  padding: .5ex;\n",
       "  margin: .5ex;\n",
       "  width: min-content;\n",
       "  min-width: 20ex;\n",
       "  max-width: 50ex;\n",
       "  color: var(--sklearn-color-text);\n",
       "  box-shadow: 2pt 2pt 4pt #999;\n",
       "  /* unfitted */\n",
       "  background: var(--sklearn-color-unfitted-level-0);\n",
       "  border: .5pt solid var(--sklearn-color-unfitted-level-3);\n",
       "}\n",
       "\n",
       ".sk-estimator-doc-link.fitted span {\n",
       "  /* fitted */\n",
       "  background: var(--sklearn-color-fitted-level-0);\n",
       "  border: var(--sklearn-color-fitted-level-3);\n",
       "}\n",
       "\n",
       ".sk-estimator-doc-link:hover span {\n",
       "  display: block;\n",
       "}\n",
       "\n",
       "/* \"?\"-specific style due to the `<a>` HTML tag */\n",
       "\n",
       "#sk-container-id-1 a.estimator_doc_link {\n",
       "  float: right;\n",
       "  font-size: 1rem;\n",
       "  line-height: 1em;\n",
       "  font-family: monospace;\n",
       "  background-color: var(--sklearn-color-background);\n",
       "  border-radius: 1rem;\n",
       "  height: 1rem;\n",
       "  width: 1rem;\n",
       "  text-decoration: none;\n",
       "  /* unfitted */\n",
       "  color: var(--sklearn-color-unfitted-level-1);\n",
       "  border: var(--sklearn-color-unfitted-level-1) 1pt solid;\n",
       "}\n",
       "\n",
       "#sk-container-id-1 a.estimator_doc_link.fitted {\n",
       "  /* fitted */\n",
       "  border: var(--sklearn-color-fitted-level-1) 1pt solid;\n",
       "  color: var(--sklearn-color-fitted-level-1);\n",
       "}\n",
       "\n",
       "/* On hover */\n",
       "#sk-container-id-1 a.estimator_doc_link:hover {\n",
       "  /* unfitted */\n",
       "  background-color: var(--sklearn-color-unfitted-level-3);\n",
       "  color: var(--sklearn-color-background);\n",
       "  text-decoration: none;\n",
       "}\n",
       "\n",
       "#sk-container-id-1 a.estimator_doc_link.fitted:hover {\n",
       "  /* fitted */\n",
       "  background-color: var(--sklearn-color-fitted-level-3);\n",
       "}\n",
       "</style><div id=\"sk-container-id-1\" class=\"sk-top-container\"><div class=\"sk-text-repr-fallback\"><pre>RandomForestRegressor(random_state=42)</pre><b>In a Jupyter environment, please rerun this cell to show the HTML representation or trust the notebook. <br />On GitHub, the HTML representation is unable to render, please try loading this page with nbviewer.org.</b></div><div class=\"sk-container\" hidden><div class=\"sk-item\"><div class=\"sk-estimator fitted sk-toggleable\"><input class=\"sk-toggleable__control sk-hidden--visually\" id=\"sk-estimator-id-1\" type=\"checkbox\" checked><label for=\"sk-estimator-id-1\" class=\"sk-toggleable__label fitted sk-toggleable__label-arrow fitted\">&nbsp;&nbsp;RandomForestRegressor<a class=\"sk-estimator-doc-link fitted\" rel=\"noreferrer\" target=\"_blank\" href=\"https://scikit-learn.org/1.5/modules/generated/sklearn.ensemble.RandomForestRegressor.html\">?<span>Documentation for RandomForestRegressor</span></a><span class=\"sk-estimator-doc-link fitted\">i<span>Fitted</span></span></label><div class=\"sk-toggleable__content fitted\"><pre>RandomForestRegressor(random_state=42)</pre></div> </div></div></div></div>"
      ],
      "text/plain": [
       "RandomForestRegressor(random_state=42)"
      ]
     },
     "execution_count": 48,
     "metadata": {},
     "output_type": "execute_result"
    }
   ],
   "source": [
    "# Creating and training the Random Forest model\n",
    "rf_model = RandomForestRegressor(n_estimators=100, random_state=42)\n",
    "rf_model.fit(X_train_rf, y_train_rf) "
   ]
  },
  {
   "cell_type": "markdown",
   "id": "014ee4f5-1629-4c2a-a35b-afcc393ec3ae",
   "metadata": {},
   "source": [
    "In my previous assignments, I always saw this mysterious **blue box** pop up when I ran my training models, but I never really paid much attention to it. In fact, I never bothered ata ll.\n",
    "\n",
    "I just assumed it was some kind of friendly reminder from Python whatver.\n",
    "\n",
    "But this time, I decided to actually dig into it, you know, like a proper data scientist in training.\n",
    "\n",
    "So, after a bit of research, I found out that this blue box is actually a warning message. It’s Python’s way of saying, **“Hey, something’s a bit off here, but I’m gonna let it slide... for now.”**  Maybe an explotion as we used to say in class, but not now... Haha"
   ]
  },
  {
   "cell_type": "markdown",
   "id": "3c6e9063-e129-45b9-b667-eb17ced0efe3",
   "metadata": {},
   "source": [
    "### **6.7 Model Evaluation**\n",
    "Here, I’m calculating three different metrics to check how well my model did:\n",
    "\n",
    "Honestly, I didn’t really plan on doing it this way at first, but after reading that article by **Farshad K**, I realized that I could just adapt the same code he used for MAE and R². I pretty much just swapped out the variable names to match my dataset, changing **y_true** and **y_pred** to **y_test_rf** and **y_pred_rf**, and it worked, I think, as expected."
   ]
  },
  {
   "cell_type": "code",
   "execution_count": 49,
   "id": "4ce333d8-c730-49cf-aa65-154acdb1a23a",
   "metadata": {},
   "outputs": [],
   "source": [
    "# Making predictions on the test set\n",
    "y_pred_rf = rf_model.predict(X_test_rf)\n",
    "\n",
    "# Evaluating the model\n",
    "mse_rf = mean_squared_error(y_test_rf, y_pred_rf)\n",
    "mae_rf = mean_absolute_error(y_test_rf, y_pred_rf)\n",
    "r2_rf = r2_score(y_test_rf, y_pred_rf)"
   ]
  },
  {
   "cell_type": "markdown",
   "id": "716a8d23-ba99-4016-8579-2c8e61ea84f4",
   "metadata": {},
   "source": [
    "### **6.8 Printing The Result:**"
   ]
  },
  {
   "cell_type": "code",
   "execution_count": 63,
   "id": "901154ac-9653-42e1-af0e-19486656dfcf",
   "metadata": {},
   "outputs": [
    {
     "name": "stdout",
     "output_type": "stream",
     "text": [
      "Random Forest Results\n",
      "MSE: 457.2452115166667\n",
      "MAE: 15.553526666666667\n",
      "R2: 0.7910825665986702\n"
     ]
    }
   ],
   "source": [
    "print(\"Random Forest Results\")\n",
    "print(\"MSE:\", mse_rf)\n",
    "print(\"MAE:\", mae_rf)\n",
    "print(\"R2:\", r2_rf)"
   ]
  },
  {
   "cell_type": "markdown",
   "id": "ff1da1f0-28cc-44ac-952c-a38a97138892",
   "metadata": {},
   "source": [
    "***I wasn’t totally sure if this would work the same way, but it seems to be giving me some numbers. Now, I just need to make sense of what these results actually mean and figure out if my model is doing a decent job.***"
   ]
  },
  {
   "cell_type": "markdown",
   "id": "b491b44b-a693-4de7-aa07-7a8c97fa0dd3",
   "metadata": {},
   "source": [
    "\n",
    "### **6.9 Checking the Columns**\n",
    "Here I do a quick check to make sure that the training and testing datasets have the same features. This is important in the machine learning because because if the features (columns) don’t match my model, that could give weird results I dont even know."
   ]
  },
  {
   "cell_type": "code",
   "execution_count": 65,
   "id": "57f23156-8697-4f04-bef2-dfab99d41dcb",
   "metadata": {},
   "outputs": [
    {
     "name": "stdout",
     "output_type": "stream",
     "text": [
      "Train Columns: Index(['Age', 'Experience(Years)', 'Sort Code', 'Family', 'Credit Score',\n",
      "       'Mortgage(Thousands's)', 'Personal Loan', 'Securities Account',\n",
      "       'CD Account', 'Online Banking', 'CreditCard', 'Education_Degree',\n",
      "       'Education_Diploma', 'Education_Masters'],\n",
      "      dtype='object') \n",
      "\n",
      "---------------------------------------------------\n",
      "\n",
      "Test Columns: Index(['Age', 'Experience(Years)', 'Sort Code', 'Family', 'Credit Score',\n",
      "       'Mortgage(Thousands's)', 'Personal Loan', 'Securities Account',\n",
      "       'CD Account', 'Online Banking', 'CreditCard', 'Education_Degree',\n",
      "       'Education_Diploma', 'Education_Masters'],\n",
      "      dtype='object')\n"
     ]
    }
   ],
   "source": [
    "print(\"Train Columns:\", X_train_rf.columns, \"\\n\")\n",
    "\n",
    "print(\"---------------------------------------------------\\n\")\n",
    "\n",
    "print(\"Test Columns:\", X_test_rf.columns)"
   ]
  },
  {
   "cell_type": "code",
   "execution_count": null,
   "id": "18f374f0-7736-4cfe-9b03-2457e8540884",
   "metadata": {},
   "outputs": [],
   "source": []
  },
  {
   "cell_type": "code",
   "execution_count": 40,
   "id": "72a38d9d-51c2-4b91-b1c1-e4bd055f37de",
   "metadata": {},
   "outputs": [
    {
     "name": "stdout",
     "output_type": "stream",
     "text": [
      "\n",
      "Predicted Income (Thousands) for the New Customer: 52.33\n"
     ]
    },
    {
     "name": "stderr",
     "output_type": "stream",
     "text": [
      "C:\\ProgramData\\anaconda3\\Lib\\site-packages\\sklearn\\base.py:493: UserWarning: X does not have valid feature names, but RandomForestRegressor was fitted with feature names\n",
      "  warnings.warn(\n"
     ]
    }
   ],
   "source": []
  },
  {
   "cell_type": "markdown",
   "id": "c557ccdf-dbd7-439f-be0c-3fcc067955ff",
   "metadata": {},
   "source": []
  },
  {
   "cell_type": "markdown",
   "id": "c1124b54-4694-48d2-a469-60bdbb3727a8",
   "metadata": {},
   "source": [
    "# References\n",
    "\n",
    "### Class Materials \n",
    "\n",
    "### Official Documentation \n",
    "- https://pandas.pydata.org/pandas-docs/stable/reference/api/pandas.DataFrame.info.html\n",
    "Accessed 10/05/2025\n",
    "\n",
    "- https://stackoverflow.com/questions/37292872/how-can-i-one-hot-encode-in-python\n",
    "Accessed 13/05/2025\n",
    "\n",
    "- https://datagy.io/pandas-get-dummies/\n",
    "Accessed 13/05/2025\n",
    "\n",
    "\n",
    "- https://medium.com/@thakurviku2003/why-is-the-random-state-42-in-machine-learning-the-answer-is-more-fun-than-you-think-964b0cc61199\n",
    "Accessed 16/05/2025\n",
    "\n",
    "\n",
    "- https://scikit-learn.org/stable/modules/generated/sklearn.model_selection.train_test_split.html\n",
    "Accessed 16/05/2025\n",
    "\n",
    "\n",
    "- https://www.ibm.com/think/topics/overfitting#:~:text=In%20machine%20learning%2C%20overfitting%20occurs,of%20the%20machine%20learning%20model.\n",
    "Accessed 16/05/2025 \n",
    "\n",
    "- https://www.tensorflow.org/guide/keras/sequential_model\n",
    "Accessed 17/05/2025\n",
    "\n",
    "- https://keras.io/guides/sequential_model/\n",
    "Accessed 17/05/2025\n",
    "\n",
    "- https://keras.io/api/callbacks/early_stopping/\n",
    "Accessed 17/05/2025\n",
    "\n",
    "\n",
    "- https://medium.com/%40piyushkashyap045/early-stopping-in-deep-learning-a-simple-guide-to-prevent-overfitting-1073f56b493e\n",
    "Accessed 17/05/2025\n",
    "\n",
    "\n",
    "- https://keras.io/api/models/model_training_apis/\n",
    "Accessed 17/05/2025\n",
    "\n",
    "\n",
    "- https://stackoverflow.com/questions/41908379/keras-plot-training-validation-and-test-set-accuracy\n",
    "Accessed 17/05/2025\n",
    "\n",
    "- https://machinelearningmastery.com/how-to-stop-training-deep-neural-networks-at-the-right-time-using-early-stopping/\n",
    "Accessed 17/05/2025\n",
    "\n",
    "\n",
    "- Scikit-Learn Documentation: https://scikit-learn.org/stable/modules/generated/sklearn.ensemble.RandomForestRegressor.html\n",
    "Accessed 17/05/2025\n",
    "\n",
    "\n",
    "- https://www.datacamp.com/tutorial/random-forests-classifier-python\n",
    "Accessed 19/05/2025"
   ]
  },
  {
   "cell_type": "code",
   "execution_count": null,
   "id": "33f60ee7-c870-4d5d-9e0c-b2c0c0db2bfb",
   "metadata": {},
   "outputs": [],
   "source": []
  },
  {
   "cell_type": "code",
   "execution_count": null,
   "id": "6d701971-4d2a-47e0-a3a7-14f07d704a60",
   "metadata": {},
   "outputs": [],
   "source": []
  }
 ],
 "metadata": {
  "kernelspec": {
   "display_name": "Python 3 (ipykernel)",
   "language": "python",
   "name": "python3"
  },
  "language_info": {
   "codemirror_mode": {
    "name": "ipython",
    "version": 3
   },
   "file_extension": ".py",
   "mimetype": "text/x-python",
   "name": "python",
   "nbconvert_exporter": "python",
   "pygments_lexer": "ipython3",
   "version": "3.12.7"
  }
 },
 "nbformat": 4,
 "nbformat_minor": 5
}
