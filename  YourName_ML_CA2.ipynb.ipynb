{
 "cells": [
  {
   "cell_type": "markdown",
   "id": "f3d232c9-489a-41f4-8078-e1208e8cc017",
   "metadata": {},
   "source": [
    "# Machine Learning Module, Data Analysis \n",
    "----------------------------------------\n",
    "\n",
    "- **Student Name:** `Franklin Arruda Cirino`\n",
    "- **Student Number:** `2021368`\n",
    "\n",
    "\n",
    "#### **Quick Notes:**  \n",
    " - Same as the first assignment, I am still catching up due to personal circumstances, having me to leave class a bit earlier than usual, relfecting on the learning and explation in class, however I have been reading the notes afterward, and this time I want to address the feedback directly and take to account the points made previously.\n",
    "   \n",
    " - The feedback mentioned that I should explain the **WHY** behind my choices more clearly, so I am making an effort to do that here.  \n"
   ]
  },
  {
   "cell_type": "markdown",
   "id": "04ca8c7b-2eca-4361-a796-49cf292a9622",
   "metadata": {},
   "source": [
    "## Part 1: Loading dataset and exploring it"
   ]
  },
  {
   "cell_type": "code",
   "execution_count": 59,
   "id": "77d1eeb1-9eb4-4486-a7e3-2349ab9821ed",
   "metadata": {},
   "outputs": [],
   "source": [
    "# Importing libraries\n",
    "import pandas as pd\n",
    "import numpy as np"
   ]
  },
  {
   "cell_type": "markdown",
   "id": "ee8798fa-c6ef-4d54-9b8d-fc57e75ea4cf",
   "metadata": {},
   "source": [
    "#### loading dataset\n",
    "This step is inspired by the Titanic notebook used in class, but I adapted again for this project."
   ]
  },
  {
   "cell_type": "code",
   "execution_count": 60,
   "id": "ae44cf40-c240-47e8-be26-47a233d8bd75",
   "metadata": {},
   "outputs": [],
   "source": [
    "# Loading the dataset (BankRecords.csv)\n",
    "df = pd.read_csv(r\"C:\\Users\\STUDENT\\Desktop\\ML-CA2-50\\BankRecords.csv\")"
   ]
  },
  {
   "cell_type": "markdown",
   "id": "9b0ccc24-da1f-471c-bab5-f0c535fd1cc5",
   "metadata": {},
   "source": [
    "#### Shape of the Dataset"
   ]
  },
  {
   "cell_type": "code",
   "execution_count": 61,
   "id": "97485bfb-d36b-446e-9c28-8ab4a711f727",
   "metadata": {},
   "outputs": [
    {
     "name": "stdout",
     "output_type": "stream",
     "text": [
      "\n",
      "Dataset Shape:\n",
      "(5000, 14)\n"
     ]
    }
   ],
   "source": [
    "# Checking shape of the dataset to understand the size\n",
    "print(\"\\nDataset Shape:\")\n",
    "print(df.shape) "
   ]
  },
  {
   "cell_type": "markdown",
   "id": "ea6d97c3-2ec4-4fae-b848-ef1e04bfdcbf",
   "metadata": {},
   "source": [
    "#### Sample rows OF dataset and cheking import was successful "
   ]
  },
  {
   "cell_type": "code",
   "execution_count": 62,
   "id": "5c7a24ca-b6e8-49aa-bd7c-3baab0bc21de",
   "metadata": {},
   "outputs": [
    {
     "name": "stdout",
     "output_type": "stream",
     "text": [
      "\n",
      "Sample of the Data:\n",
      "   ID  Age  Experience(Years)  Income(Thousands's)  Sort Code  Family  \\\n",
      "0   1   25                  1                   49      91107       4   \n",
      "1   2   45                 19                   34      90089       3   \n",
      "2   3   39                 15                   11      94720       1   \n",
      "3   4   35                  9                  100      94112       1   \n",
      "4   5   35                  8                   45      91330       4   \n",
      "\n",
      "   Credit Score Education  Mortgage(Thousands's) Personal Loan  \\\n",
      "0           1.6   Diploma                      0            No   \n",
      "1           1.5   Diploma                      0            No   \n",
      "2           1.0   Diploma                      0            No   \n",
      "3           2.7    Degree                      0            No   \n",
      "4           1.0    Degree                      0            No   \n",
      "\n",
      "  Securities Account CD Account Online Banking CreditCard  \n",
      "0                Yes         No             No         No  \n",
      "1                Yes         No             No         No  \n",
      "2                 No         No             No         No  \n",
      "3                 No         No             No         No  \n",
      "4                 No         No             No        Yes  \n"
     ]
    }
   ],
   "source": [
    "# Displaying a sample of the dataset\n",
    "print(\"\\nSample of the Data:\")\n",
    "print(df.head())  "
   ]
  },
  {
   "cell_type": "markdown",
   "id": "83d48519-e470-4ce3-8e02-f753b4a40785",
   "metadata": {},
   "source": [
    "---\n",
    "\n",
    "### Checking Missing Values and Data Types, and memory usage:\n",
    "This is an improvement from my first assignment, where I overlooked the impact of **NaNs** until later on the project.\n",
    "\n",
    "Like, In my first assignment, I delayed checking for missing values and data types, which led to issues when training my models. This time, I am prioritizing this step to avoid similar mistakes because The feedback emphasized the importance of understanding the structure of the data early during the porject. Which would help me avoid the **\"late detection\"** problem I faced in my first assignment.\n",
    "\n",
    "During the research on how to make the initial steps better I also bumped into a very interesting thing about memory usage whhich can help larger datasets not be interrupted during the model training, therefore, avoiding being out of memory errors. \n",
    "\n",
    "Checking data types and memory usage taken from pandas documentation: (https://pandas.pydata.org/pandas-docs/stable/reference/api/pandas.DataFrame.info.html)\n",
    "\n"
   ]
  },
  {
   "cell_type": "markdown",
   "id": "048d316a-b3bf-4705-abb1-14a6c40011bb",
   "metadata": {},
   "source": [
    "##### Data Types and Memory Usage"
   ]
  },
  {
   "cell_type": "code",
   "execution_count": 63,
   "id": "123ef706-a54a-4424-9bff-f77627b53f27",
   "metadata": {},
   "outputs": [
    {
     "name": "stdout",
     "output_type": "stream",
     "text": [
      "\n",
      "Data Types and Memory Usage:\n",
      "<class 'pandas.core.frame.DataFrame'>\n",
      "RangeIndex: 5000 entries, 0 to 4999\n",
      "Data columns (total 14 columns):\n",
      " #   Column                 Non-Null Count  Dtype  \n",
      "---  ------                 --------------  -----  \n",
      " 0   ID                     5000 non-null   int64  \n",
      " 1   Age                    5000 non-null   int64  \n",
      " 2   Experience(Years)      5000 non-null   int64  \n",
      " 3   Income(Thousands's)    5000 non-null   int64  \n",
      " 4   Sort Code              5000 non-null   int64  \n",
      " 5   Family                 5000 non-null   int64  \n",
      " 6   Credit Score           5000 non-null   float64\n",
      " 7   Education              5000 non-null   object \n",
      " 8   Mortgage(Thousands's)  5000 non-null   int64  \n",
      " 9   Personal Loan          5000 non-null   object \n",
      " 10  Securities Account     5000 non-null   object \n",
      " 11  CD Account             5000 non-null   object \n",
      " 12  Online Banking         5000 non-null   object \n",
      " 13  CreditCard             5000 non-null   object \n",
      "dtypes: float64(1), int64(7), object(6)\n",
      "memory usage: 547.0+ KB\n",
      "None\n"
     ]
    }
   ],
   "source": [
    "# Checking data types and overall structure\n",
    "\n",
    "print(\"\\nData Types and Memory Usage:\")\n",
    "df_info = df.info()  # Checking data types and memory usage here...\n",
    "print(df_info)"
   ]
  },
  {
   "cell_type": "markdown",
   "id": "01827e65-bc05-46d6-b738-1adde8810116",
   "metadata": {},
   "source": [
    "##### Missing Values "
   ]
  },
  {
   "cell_type": "code",
   "execution_count": 64,
   "id": "2b20b411-46b8-4d4e-a24a-f7ef7ac042dc",
   "metadata": {},
   "outputs": [
    {
     "name": "stdout",
     "output_type": "stream",
     "text": [
      "\n",
      "Missing Values:\n",
      "ID                       0\n",
      "Age                      0\n",
      "Experience(Years)        0\n",
      "Income(Thousands's)      0\n",
      "Sort Code                0\n",
      "Family                   0\n",
      "Credit Score             0\n",
      "Education                0\n",
      "Mortgage(Thousands's)    0\n",
      "Personal Loan            0\n",
      "Securities Account       0\n",
      "CD Account               0\n",
      "Online Banking           0\n",
      "CreditCard               0\n",
      "dtype: int64\n"
     ]
    }
   ],
   "source": [
    "# Checking for missing values in each column this time\n",
    "print(\"\\nMissing Values:\")\n",
    "missing_values = df.isnull().sum()\n",
    "print(missing_values)"
   ]
  },
  {
   "cell_type": "markdown",
   "id": "62995a14-33ee-49ca-a9e0-27a4b1814a86",
   "metadata": {},
   "source": [
    "#### Dropping the 'ID' column since it's just an identifier\n",
    "\n",
    "I removed the 'ID' column because it’s just a number to identify each person. It doesn’t help the model learn anything, so I don’t need it."
   ]
  },
  {
   "cell_type": "code",
   "execution_count": 65,
   "id": "37190a64-233d-4d9c-941e-5d4fc80bac71",
   "metadata": {},
   "outputs": [
    {
     "name": "stdout",
     "output_type": "stream",
     "text": [
      "\n",
      "Dropping the 'ID' column...\n"
     ]
    }
   ],
   "source": [
    "print(\"\\nDropping the 'ID' column...\")\n",
    "df.drop(columns=['ID'], inplace=True)"
   ]
  },
  {
   "cell_type": "markdown",
   "id": "548c1d60-71c2-4f39-9876-f045ac3bd47c",
   "metadata": {},
   "source": [
    "#### Verifying the data after dropping 'ID'"
   ]
  },
  {
   "cell_type": "code",
   "execution_count": 66,
   "id": "21532854-851c-4eca-91df-6f4ae1663e3a",
   "metadata": {},
   "outputs": [
    {
     "name": "stdout",
     "output_type": "stream",
     "text": [
      "\n",
      "Data after dropping 'ID':\n",
      "   Age  Experience(Years)  Income(Thousands's)  Sort Code  Family  \\\n",
      "0   25                  1                   49      91107       4   \n",
      "1   45                 19                   34      90089       3   \n",
      "2   39                 15                   11      94720       1   \n",
      "3   35                  9                  100      94112       1   \n",
      "4   35                  8                   45      91330       4   \n",
      "\n",
      "   Credit Score Education  Mortgage(Thousands's) Personal Loan  \\\n",
      "0           1.6   Diploma                      0            No   \n",
      "1           1.5   Diploma                      0            No   \n",
      "2           1.0   Diploma                      0            No   \n",
      "3           2.7    Degree                      0            No   \n",
      "4           1.0    Degree                      0            No   \n",
      "\n",
      "  Securities Account CD Account Online Banking CreditCard  \n",
      "0                Yes         No             No         No  \n",
      "1                Yes         No             No         No  \n",
      "2                 No         No             No         No  \n",
      "3                 No         No             No         No  \n",
      "4                 No         No             No        Yes  \n"
     ]
    }
   ],
   "source": [
    "print(\"\\nData after dropping 'ID':\")\n",
    "print(df.head())"
   ]
  },
  {
   "cell_type": "markdown",
   "id": "c5023eb9-816e-4411-a0c9-985421088859",
   "metadata": {},
   "source": [
    "#### Binary encoding for 'Yes'/'No' columns\n",
    "\n",
    "These columns have \"Yes\" and \"No\" answers. I changed them to 1 for Yes and 0 for No. This is because computers work better with numbers..haha"
   ]
  },
  {
   "cell_type": "code",
   "execution_count": 67,
   "id": "a3f04c31-6111-4f4d-bc59-cd8b13ee2df7",
   "metadata": {},
   "outputs": [
    {
     "name": "stderr",
     "output_type": "stream",
     "text": [
      "C:\\Users\\STUDENT\\AppData\\Local\\Temp\\ipykernel_8996\\115265984.py:2: FutureWarning: Downcasting behavior in `replace` is deprecated and will be removed in a future version. To retain the old behavior, explicitly call `result.infer_objects(copy=False)`. To opt-in to the future behavior, set `pd.set_option('future.no_silent_downcasting', True)`\n",
      "  df[binary_cols] = df[binary_cols].replace({'No': 0, 'Yes': 1}).astype(int)\n"
     ]
    }
   ],
   "source": [
    "binary_cols = ['Personal Loan', 'Securities Account', 'CD Account', 'Online Banking', 'CreditCard']\n",
    "df[binary_cols] = df[binary_cols].replace({'No': 0, 'Yes': 1}).astype(int)"
   ]
  },
  {
   "cell_type": "markdown",
   "id": "8d37a1e3-9b7d-4f79-8ff0-81cd9e40caf5",
   "metadata": {},
   "source": [
    "#### Verifying the binary encoding\n",
    "\n",
    "I printed the first few rows to check if the Yes/No values changed correctly into 1 and 0."
   ]
  },
  {
   "cell_type": "code",
   "execution_count": 68,
   "id": "a06e3c68-9469-428c-ad9e-3bd6e5bf0c64",
   "metadata": {},
   "outputs": [
    {
     "name": "stdout",
     "output_type": "stream",
     "text": [
      "\n",
      "Sample of Binary Encoding:\n",
      "   Personal Loan  Securities Account  CD Account  Online Banking  CreditCard\n",
      "0              0                   1           0               0           0\n",
      "1              0                   1           0               0           0\n",
      "2              0                   0           0               0           0\n",
      "3              0                   0           0               0           0\n",
      "4              0                   0           0               0           1\n"
     ]
    }
   ],
   "source": [
    "print(\"\\nSample of Binary Encoding:\")\n",
    "print(df[binary_cols].head())"
   ]
  },
  {
   "cell_type": "markdown",
   "id": "ffc89db5-376f-43fa-ba1e-5dbc7745b805",
   "metadata": {},
   "source": [
    "#### One-Hot Encoding for the 'Education' column\n",
    "This is a nominal categorical feature, so one hot encoding might be appropriate here.\n",
    "\n",
    "I checked what different types of education are in the data, and how many people are in each group."
   ]
  },
  {
   "cell_type": "code",
   "execution_count": 69,
   "id": "0febd005-6ee7-4461-90fc-4382eb8084ce",
   "metadata": {},
   "outputs": [
    {
     "name": "stdout",
     "output_type": "stream",
     "text": [
      "\n",
      "Unique Values in 'Education':\n",
      "Education\n",
      "Diploma    2096\n",
      "Masters    1501\n",
      "Degree     1403\n",
      "Name: count, dtype: int64\n"
     ]
    }
   ],
   "source": [
    "print(\"\\nUnique Values in 'Education':\")\n",
    "print(df['Education'].value_counts())\n",
    "\n",
    "# I changed the 'Education' column into new columns with numbers. \n",
    "# Each new column is for one type of education. \n",
    "# I used drop_first=True so I don’t repeat the same info.\n",
    "df = pd.get_dummies(df, columns=['Education'], drop_first=False)"
   ]
  },
  {
   "cell_type": "markdown",
   "id": "020cadd7-b025-4b97-9bbd-f451169f469f",
   "metadata": {},
   "source": [
    "#### Converting the one-hot encoded columns to integers\n",
    "This avoids any future issues with boolean data types."
   ]
  },
  {
   "cell_type": "code",
   "execution_count": 70,
   "id": "8fca65ee-cf41-4b56-ba4e-9dfaeee8b839",
   "metadata": {},
   "outputs": [],
   "source": [
    "education_cols = [col for col in df.columns if 'Education_' in col]\n",
    "df[education_cols] = df[education_cols].astype(int)"
   ]
  },
  {
   "cell_type": "markdown",
   "id": "5b4b2f97-086c-4346-9df6-5a1ce8d2b4a2",
   "metadata": {},
   "source": [
    "#### Verifying the one-hot encoding , final check for the shape and Printing the columns before and after encoding for verification"
   ]
  },
  {
   "cell_type": "code",
   "execution_count": 73,
   "id": "fc01f5af-521f-4c14-b9b0-47bd00f7563b",
   "metadata": {},
   "outputs": [
    {
     "name": "stdout",
     "output_type": "stream",
     "text": [
      "\n",
      "Data after One-Hot Encoding 'Education':\n",
      "   Age  Experience(Years)  Income(Thousands's)  Sort Code  Family  \\\n",
      "0   25                  1                   49      91107       4   \n",
      "1   45                 19                   34      90089       3   \n",
      "2   39                 15                   11      94720       1   \n",
      "3   35                  9                  100      94112       1   \n",
      "4   35                  8                   45      91330       4   \n",
      "\n",
      "   Credit Score  Mortgage(Thousands's)  Personal Loan  Securities Account  \\\n",
      "0           1.6                      0              0                   1   \n",
      "1           1.5                      0              0                   1   \n",
      "2           1.0                      0              0                   0   \n",
      "3           2.7                      0              0                   0   \n",
      "4           1.0                      0              0                   0   \n",
      "\n",
      "   CD Account  Online Banking  CreditCard  Education_Degree  \\\n",
      "0           0               0           0                 0   \n",
      "1           0               0           0                 0   \n",
      "2           0               0           0                 0   \n",
      "3           0               0           0                 1   \n",
      "4           0               0           1                 1   \n",
      "\n",
      "   Education_Diploma  Education_Masters  \n",
      "0                  1                  0  \n",
      "1                  1                  0  \n",
      "2                  1                  0  \n",
      "3                  0                  0  \n",
      "4                  0                  0  \n"
     ]
    }
   ],
   "source": [
    "# Verifying the one-hot encoding\n",
    "print(\"\\nData after One-Hot Encoding 'Education':\")\n",
    "print(df.head())"
   ]
  },
  {
   "cell_type": "code",
   "execution_count": 74,
   "id": "a71a4a4a-eb8c-4710-912f-d59412a48c75",
   "metadata": {},
   "outputs": [
    {
     "name": "stdout",
     "output_type": "stream",
     "text": [
      "\n",
      "Dataset Shape After Encoding and Cleaning:\n",
      "(5000, 15)\n"
     ]
    }
   ],
   "source": [
    "# Printing all shape \n",
    "print(\"\\nDataset Shape After Encoding and Cleaning:\")\n",
    "print(df.shape)"
   ]
  },
  {
   "cell_type": "code",
   "execution_count": 75,
   "id": "7737c30c-b9de-4156-b1f7-a4f1cdff971e",
   "metadata": {},
   "outputs": [
    {
     "name": "stdout",
     "output_type": "stream",
     "text": [
      "\n",
      "Columns After One-Hot Encoding:\n",
      "Index(['Age', 'Experience(Years)', 'Income(Thousands's)', 'Sort Code',\n",
      "       'Family', 'Credit Score', 'Mortgage(Thousands's)', 'Personal Loan',\n",
      "       'Securities Account', 'CD Account', 'Online Banking', 'CreditCard',\n",
      "       'Education_Degree', 'Education_Diploma', 'Education_Masters'],\n",
      "      dtype='object')\n"
     ]
    }
   ],
   "source": [
    "# Printing the columns \n",
    "print(\"\\nColumns After One-Hot Encoding:\")\n",
    "print(df.columns)"
   ]
  },
  {
   "cell_type": "code",
   "execution_count": null,
   "id": "b67fdbba-d62b-4ebf-95fc-ea2d4c0c15d6",
   "metadata": {},
   "outputs": [],
   "source": [
    "\n"
   ]
  },
  {
   "cell_type": "code",
   "execution_count": 76,
   "id": "2d1b9768-aeee-45c7-b8ae-e7827e74d8c1",
   "metadata": {},
   "outputs": [
    {
     "name": "stdout",
     "output_type": "stream",
     "text": [
      "\n",
      "Checking for Missing Values After Cleanup:\n",
      "Age                      0\n",
      "Experience(Years)        0\n",
      "Income(Thousands's)      0\n",
      "Sort Code                0\n",
      "Family                   0\n",
      "Credit Score             0\n",
      "Mortgage(Thousands's)    0\n",
      "Personal Loan            0\n",
      "Securities Account       0\n",
      "CD Account               0\n",
      "Online Banking           0\n",
      "CreditCard               0\n",
      "Education_Degree         0\n",
      "Education_Diploma        0\n",
      "Education_Masters        0\n",
      "dtype: int64\n"
     ]
    }
   ],
   "source": [
    "print(\"\\nChecking for Missing Values After Cleanup:\")\n",
    "print(df.isnull().sum())"
   ]
  },
  {
   "cell_type": "markdown",
   "id": "56108897-4c1e-401e-a555-9a43bde90fe5",
   "metadata": {},
   "source": [
    "### Summury of Dta Cleanup and Encoding \n",
    "\n",
    "- First, they removed the 'ID' column because it's just a label and not useful for the analysis. Then, I changed some yes/no columns into 0 and 1 to make them easier for the computer to understand. After that, it showed a quick sample to check if that worked.\n",
    "\n",
    "- After that, I looked at the 'Education' column and used one-hot encoding to turn it into multiple columns with numbers. I skipped the first category to avoid duplicate info.\n",
    "\n",
    "- At the end, I printed out the shape of the data and the column names to see how everything changed after the cleaning and encoding."
   ]
  },
  {
   "cell_type": "code",
   "execution_count": null,
   "id": "ec1dbb03-e744-463e-ad4e-425211d9c2e9",
   "metadata": {},
   "outputs": [],
   "source": []
  },
  {
   "cell_type": "markdown",
   "id": "c1124b54-4694-48d2-a469-60bdbb3727a8",
   "metadata": {},
   "source": [
    "---\n",
    "\n",
    "I am adding references as I go to simplify the final formating for me....\n",
    "\n",
    "# References\n",
    "\n",
    "### Class Materials  \n",
    "\n",
    "### Official Documentation \n",
    "- https://pandas.pydata.org/pandas-docs/stable/reference/api/pandas.DataFrame.info.html\n",
    "Accessed 10/05/2025\n",
    "\n",
    "- https://stackoverflow.com/questions/37292872/how-can-i-one-hot-encode-in-python\n",
    "Accessed 13/05/2025\n",
    "\n",
    "- https://datagy.io/pandas-get-dummies/\n",
    "Accessed 13/05/2025\n",
    "\n",
    "\n",
    "\n",
    "\n"
   ]
  },
  {
   "cell_type": "code",
   "execution_count": null,
   "id": "33f60ee7-c870-4d5d-9e0c-b2c0c0db2bfb",
   "metadata": {},
   "outputs": [],
   "source": []
  }
 ],
 "metadata": {
  "kernelspec": {
   "display_name": "Python 3 (ipykernel)",
   "language": "python",
   "name": "python3"
  },
  "language_info": {
   "codemirror_mode": {
    "name": "ipython",
    "version": 3
   },
   "file_extension": ".py",
   "mimetype": "text/x-python",
   "name": "python",
   "nbconvert_exporter": "python",
   "pygments_lexer": "ipython3",
   "version": "3.12.7"
  }
 },
 "nbformat": 4,
 "nbformat_minor": 5
}
